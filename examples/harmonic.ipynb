{
 "cells": [
  {
   "cell_type": "code",
   "execution_count": 146,
   "metadata": {},
   "outputs": [],
   "source": [
    "import torch\n",
    "import numpy as np\n",
    "from torch import nn, optim\n",
    "from torch.distributions import Normal, Bernoulli\n",
    "import matplotlib.pyplot as plt\n",
    "from tqdm import tqdm as tqdm\n",
    "import matplotlib.pyplot as plt"
   ]
  },
  {
   "cell_type": "code",
   "execution_count": 2,
   "metadata": {},
   "outputs": [],
   "source": [
    "LOGPI = np.log(np.pi)"
   ]
  },
  {
   "cell_type": "code",
   "execution_count": 140,
   "metadata": {},
   "outputs": [],
   "source": [
    "class HarmonicTrialFunction(nn.Module):\n",
    "    def __init__(self, alpha):\n",
    "        super(HarmonicTrialFunction, self).__init__()\n",
    "        self.alpha = nn.Parameter(torch.tensor(alpha))\n",
    "    \n",
    "    def forward(self, x):\n",
    "        # outputs logprob\n",
    "        # 2.0 * because it's |\\Psi|^2\n",
    "        return 2.0 * ( 0.5*torch.log(self.alpha) - 0.25*LOGPI - 0.5*x*x*self.alpha*self.alpha )\n",
    "\n",
    "    def local_energy(self, x):\n",
    "        return self.alpha*self.alpha + (x*x) * (1.0 - self.alpha**4.0)"
   ]
  },
  {
   "cell_type": "code",
   "execution_count": 141,
   "metadata": {},
   "outputs": [],
   "source": [
    "class HydrogenTrialWavefunction(nn.Module):\n",
    "    def __init__(self, alpha):\n",
    "        super(HydrogenTrialWavefunction, self).__init__()\n",
    "        self.alpha = nn.Parameter(torch.tensor(alpha))\n",
    "    \n",
    "    def forward(self, x):\n",
    "        # outputs logprob\n",
    "        # 2.0 * because it's |\\Psi|^2\n",
    "        return 2.0 * ( torch.log(self.alpha) + torch.log(x) - self.alpha*x )\n",
    "\n",
    "    def local_energy(self, x):\n",
    "        return -(1.0/x) - (self.alpha /2)*(self.alpha - (2.0/x))"
   ]
  },
  {
   "cell_type": "markdown",
   "metadata": {},
   "source": [
    "$$\\log |\\Psi(x)|^2$$"
   ]
  },
  {
   "cell_type": "code",
   "execution_count": 4,
   "metadata": {},
   "outputs": [],
   "source": [
    "def true_mean_energy(alpha):\n",
    "    return ((alpha**2)/2) + (1.0/(2*(alpha**2)))\n",
    "def true_variance(alpha):\n",
    "    return ((alpha**4 - 1)**2)/(2*alpha**4)"
   ]
  },
  {
   "cell_type": "code",
   "execution_count": 5,
   "metadata": {},
   "outputs": [],
   "source": [
    "def normal_proposal(old_point):\n",
    "    # symmetric\n",
    "    return Normal(old_point, 0.3*torch.ones_like(old_point)).sample()"
   ]
  },
  {
   "cell_type": "code",
   "execution_count": 114,
   "metadata": {},
   "outputs": [],
   "source": [
    "def clip_normal_proposal(old_point):\n",
    "    samp = Normal(old_point, 0.3*torch.ones_like(old_point)).sample()\n",
    "    samp.clamp_min_(0.0)\n",
    "    return samp"
   ]
  },
  {
   "cell_type": "code",
   "execution_count": 49,
   "metadata": {},
   "outputs": [],
   "source": [
    "def symmetric_mh_acceptance_ratio(logprob, old_config, new_config):\n",
    "    logacc = torch.min(torch.tensor(0.0), logprob(new_config) - logprob(old_config))\n",
    "    return torch.exp(logacc)\n",
    "\n",
    "def asymmetric_mh_acceptance_ratio(logprob, new_old_logprob, old_new_logprob, old_config, new_config):\n",
    "    logacc = torch.min(torch.tensor(0.0), logprob(new_config) + \n",
    "                       old_new_logprob\n",
    "                       - logprob(old_config)\n",
    "                      - new_old_logprob)\n",
    "    return torch.exp(logacc)"
   ]
  },
  {
   "cell_type": "code",
   "execution_count": 50,
   "metadata": {},
   "outputs": [],
   "source": [
    "# def metropolis(trialfunc, proposal,num_steps=100):\n",
    "#     config = torch.zeros(1)\n",
    "#     all_configs = []\n",
    "#     for step in range(num_steps):\n",
    "#         next_config = proposal(config)\n",
    "#         with torch.no_grad():\n",
    "#             acc = mh_acceptance_ratio(trialfunc, config, next_config)\n",
    "#         rand_val = np.random.rand()\n",
    "#         if rand_val <= acc:\n",
    "#             config = next_config\n",
    "#         all_configs.append(config.clone()) # can we skip clone here?\n",
    "#     return torch.stack(all_configs)"
   ]
  },
  {
   "cell_type": "code",
   "execution_count": 129,
   "metadata": {},
   "outputs": [],
   "source": [
    "def metropolis_symmetric(trialfunc, proposal, num_walkers=2,num_steps=100, init_val=0.0):\n",
    "    # with more walkers\n",
    "    # design choice: walkers are always the batch dim\n",
    "    config = torch.full((num_walkers, 1), init_val)\n",
    "    all_configs = []\n",
    "    for step in tqdm(range(num_steps)):\n",
    "        next_config = proposal(config)\n",
    "        with torch.no_grad():\n",
    "            acc = symmetric_mh_acceptance_ratio(trialfunc, config, next_config)\n",
    "        # acc shape should be (num_walkers, 1)\n",
    "            accept_or_reject = Bernoulli(acc).sample() # accept is 1, reject is 0\n",
    "            config = accept_or_reject*next_config + (1.0 - accept_or_reject)*config\n",
    "            all_configs.append(config.clone()) # can we skip clone here?\n",
    "    return torch.stack(all_configs, dim=1) # dim=1 to make walkers be the batch dim"
   ]
  },
  {
   "cell_type": "code",
   "execution_count": 52,
   "metadata": {},
   "outputs": [],
   "source": [
    "def metropolis_asymmetric(trialfunc, proposal, num_walkers=2,num_steps=100):\n",
    "    # with more walkers\n",
    "    # design choice: walkers are always the batch dim\n",
    "    config = torch.zeros(num_walkers, 1)\n",
    "    all_configs = []\n",
    "    for step in range(num_steps):\n",
    "        next_config, next_current_logprob, current_next_logprob = proposal(config)\n",
    "        with torch.no_grad():\n",
    "            acc = asymmetric_mh_acceptance_ratio(trialfunc, \n",
    "                                                 next_current_logprob, \n",
    "                                                 current_next_logprob,\n",
    "                                                 config, next_config)\n",
    "            # acc shape should be (num_walkers, 1)\n",
    "            accept_or_reject = Bernoulli(acc).sample() # accept is 1, reject is 0\n",
    "            config = accept_or_reject*next_config + (1.0 - accept_or_reject)*config\n",
    "            all_configs.append(config.clone()) # can we skip clone here?\n",
    "    return torch.stack(all_configs, dim=1) # dim=1 to make walkers be the batch dim"
   ]
  },
  {
   "cell_type": "code",
   "execution_count": 53,
   "metadata": {},
   "outputs": [],
   "source": [
    "def unadjusted_langevin(trialfunc, num_walkers=2, num_steps=100, eta=0.01):\n",
    "    # seems hard to get this to converge\n",
    "    config = torch.zeros(num_walkers, 1, requires_grad=True)\n",
    "    grad_out = torch.ones_like(config, requires_grad=False)\n",
    "    brownian_dist = Normal(torch.zeros_like(config, requires_grad=False),\n",
    "                          torch.ones_like(config, requires_grad=False))\n",
    "    all_configs = []\n",
    "    for step in range(num_steps):\n",
    "        # next config is from Langevin proposal (grad of logprob + gaussian noise)\n",
    "        curr_config_logprobs = trialfunc(config)\n",
    "        grads, = torch.autograd.grad(curr_config_logprobs,\n",
    "                                    config,\n",
    "                                    grad_outputs=grad_out,\n",
    "                                    retain_graph=False)\n",
    "        with torch.no_grad():\n",
    "            next_config = config + eta*grads + np.sqrt(2.0*eta)*brownian_dist.sample()\n",
    "        # then just append\n",
    "        next_config.requires_grad_(True)\n",
    "        all_configs.append(next_config)\n",
    "        config = next_config\n",
    "    return torch.stack(all_configs, dim=1)"
   ]
  },
  {
   "cell_type": "code",
   "execution_count": 54,
   "metadata": {},
   "outputs": [],
   "source": [
    "def unadjusted_langevin(trialfunc, num_walkers=2, num_steps=100, eta=0.01):\n",
    "    # seems hard to get this to converge\n",
    "    config = torch.zeros(num_walkers, 1, requires_grad=True)\n",
    "    grad_out = torch.ones_like(config, requires_grad=False)\n",
    "    all_configs = []\n",
    "    for step in range(num_steps):\n",
    "        # next config is from Langevin proposal (grad of logprob + gaussian noise)\n",
    "        curr_config_logprobs = trialfunc(config)\n",
    "        grads, = torch.autograd.grad(curr_config_logprobs,\n",
    "                                    config,\n",
    "                                    grad_outputs=grad_out,\n",
    "                                    retain_graph=False)\n",
    "        with torch.no_grad():\n",
    "            propdist = Normal(config + eta*grads, np.sqrt(2.0*eta))\n",
    "            next_config = propdist.sample()\n",
    "        # then just append\n",
    "        next_config.requires_grad_(True)\n",
    "        all_configs.append(next_config)\n",
    "        config = next_config\n",
    "    return torch.stack(all_configs, dim=1)"
   ]
  },
  {
   "cell_type": "code",
   "execution_count": 55,
   "metadata": {},
   "outputs": [],
   "source": [
    "def mala(trialfunc, num_walkers=2, num_steps=100, eta=0.01):\n",
    "    # this isn't right -- we need different MH filter for asymmetric proposal\n",
    "    config = torch.zeros(num_walkers, 1)\n",
    "    grad_out = torch.ones_like(config, requires_grad=False)\n",
    "    brownian_dist = Normal(torch.zeros_like(config, requires_grad=False),\n",
    "                          torch.ones_like(config, requires_grad=False))\n",
    "\n",
    "\n",
    "    def mala_proposal(old_point):\n",
    "        # \n",
    "        old_point.requires_grad_(True)\n",
    "        curr_config_logprobs = trialfunc(old_point)\n",
    "        grads, = torch.autograd.grad(curr_config_logprobs,\n",
    "                                    old_point,\n",
    "                                    grad_outputs=grad_out,\n",
    "                                    retain_graph=False)\n",
    "        with torch.no_grad():\n",
    "            propdist = Normal(old_point + eta*grads, np.sqrt(2.0*eta))\n",
    "            next_config = propdist.sample()\n",
    "            new_old_logprob = propdist.log_prob(next_config)\n",
    "        next_config.requires_grad_(True)\n",
    "        next_config_logprobs = trialfunc(next_config)\n",
    "        next_grads, = torch.autograd.grad(next_config_logprobs,\n",
    "                                    next_config,\n",
    "                                    grad_outputs=grad_out,\n",
    "                                    retain_graph=False)\n",
    "        with torch.no_grad():\n",
    "            reverse_propdist = Normal(next_config + eta*next_grads, np.sqrt(2.0*eta))\n",
    "            old_new_logprob = reverse_propdist.log_prob(old_point)\n",
    "        return next_config, new_old_logprob, old_new_logprob\n",
    "    \n",
    "    return metropolis_asymmetric(trialfunc, mala_proposal, num_walkers=num_walkers, num_steps=num_steps)\n",
    "\n",
    "\n",
    "\n"
   ]
  },
  {
   "cell_type": "code",
   "execution_count": 56,
   "metadata": {},
   "outputs": [],
   "source": [
    "def energy_minimize_step(trialfunc, samples, optimizer):\n",
    "    with torch.no_grad():\n",
    "        local_energies = trialfunc.local_energy(samples)\n",
    "    sample_logprobs = trialfunc(samples)\n",
    "    loss = (local_energies * sample_logprobs).mean()\n",
    "    optimizer.zero_grad()\n",
    "    loss.backward()\n",
    "    optimizer.step()"
   ]
  },
  {
   "cell_type": "markdown",
   "metadata": {},
   "source": [
    "$$\\nabla \\mathbb{E}[f(x)] = \\mathbb{E}[f(x) \\nabla \\log \\pi(x)]$$"
   ]
  },
  {
   "cell_type": "code",
   "execution_count": 130,
   "metadata": {},
   "outputs": [],
   "source": [
    "tf = HarmonicTrialFunction(torch.tensor(1.2))"
   ]
  },
  {
   "cell_type": "code",
   "execution_count": 131,
   "metadata": {},
   "outputs": [
    {
     "name": "stderr",
     "output_type": "stream",
     "text": [
      "100%|██████████| 20000/20000 [00:03<00:00, 5121.11it/s]\n"
     ]
    }
   ],
   "source": [
    "results = metropolis_symmetric(tf, normal_proposal, num_walkers=100, num_steps=20000)"
   ]
  },
  {
   "cell_type": "code",
   "execution_count": 132,
   "metadata": {},
   "outputs": [
    {
     "data": {
      "text/plain": [
       "1.067222222222222"
      ]
     },
     "execution_count": 132,
     "metadata": {},
     "output_type": "execute_result"
    }
   ],
   "source": [
    "true_mean_energy(1.2)"
   ]
  },
  {
   "cell_type": "code",
   "execution_count": 133,
   "metadata": {},
   "outputs": [
    {
     "data": {
      "text/plain": [
       "tensor(1.0649, grad_fn=<MeanBackward0>)"
      ]
     },
     "execution_count": 133,
     "metadata": {},
     "output_type": "execute_result"
    }
   ],
   "source": [
    "torch.mean(tf.local_energy(results))"
   ]
  },
  {
   "cell_type": "code",
   "execution_count": 59,
   "metadata": {},
   "outputs": [],
   "source": [
    "results = mala(tf, num_walkers=100, num_steps=20000, eta=0.01)"
   ]
  },
  {
   "cell_type": "code",
   "execution_count": 60,
   "metadata": {},
   "outputs": [
    {
     "data": {
      "text/plain": [
       "tensor(1.0649, grad_fn=<MeanBackward0>)"
      ]
     },
     "execution_count": 60,
     "metadata": {},
     "output_type": "execute_result"
    }
   ],
   "source": [
    "torch.mean(tf.local_energy(results))"
   ]
  },
  {
   "cell_type": "code",
   "execution_count": 90,
   "metadata": {},
   "outputs": [],
   "source": [
    "def vmc_iterate(tf, num_iters=100):\n",
    "    opt = optim.SGD(tf.parameters(), lr=1e-2,momentum=0.9)\n",
    "    for i in range(num_iters):\n",
    "        results=metropolis_symmetric(tf, normal_proposal, num_walkers=1000, num_steps=5000)\n",
    "        energy_minimize_step(tf, results, opt)\n",
    "        print(tf.alpha)"
   ]
  },
  {
   "cell_type": "code",
   "execution_count": 117,
   "metadata": {},
   "outputs": [],
   "source": [
    "tf = HydrogenTrialWavefunction(torch.tensor(1.0))"
   ]
  },
  {
   "cell_type": "code",
   "execution_count": 118,
   "metadata": {},
   "outputs": [],
   "source": [
    "results = metropolis_symmetric(tf, clip_normal_proposal, num_walkers=10, num_steps=10000, init_val=0.5)"
   ]
  },
  {
   "cell_type": "code",
   "execution_count": 121,
   "metadata": {},
   "outputs": [
    {
     "data": {
      "text/plain": [
       "tensor(-0.5000, grad_fn=<MeanBackward0>)"
      ]
     },
     "execution_count": 121,
     "metadata": {},
     "output_type": "execute_result"
    }
   ],
   "source": [
    "torch.mean(tf.local_energy(results))"
   ]
  },
  {
   "cell_type": "code",
   "execution_count": 142,
   "metadata": {},
   "outputs": [],
   "source": [
    "def harmonic_energy_alpha_values():\n",
    "    vals = np.arange(0.2,1.5,0.1)\n",
    "    means = []\n",
    "    for alpha_val in vals:\n",
    "        print(alpha_val)\n",
    "        tf = HarmonicTrialFunction(alpha_val)\n",
    "        samples = metropolis_symmetric(tf, normal_proposal, num_walkers=100, num_steps=20000)\n",
    "        means.append(torch.mean(tf.local_energy(samples)).item())\n",
    "    return vals, means"
   ]
  },
  {
   "cell_type": "code",
   "execution_count": 143,
   "metadata": {},
   "outputs": [
    {
     "name": "stderr",
     "output_type": "stream",
     "text": [
      "  2%|▏         | 429/20000 [00:00<00:04, 4287.56it/s]"
     ]
    },
    {
     "name": "stdout",
     "output_type": "stream",
     "text": [
      "0.2\n"
     ]
    },
    {
     "name": "stderr",
     "output_type": "stream",
     "text": [
      "100%|██████████| 20000/20000 [00:03<00:00, 5080.10it/s]\n",
      "  2%|▏         | 471/20000 [00:00<00:04, 4704.40it/s]"
     ]
    },
    {
     "name": "stdout",
     "output_type": "stream",
     "text": [
      "0.30000000000000004\n"
     ]
    },
    {
     "name": "stderr",
     "output_type": "stream",
     "text": [
      "100%|██████████| 20000/20000 [00:03<00:00, 5214.15it/s]\n",
      "  5%|▍         | 940/20000 [00:00<00:04, 4667.21it/s]"
     ]
    },
    {
     "name": "stdout",
     "output_type": "stream",
     "text": [
      "0.4000000000000001\n"
     ]
    },
    {
     "name": "stderr",
     "output_type": "stream",
     "text": [
      "100%|██████████| 20000/20000 [00:03<00:00, 5012.84it/s]\n",
      "  5%|▍         | 925/20000 [00:00<00:04, 4434.16it/s]"
     ]
    },
    {
     "name": "stdout",
     "output_type": "stream",
     "text": [
      "0.5000000000000001\n"
     ]
    },
    {
     "name": "stderr",
     "output_type": "stream",
     "text": [
      "100%|██████████| 20000/20000 [00:03<00:00, 5044.87it/s]\n",
      "  5%|▍         | 938/20000 [00:00<00:04, 4654.69it/s]"
     ]
    },
    {
     "name": "stdout",
     "output_type": "stream",
     "text": [
      "0.6000000000000001\n"
     ]
    },
    {
     "name": "stderr",
     "output_type": "stream",
     "text": [
      "100%|██████████| 20000/20000 [00:03<00:00, 5175.39it/s]\n",
      "  2%|▏         | 465/20000 [00:00<00:04, 4649.49it/s]"
     ]
    },
    {
     "name": "stdout",
     "output_type": "stream",
     "text": [
      "0.7000000000000002\n"
     ]
    },
    {
     "name": "stderr",
     "output_type": "stream",
     "text": [
      "100%|██████████| 20000/20000 [00:03<00:00, 5211.80it/s]\n",
      "  2%|▏         | 478/20000 [00:00<00:04, 4779.09it/s]"
     ]
    },
    {
     "name": "stdout",
     "output_type": "stream",
     "text": [
      "0.8000000000000003\n"
     ]
    },
    {
     "name": "stderr",
     "output_type": "stream",
     "text": [
      "100%|██████████| 20000/20000 [00:03<00:00, 5044.22it/s]\n",
      "  5%|▍         | 973/20000 [00:00<00:03, 4793.35it/s]"
     ]
    },
    {
     "name": "stdout",
     "output_type": "stream",
     "text": [
      "0.9000000000000001\n"
     ]
    },
    {
     "name": "stderr",
     "output_type": "stream",
     "text": [
      "100%|██████████| 20000/20000 [00:04<00:00, 4841.86it/s]\n",
      "  2%|▏         | 437/20000 [00:00<00:04, 4364.21it/s]"
     ]
    },
    {
     "name": "stdout",
     "output_type": "stream",
     "text": [
      "1.0000000000000002\n"
     ]
    },
    {
     "name": "stderr",
     "output_type": "stream",
     "text": [
      "100%|██████████| 20000/20000 [00:04<00:00, 4798.62it/s]\n",
      "  5%|▍         | 918/20000 [00:00<00:04, 4476.68it/s]"
     ]
    },
    {
     "name": "stdout",
     "output_type": "stream",
     "text": [
      "1.1000000000000003\n"
     ]
    },
    {
     "name": "stderr",
     "output_type": "stream",
     "text": [
      "100%|██████████| 20000/20000 [00:03<00:00, 5151.01it/s]\n",
      "  2%|▏         | 470/20000 [00:00<00:04, 4693.19it/s]"
     ]
    },
    {
     "name": "stdout",
     "output_type": "stream",
     "text": [
      "1.2000000000000004\n"
     ]
    },
    {
     "name": "stderr",
     "output_type": "stream",
     "text": [
      "100%|██████████| 20000/20000 [00:03<00:00, 5168.76it/s]\n",
      "  5%|▍         | 963/20000 [00:00<00:03, 4795.76it/s]"
     ]
    },
    {
     "name": "stdout",
     "output_type": "stream",
     "text": [
      "1.3000000000000003\n"
     ]
    },
    {
     "name": "stderr",
     "output_type": "stream",
     "text": [
      "100%|██████████| 20000/20000 [00:03<00:00, 5238.37it/s]\n",
      "  2%|▏         | 487/20000 [00:00<00:04, 4862.21it/s]"
     ]
    },
    {
     "name": "stdout",
     "output_type": "stream",
     "text": [
      "1.4000000000000004\n"
     ]
    },
    {
     "name": "stderr",
     "output_type": "stream",
     "text": [
      "100%|██████████| 20000/20000 [00:03<00:00, 5294.09it/s]\n"
     ]
    }
   ],
   "source": [
    "vals, means = harmonic_energy_alpha_values()"
   ]
  },
  {
   "cell_type": "code",
   "execution_count": 152,
   "metadata": {},
   "outputs": [
    {
     "data": {
      "text/plain": [
       "Text(0, 0.5, 'mean energy')"
      ]
     },
     "execution_count": 152,
     "metadata": {},
     "output_type": "execute_result"
    },
    {
     "data": {
      "image/png": "[encoded data removed]",
      "text/plain": [
       "<Figure size 432x288 with 1 Axes>"
      ]
     },
     "metadata": {
      "needs_background": "light"
     },
     "output_type": "display_data"
    }
   ],
   "source": [
    "plt.plot(vals, means)\n",
    "plt.ylim(0,5)\n",
    "plt.title(\"1D Harmonic Oscillator\")\n",
    "plt.xlabel(\"alpha\")\n",
    "plt.ylabel(\"mean energy\")"
   ]
  },
  {
   "cell_type": "code",
   "execution_count": 154,
   "metadata": {},
   "outputs": [],
   "source": [
    "def hydrogen_energy_alpha_values():\n",
    "    vals = np.arange(0.2,1.5,0.1)\n",
    "    means = []\n",
    "    for alpha_val in vals:\n",
    "        print(alpha_val)\n",
    "        tf = HydrogenTrialWavefunction(alpha_val)\n",
    "        samples = metropolis_symmetric(tf, clip_normal_proposal, num_walkers=100, num_steps=20000, init_val=0.5)\n",
    "        means.append(torch.mean(tf.local_energy(samples)).item())\n",
    "    return vals, means"
   ]
  },
  {
   "cell_type": "code",
   "execution_count": 155,
   "metadata": {},
   "outputs": [
    {
     "name": "stderr",
     "output_type": "stream",
     "text": [
      "  5%|▌         | 1042/20000 [00:00<00:03, 4807.27it/s]"
     ]
    },
    {
     "name": "stdout",
     "output_type": "stream",
     "text": [
      "0.2\n"
     ]
    },
    {
     "name": "stderr",
     "output_type": "stream",
     "text": [
      "100%|██████████| 20000/20000 [00:03<00:00, 6070.79it/s]\n",
      "  2%|▏         | 407/20000 [00:00<00:04, 4065.12it/s]"
     ]
    },
    {
     "name": "stdout",
     "output_type": "stream",
     "text": [
      "0.30000000000000004\n"
     ]
    },
    {
     "name": "stderr",
     "output_type": "stream",
     "text": [
      "100%|██████████| 20000/20000 [00:03<00:00, 5754.67it/s]\n",
      "  6%|▌         | 1112/20000 [00:00<00:03, 5355.25it/s]"
     ]
    },
    {
     "name": "stdout",
     "output_type": "stream",
     "text": [
      "0.4000000000000001\n"
     ]
    },
    {
     "name": "stderr",
     "output_type": "stream",
     "text": [
      "100%|██████████| 20000/20000 [00:03<00:00, 6026.10it/s]\n",
      "  3%|▎         | 555/20000 [00:00<00:03, 5541.97it/s]"
     ]
    },
    {
     "name": "stdout",
     "output_type": "stream",
     "text": [
      "0.5000000000000001\n"
     ]
    },
    {
     "name": "stderr",
     "output_type": "stream",
     "text": [
      "100%|██████████| 20000/20000 [00:03<00:00, 5811.23it/s]\n",
      "  6%|▌         | 1144/20000 [00:00<00:03, 5595.19it/s]"
     ]
    },
    {
     "name": "stdout",
     "output_type": "stream",
     "text": [
      "0.6000000000000001\n"
     ]
    },
    {
     "name": "stderr",
     "output_type": "stream",
     "text": [
      "100%|██████████| 20000/20000 [00:03<00:00, 6102.18it/s]\n",
      "  6%|▌         | 1106/20000 [00:00<00:03, 5472.69it/s]"
     ]
    },
    {
     "name": "stdout",
     "output_type": "stream",
     "text": [
      "0.7000000000000002\n"
     ]
    },
    {
     "name": "stderr",
     "output_type": "stream",
     "text": [
      "100%|██████████| 20000/20000 [00:03<00:00, 6025.85it/s]\n",
      "  6%|▌         | 1164/20000 [00:00<00:03, 5711.93it/s]"
     ]
    },
    {
     "name": "stdout",
     "output_type": "stream",
     "text": [
      "0.8000000000000003\n"
     ]
    },
    {
     "name": "stderr",
     "output_type": "stream",
     "text": [
      "100%|██████████| 20000/20000 [00:03<00:00, 6111.34it/s]\n",
      "  2%|▏         | 429/20000 [00:00<00:04, 4286.30it/s]"
     ]
    },
    {
     "name": "stdout",
     "output_type": "stream",
     "text": [
      "0.9000000000000001\n"
     ]
    },
    {
     "name": "stderr",
     "output_type": "stream",
     "text": [
      "100%|██████████| 20000/20000 [00:03<00:00, 5468.99it/s]\n",
      "  5%|▌         | 1066/20000 [00:00<00:03, 5193.24it/s]"
     ]
    },
    {
     "name": "stdout",
     "output_type": "stream",
     "text": [
      "1.0000000000000002\n"
     ]
    },
    {
     "name": "stderr",
     "output_type": "stream",
     "text": [
      "100%|██████████| 20000/20000 [00:03<00:00, 5540.18it/s]\n",
      "  3%|▎         | 521/20000 [00:00<00:03, 5202.67it/s]"
     ]
    },
    {
     "name": "stdout",
     "output_type": "stream",
     "text": [
      "1.1000000000000003\n"
     ]
    },
    {
     "name": "stderr",
     "output_type": "stream",
     "text": [
      "100%|██████████| 20000/20000 [00:03<00:00, 5685.10it/s]\n",
      "  5%|▌         | 1083/20000 [00:00<00:03, 5266.78it/s]"
     ]
    },
    {
     "name": "stdout",
     "output_type": "stream",
     "text": [
      "1.2000000000000004\n"
     ]
    },
    {
     "name": "stderr",
     "output_type": "stream",
     "text": [
      "100%|██████████| 20000/20000 [00:03<00:00, 5551.01it/s]\n",
      "  6%|▌         | 1110/20000 [00:00<00:03, 5331.66it/s]"
     ]
    },
    {
     "name": "stdout",
     "output_type": "stream",
     "text": [
      "1.3000000000000003\n"
     ]
    },
    {
     "name": "stderr",
     "output_type": "stream",
     "text": [
      "100%|██████████| 20000/20000 [00:03<00:00, 5672.17it/s]\n",
      "  5%|▌         | 1084/20000 [00:00<00:03, 5339.81it/s]"
     ]
    },
    {
     "name": "stdout",
     "output_type": "stream",
     "text": [
      "1.4000000000000004\n"
     ]
    },
    {
     "name": "stderr",
     "output_type": "stream",
     "text": [
      "100%|██████████| 20000/20000 [00:03<00:00, 6035.09it/s]\n"
     ]
    }
   ],
   "source": [
    "vals, means = hydrogen_energy_alpha_values()"
   ]
  },
  {
   "cell_type": "code",
   "execution_count": 156,
   "metadata": {},
   "outputs": [
    {
     "data": {
      "text/plain": [
       "Text(0, 0.5, 'mean energy')"
      ]
     },
     "execution_count": 156,
     "metadata": {},
     "output_type": "execute_result"
    },
    {
     "data": {
      "image/png": "[encoded data removed]",
      "text/plain": [
       "<Figure size 432x288 with 1 Axes>"
      ]
     },
     "metadata": {
      "needs_background": "light"
     },
     "output_type": "display_data"
    }
   ],
   "source": [
    "plt.plot(vals, means)\n",
    "plt.ylim(-1,0)\n",
    "plt.title(\"Hydrogen\")\n",
    "plt.xlabel(\"alpha\")\n",
    "plt.ylabel(\"mean energy\")"
   ]
  },
  {
   "cell_type": "code",
   "execution_count": null,
   "metadata": {},
   "outputs": [],
   "source": []
  }
 ],
 "metadata": {
  "@webio": {
   "lastCommId": null,
   "lastKernelId": null
  },
  "kernelspec": {
   "display_name": "Python 3",
   "language": "python",
   "name": "python3"
  },
  "language_info": {
   "codemirror_mode": {
    "name": "ipython",
    "version": 3
   },
   "file_extension": ".py",
   "mimetype": "text/x-python",
   "name": "python",
   "nbconvert_exporter": "python",
   "pygments_lexer": "ipython3",
   "version": "3.7.7"
  }
 },
 "nbformat": 4,
 "nbformat_minor": 4
}
