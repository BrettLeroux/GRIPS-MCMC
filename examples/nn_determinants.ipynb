{
 "cells": [
  {
   "cell_type": "code",
   "execution_count": 3,
   "metadata": {
    "collapsed": true
   },
   "outputs": [],
   "source": [
    "%matplotlib inline\n",
    "import numpy as np\n",
    "import torch\n",
    "from torch import nn"
   ]
  },
  {
   "cell_type": "code",
   "execution_count": 54,
   "outputs": [],
   "source": [
    "class NNSlaterDet(nn.Module):\n",
    "    def __init__(self, n_configs, config_size, num_basis):\n",
    "        super(NNSlaterDet, self).__init__()\n",
    "\n",
    "        # configurations of shape N x M x n_configs x config_size\n",
    "        # or shape N x n_configs x config_size\n",
    "        # we want network output that is a matrix for each of these\n",
    "        # and we will single-batch everything\n",
    "        # so N*M x num_basis x config_size\n",
    "\n",
    "        # it must be permutation-equivariant, so give same output\n",
    "        # even after swapping config dims.\n",
    "        # configs may be of different sizes\n",
    "        # let's just say we have an NN that takes any single\n",
    "        # configuration and spits out a vector of size num_basis\n",
    "\n",
    "        # then take determinant\n",
    "        self.num_basis = num_basis\n",
    "        self.config_size = config_size\n",
    "        self.n_configs = n_configs\n",
    "        self.network = nn.Linear(self.config_size, self.num_basis)\n",
    "\n",
    "    def forward(self, x):\n",
    "\n",
    "        x_shape = list(x.shape)\n",
    "        assert x_shape[-1] == self.config_size\n",
    "        assert x_shape[-2] == self.n_configs\n",
    "        x_flat = x.view(-1, self.config_size)\n",
    "\n",
    "        out_flat = self.network(x_flat)\n",
    "        out_reshaped = out_flat.view(x_shape[:-1] + [self.num_basis])\n",
    "\n",
    "        dets = torch.det(out_reshaped)\n",
    "\n",
    "        return dets\n",
    "\n",
    "\n",
    "class NNVandermonde(nn.Module):\n",
    "    def __init__(self, n_configs, config_size):\n",
    "        super(NNVandermonde, self).__init__()\n",
    "\n",
    "        # configurations of shape N x M x n_configs x config_size\n",
    "        # or shape N x n_configs x config_size\n",
    "        # we want output for Vandermonde of size N x M x n_configs\n",
    "        # a scalar per configuration subcomponent\n",
    "        # then we will do Vandermonde\n",
    "\n",
    "\n",
    "        # then take determinant\n",
    "        self.config_size = config_size\n",
    "        self.n_configs = n_configs\n",
    "        self.network = nn.Sequential(nn.Linear(self.config_size, 1))\n",
    "\n",
    "    def forward(self, x):\n",
    "\n",
    "        x_shape = list(x.shape)\n",
    "        assert x_shape[-1] == self.config_size\n",
    "        assert x_shape[-2] == self.n_configs\n",
    "        x_flat = x.view(-1, self.config_size)\n",
    "\n",
    "        out_flat = self.network(x_flat)\n",
    "        out_reshaped = out_flat.view(x_shape[:-1])\n",
    "\n",
    "        # slow bad loops, baby! let's waste some cycles!\n",
    "        products = 1.0\n",
    "        for i in range(out_reshaped.shape[-1]):\n",
    "            for j in range(i+1, out_reshaped.shape[-1]):\n",
    "                products = products * (out_reshaped[..., i] - out_reshaped[..., j])\n",
    "        return products\n",
    "        # log_sumproducts = 0.0\n",
    "        # for i in range(out_reshaped.shape[-1]):\n",
    "        #     for j in range(i+1, out_reshaped.shape[-1]):\n",
    "        #         log_sumproducts = log_sumproducts + torch.log(out_reshaped[..., i] - out_reshaped[..., j])\n",
    "\n",
    "        # return log_sumproducts"
   ],
   "metadata": {
    "collapsed": false,
    "pycharm": {
     "name": "#%%\n"
    }
   }
  },
  {
   "cell_type": "code",
   "execution_count": 20,
   "outputs": [],
   "source": [
    "ff = NNSlaterDet(3,2,3)"
   ],
   "metadata": {
    "collapsed": false,
    "pycharm": {
     "name": "#%%\n"
    }
   }
  },
  {
   "cell_type": "code",
   "execution_count": 21,
   "outputs": [],
   "source": [
    "xx = torch.rand(10,3,2)\n",
    "permuted_xx = xx[:, [0,2,1], :]"
   ],
   "metadata": {
    "collapsed": false,
    "pycharm": {
     "name": "#%%\n"
    }
   }
  },
  {
   "cell_type": "code",
   "execution_count": 22,
   "outputs": [
    {
     "data": {
      "text/plain": "tensor([ 1.6894e-03,  7.3975e-04, -2.5405e-03, -5.9339e-04, -1.3896e-03,\n         7.9457e-05,  1.0185e-03,  3.8652e-04,  2.0074e-04, -2.5871e-04],\n       grad_fn=<DetBackward>)"
     },
     "execution_count": 22,
     "metadata": {},
     "output_type": "execute_result"
    }
   ],
   "source": [
    "ff(xx)\n"
   ],
   "metadata": {
    "collapsed": false,
    "pycharm": {
     "name": "#%%\n"
    }
   }
  },
  {
   "cell_type": "code",
   "execution_count": 23,
   "outputs": [
    {
     "data": {
      "text/plain": "tensor([-1.6894e-03, -7.3975e-04,  2.5405e-03,  5.9339e-04,  1.3896e-03,\n        -7.9457e-05, -1.0185e-03, -3.8652e-04, -2.0074e-04,  2.5871e-04],\n       grad_fn=<DetBackward>)"
     },
     "execution_count": 23,
     "metadata": {},
     "output_type": "execute_result"
    }
   ],
   "source": [
    "ff(permuted_xx)"
   ],
   "metadata": {
    "collapsed": false,
    "pycharm": {
     "name": "#%%\n"
    }
   }
  },
  {
   "cell_type": "code",
   "execution_count": 55,
   "outputs": [],
   "source": [
    "ff2 = NNVandermonde(3,2)"
   ],
   "metadata": {
    "collapsed": false,
    "pycharm": {
     "name": "#%%\n"
    }
   }
  },
  {
   "cell_type": "code",
   "execution_count": 56,
   "outputs": [
    {
     "data": {
      "text/plain": "tensor([-4.4096e-03,  1.0432e-03,  5.8990e-03,  6.9865e-04, -1.0369e-02,\n         7.2225e-05, -1.1288e-03, -3.3655e-04, -2.4759e-05, -2.5304e-03],\n       grad_fn=<MulBackward0>)"
     },
     "execution_count": 56,
     "metadata": {},
     "output_type": "execute_result"
    }
   ],
   "source": [
    "ff2(xx)"
   ],
   "metadata": {
    "collapsed": false,
    "pycharm": {
     "name": "#%%\n"
    }
   }
  },
  {
   "cell_type": "code",
   "execution_count": 57,
   "outputs": [
    {
     "data": {
      "text/plain": "tensor([ 4.4096e-03, -1.0432e-03, -5.8990e-03, -6.9865e-04,  1.0369e-02,\n        -7.2225e-05,  1.1288e-03,  3.3655e-04,  2.4759e-05,  2.5304e-03],\n       grad_fn=<MulBackward0>)"
     },
     "execution_count": 57,
     "metadata": {},
     "output_type": "execute_result"
    }
   ],
   "source": [
    "ff2(permuted_xx)"
   ],
   "metadata": {
    "collapsed": false,
    "pycharm": {
     "name": "#%%\n"
    }
   }
  },
  {
   "cell_type": "code",
   "execution_count": null,
   "outputs": [],
   "source": [
    "\n"
   ],
   "metadata": {
    "collapsed": false,
    "pycharm": {
     "name": "#%%\n"
    }
   }
  }
 ],
 "metadata": {
  "kernelspec": {
   "display_name": "Python 3",
   "language": "python",
   "name": "python3"
  },
  "language_info": {
   "codemirror_mode": {
    "name": "ipython",
    "version": 2
   },
   "file_extension": ".py",
   "mimetype": "text/x-python",
   "name": "python",
   "nbconvert_exporter": "python",
   "pygments_lexer": "ipython2",
   "version": "2.7.6"
  }
 },
 "nbformat": 4,
 "nbformat_minor": 0
}