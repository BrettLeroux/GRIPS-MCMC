{
 "cells": [
  {
   "cell_type": "code",
   "execution_count": 3,
   "metadata": {},
   "outputs": [],
   "source": [
    "import torch\n",
    "import numpy as np\n",
    "from qmc.tracehess import autograd_trace_hessian\n",
    "from torch import nn, optim"
   ]
  },
  {
   "cell_type": "code",
   "execution_count": 4,
   "metadata": {},
   "outputs": [],
   "source": [
    "class NelectronVander(nn.Module):\n",
    "    #ansatz given by the Vandermonde determinant of the one electron wavefunctions e^(-alpha_i*r_i)\n",
    "    #input is 1D tensor which determines the number of particles (i.e. the dimension)\n",
    "    def __init__(self, alpha):\n",
    "        super(NelectronVander, self).__init__()\n",
    "        self.alpha = nn.Parameter(alpha)\n",
    "    \n",
    "    def forward(self, x):\n",
    "        #returns the log prob. of the wavefunction\n",
    "        #input is tensor of size m x alpha.size or m x n x alpha.size\n",
    "        a = torch.exp(-self.alpha*x.unsqueeze(-1)) - torch.exp(-self.alpha*x.unsqueeze(-2))\n",
    "        return 2 * torch.sum(torch.log(torch.abs(a[...,torch.triu(torch.ones(self.alpha.shape[0],self.alpha.shape[0]), diagonal=1).nonzero(as_tuple = True)[0],torch.triu(torch.ones(self.alpha.shape[0],self.alpha.shape[0]), diagonal=1).nonzero(as_tuple = True)[1] ])),-1)\n",
    "    \n",
    "    \n",
    "    def wave(self,x):\n",
    "        # Returns the value of the wavefunction\n",
    "        #input is tensor of size m x alpha.size or m x n x alpha.size\n",
    "        a = torch.exp(-self.alpha*x.unsqueeze(-1)) - torch.exp(-self.alpha*x.unsqueeze(-2))\n",
    "        return torch.prod(a[...,torch.triu(torch.ones(self.alpha.shape[0],self.alpha.shape[0]), diagonal=1).nonzero(as_tuple = True)[0],torch.triu(torch.ones(self.alpha.shape[0],self.alpha.shape[0]), diagonal=1).nonzero(as_tuple = True)[1] ],-1)\n",
    "    \n",
    "    \n",
    "        "
   ]
  },
  {
   "cell_type": "code",
   "execution_count": 5,
   "metadata": {},
   "outputs": [],
   "source": [
    "class NelectronVanderWithMult(nn.Module):\n",
    "    #ansatz given by the Vandermonde determinant of the one electron wavefunctions e^(-alpha_i * r_i) \n",
    "    #multiplied by e^(-beta * (r_1 + r_2 + ... r_N))\n",
    "    #input is alpha, beta where alpha is 1D tensor which determines the number of particles and beta is scalar\n",
    "    def __init__(self, alpha, beta):\n",
    "        super(NelectronVanderWithMult, self).__init__()\n",
    "        self.alpha = nn.Parameter(alpha)\n",
    "        self.beta = nn.Parameter(beta)\n",
    "    \n",
    "    def forward(self, x):\n",
    "        #returns the log prob. of the wavefunction\n",
    "        #input is tensor of size m x alpha.size or m x n x alpha.size\n",
    "        a = torch.exp(-self.alpha*x.unsqueeze(-1)) - torch.exp(-self.alpha*x.unsqueeze(-2))\n",
    "        return 2 * ( -self.beta * torch.sum(x, -1)\n",
    "            + torch.sum(torch.log(torch.abs(a[...,torch.triu(torch.ones(self.alpha.shape[0],self.alpha.shape[0]), diagonal=1).nonzero(as_tuple = True)[0],torch.triu(torch.ones(self.alpha.shape[0],self.alpha.shape[0]), diagonal=1).nonzero(as_tuple = True)[1] ])),-1) )\n",
    "    \n",
    "    \n",
    "    def wave(self,x):\n",
    "        # Returns the value of the wavefunction\n",
    "        #input is tensor of size m x alpha.size or m x n x alpha.size\n",
    "        a = torch.exp(-self.alpha*x.unsqueeze(-1)) - torch.exp(-self.alpha*x.unsqueeze(-2))\n",
    "        return torch.exp(-self.beta * torch.sum(x, -1)) * torch.prod(a[...,torch.triu(torch.ones(self.alpha.shape[0],self.alpha.shape[0]), diagonal=1).nonzero(as_tuple = True)[0],torch.triu(torch.ones(self.alpha.shape[0],self.alpha.shape[0]), diagonal=1).nonzero(as_tuple = True)[1] ],-1)\n",
    "    \n",
    "    "
   ]
  },
  {
   "cell_type": "code",
   "execution_count": 6,
   "metadata": {},
   "outputs": [],
   "source": [
    "f = NelectronVander(torch.rand(5))"
   ]
  },
  {
   "cell_type": "code",
   "execution_count": 7,
   "metadata": {},
   "outputs": [
    {
     "data": {
      "text/plain": [
       "tensor([-56.8537, -46.5428, -55.8184], grad_fn=<MulBackward0>)"
      ]
     },
     "execution_count": 7,
     "metadata": {},
     "output_type": "execute_result"
    }
   ],
   "source": [
    "f(torch.rand((3,5)))"
   ]
  },
  {
   "cell_type": "code",
   "execution_count": 8,
   "metadata": {},
   "outputs": [
    {
     "data": {
      "text/plain": [
       "tensor([[ 1.3805e-10, -1.8393e-12,  1.3022e-12, -2.1324e-13,  6.8906e-12,\n",
       "          2.2860e-13, -4.0267e-14],\n",
       "        [-5.7630e-12, -1.7393e-10,  1.1242e-11, -1.3832e-10,  1.3604e-16,\n",
       "          5.6603e-13,  1.2050e-12],\n",
       "        [ 1.5432e-12,  1.4025e-10, -3.0663e-13, -1.5626e-11, -4.9439e-11,\n",
       "         -1.1078e-14,  6.9832e-11]], grad_fn=<ProdBackward1>)"
      ]
     },
     "execution_count": 8,
     "metadata": {},
     "output_type": "execute_result"
    }
   ],
   "source": [
    "f.wave(torch.rand((3,7,5)))"
   ]
  },
  {
   "cell_type": "code",
   "execution_count": 9,
   "metadata": {},
   "outputs": [],
   "source": [
    "x = torch.rand(4,6,5)"
   ]
  },
  {
   "cell_type": "code",
   "execution_count": 10,
   "metadata": {},
   "outputs": [],
   "source": [
    "f = NelectronVanderWithMult(torch.rand(5),torch.rand(1))"
   ]
  },
  {
   "cell_type": "code",
   "execution_count": 11,
   "metadata": {},
   "outputs": [
    {
     "data": {
      "text/plain": [
       "tensor([[-1.1293e-14,  1.7137e-13, -6.7046e-12, -9.1058e-17, -6.0976e-14,\n",
       "          1.5243e-16, -2.0857e-11],\n",
       "        [ 8.4631e-14, -1.4440e-15, -2.7262e-16, -2.2096e-17, -1.1676e-11,\n",
       "         -1.6118e-11, -1.4632e-12],\n",
       "        [-1.5815e-12,  1.1804e-13,  6.3631e-12, -7.4608e-15,  9.0964e-12,\n",
       "          1.9701e-15, -1.1346e-13]], grad_fn=<MulBackward0>)"
      ]
     },
     "execution_count": 11,
     "metadata": {},
     "output_type": "execute_result"
    }
   ],
   "source": [
    "f.wave(torch.rand((3,7,5)))"
   ]
  },
  {
   "cell_type": "code",
   "execution_count": 12,
   "metadata": {},
   "outputs": [
    {
     "data": {
      "text/plain": [
       "tensor([-55.3138, -64.7939, -52.1932, -63.4310, -55.9829, -55.3099, -69.5667,\n",
       "        -62.8414, -64.5213], grad_fn=<MulBackward0>)"
      ]
     },
     "execution_count": 12,
     "metadata": {},
     "output_type": "execute_result"
    }
   ],
   "source": [
    "f(torch.rand((9,5)))"
   ]
  },
  {
   "cell_type": "code",
   "execution_count": null,
   "metadata": {},
   "outputs": [],
   "source": []
  },
  {
   "cell_type": "code",
   "execution_count": null,
   "metadata": {},
   "outputs": [],
   "source": []
  }
 ],
 "metadata": {
  "kernelspec": {
   "display_name": "Python 3",
   "language": "python",
   "name": "python3"
  },
  "language_info": {
   "codemirror_mode": {
    "name": "ipython",
    "version": 3
   },
   "file_extension": ".py",
   "mimetype": "text/x-python",
   "name": "python",
   "nbconvert_exporter": "python",
   "pygments_lexer": "ipython3",
   "version": "3.7.7"
  }
 },
 "nbformat": 4,
 "nbformat_minor": 4
}
