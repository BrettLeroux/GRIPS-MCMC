{
 "cells": [
  {
   "cell_type": "code",
   "execution_count": 1,
   "metadata": {},
   "outputs": [],
   "source": [
    "import torch\n",
    "import numpy as np\n",
    "from qmc.tracehess import autograd_trace_hessian\n",
    "from torch import nn, optim"
   ]
  },
  {
   "cell_type": "code",
   "execution_count": 34,
   "metadata": {},
   "outputs": [],
   "source": [
    "class NelectronVander(nn.Module):\n",
    "    #ansatz given by the Vandermonde determinant of the one electron wavefunctions e^(-alpha_i*r_i)\n",
    "    #input is 1D tensor which determines the number of particles (i.e. the dimension)\n",
    "    def __init__(self, alpha):\n",
    "        super(NelectronVander, self).__init__()\n",
    "        self.alpha = nn.Parameter(alpha)\n",
    "    \n",
    "    def forward(self, x):\n",
    "        #returns the log prob. of the wavefunction\n",
    "        #input is tensor of size m x alpha.size or m x n x alpha.size\n",
    "        a = torch.exp(-self.alpha*x.unsqueeze(-1)) - torch.exp(-self.alpha*x.unsqueeze(-2))\n",
    "        return 2 * torch.sum(torch.log(torch.abs(a[...,torch.triu(torch.ones(self.alpha.shape[0],self.alpha.shape[0]), diagonal=1).nonzero(as_tuple = True)[0],torch.triu(torch.ones(self.alpha.shape[0],self.alpha.shape[0]), diagonal=1).nonzero(as_tuple = True)[1] ])),-1)\n",
    "    \n",
    "    \n",
    "    def wave(self,x):\n",
    "        # Returns the value of the wavefunction\n",
    "        #input is tensor of size m x alpha.size or m x n x alpha.size\n",
    "        a = torch.exp(-self.alpha*x.unsqueeze(-1)) - torch.exp(-self.alpha*x.unsqueeze(-2))\n",
    "        return torch.prod(a[...,torch.triu(torch.ones(self.alpha.shape[0],self.alpha.shape[0]), diagonal=1).nonzero(as_tuple = True)[0],torch.triu(torch.ones(self.alpha.shape[0],self.alpha.shape[0]), diagonal=1).nonzero(as_tuple = True)[1] ],-1)\n",
    "    \n",
    "    \n",
    "        "
   ]
  },
  {
   "cell_type": "code",
   "execution_count": 27,
   "metadata": {},
   "outputs": [],
   "source": [
    "class NelectronVanderWithMult(nn.Module):\n",
    "    #ansatz given by the Vandermonde determinant of the one electron wavefunctions e^(-alpha_i * r_i) \n",
    "    #multiplied by e^(-beta * (r_1 + r_2 + ... r_N))\n",
    "    #input is alpha, beta where alpha is 1D tensor which determines the number of particles and beta is scalar\n",
    "    def __init__(self, alpha, beta):\n",
    "        super(NelectronVanderWithMult, self).__init__()\n",
    "        self.alpha = nn.Parameter(alpha)\n",
    "        self.beta = nn.Parameter(beta)\n",
    "    \n",
    "    def forward(self, x):\n",
    "        #returns the log prob. of the wavefunction\n",
    "        #input is tensor of size m x alpha.size or m x n x alpha.size\n",
    "        a = torch.exp(-self.alpha*x.unsqueeze(-1)) - torch.exp(-self.alpha*x.unsqueeze(-2))\n",
    "        return 2 * ( -self.beta * torch.sum(x, -1)\n",
    "            + torch.sum(torch.log(torch.abs(a[...,torch.triu(torch.ones(self.alpha.shape[0],self.alpha.shape[0]), diagonal=1).nonzero(as_tuple = True)[0],torch.triu(torch.ones(self.alpha.shape[0],self.alpha.shape[0]), diagonal=1).nonzero(as_tuple = True)[1] ])),-1) )\n",
    "    \n",
    "    \n",
    "    def wave(self,x):\n",
    "        # Returns the value of the wavefunction\n",
    "        #input is tensor of size m x alpha.size or m x n x alpha.size\n",
    "        a = torch.exp(-self.alpha*x.unsqueeze(-1)) - torch.exp(-self.alpha*x.unsqueeze(-2))\n",
    "        return torch.exp(-self.beta * torch.sum(x, -1)) * torch.prod(a[...,torch.triu(torch.ones(self.alpha.shape[0],self.alpha.shape[0]), diagonal=1).nonzero(as_tuple = True)[0],torch.triu(torch.ones(self.alpha.shape[0],self.alpha.shape[0]), diagonal=1).nonzero(as_tuple = True)[1] ],-1)\n",
    "    \n",
    "    "
   ]
  },
  {
   "cell_type": "code",
   "execution_count": 41,
   "metadata": {},
   "outputs": [],
   "source": [
    "f = NelectronVander(torch.rand(7))"
   ]
  },
  {
   "cell_type": "code",
   "execution_count": 42,
   "metadata": {},
   "outputs": [
    {
     "data": {
      "text/plain": [
       "tensor([[-140.2287, -158.8274, -148.6216, -131.0404],\n",
       "        [-134.1732, -150.9533, -142.8486, -137.7906],\n",
       "        [-157.4558, -149.6327, -143.4336, -149.1388],\n",
       "        [-155.0732, -130.5947, -134.9153, -149.3318],\n",
       "        [-146.7606, -164.3714, -141.2836, -144.3219],\n",
       "        [-139.4302, -139.9384, -143.6349, -153.8013]], grad_fn=<MulBackward0>)"
      ]
     },
     "execution_count": 42,
     "metadata": {},
     "output_type": "execute_result"
    }
   ],
   "source": [
    "f(torch.rand((6,4,7)))"
   ]
  },
  {
   "cell_type": "code",
   "execution_count": 43,
   "metadata": {},
   "outputs": [
    {
     "data": {
      "text/plain": [
       "tensor([[ 3.2181e-37, -1.0076e-33, -1.9495e-35,  4.9244e-31,  8.8114e-34,\n",
       "          1.5578e-31,  2.9249e-30],\n",
       "        [ 1.2741e-30,  5.7088e-30,  7.6091e-36, -2.6744e-33, -6.2717e-34,\n",
       "         -9.6544e-32,  2.2516e-29],\n",
       "        [-6.2991e-31,  1.3983e-31, -1.3969e-29,  1.2151e-31, -3.8522e-31,\n",
       "          3.5215e-30, -2.4210e-32]], grad_fn=<ProdBackward1>)"
      ]
     },
     "execution_count": 43,
     "metadata": {},
     "output_type": "execute_result"
    }
   ],
   "source": [
    "f.wave(torch.rand((3,7,7)))"
   ]
  },
  {
   "cell_type": "code",
   "execution_count": 44,
   "metadata": {},
   "outputs": [],
   "source": [
    "x = torch.rand(4,5)"
   ]
  },
  {
   "cell_type": "code",
   "execution_count": 49,
   "metadata": {},
   "outputs": [],
   "source": [
    "f = NelectronVanderWithMult(torch.rand(6),torch.rand(1))"
   ]
  },
  {
   "cell_type": "code",
   "execution_count": 50,
   "metadata": {},
   "outputs": [
    {
     "data": {
      "text/plain": [
       "tensor([-69.7354, -73.3459, -61.1760, -89.5785, -77.5670, -75.3314, -58.9335,\n",
       "        -63.5868, -66.1187], grad_fn=<MulBackward0>)"
      ]
     },
     "execution_count": 50,
     "metadata": {},
     "output_type": "execute_result"
    }
   ],
   "source": [
    "f(torch.rand((9,6)))"
   ]
  },
  {
   "cell_type": "code",
   "execution_count": 51,
   "metadata": {},
   "outputs": [
    {
     "data": {
      "text/plain": [
       "tensor([[ 1.3887e-16,  2.3443e-14, -5.6742e-25, -1.3181e-17,  7.7690e-16,\n",
       "          2.3195e-20,  7.8268e-17],\n",
       "        [ 2.1112e-16, -3.3355e-16, -4.7182e-16, -9.7660e-13,  5.6408e-16,\n",
       "         -7.7414e-18, -3.8019e-14],\n",
       "        [ 2.7246e-15, -1.4562e-16,  1.0129e-17,  2.7563e-16, -6.9796e-19,\n",
       "          3.9876e-17, -2.1518e-18]], grad_fn=<MulBackward0>)"
      ]
     },
     "execution_count": 51,
     "metadata": {},
     "output_type": "execute_result"
    }
   ],
   "source": [
    "f.wave(torch.rand((3,7,6)))"
   ]
  },
  {
   "cell_type": "code",
   "execution_count": 20,
   "metadata": {},
   "outputs": [],
   "source": [
    "a = torch.exp(-2*x.unsqueeze(-1)) - torch.exp(-2*x.unsqueeze(-2))\n",
    "alpha = torch.rand(5)"
   ]
  },
  {
   "cell_type": "code",
   "execution_count": null,
   "metadata": {},
   "outputs": [],
   "source": [
    "torch.sum(torch.log(torch.abs(a[...,torch.triu(torch.ones(self.alpha.shape), diagonal=1).nonzero(as_tuple = True)[0],torch.triu(torch.ones(self.alpha.shape), diagonal=1).nonzero(as_tuple = True)[1] ])),-1)\n"
   ]
  },
  {
   "cell_type": "code",
   "execution_count": 33,
   "metadata": {},
   "outputs": [
    {
     "data": {
      "text/plain": [
       "tensor([-13.8551, -23.7369, -15.4061, -12.1034])"
      ]
     },
     "execution_count": 33,
     "metadata": {},
     "output_type": "execute_result"
    }
   ],
   "source": [
    "torch.sum(torch.log(torch.abs(a[...,torch.triu(torch.ones(alpha.shape[0],alpha.shape[0]), diagonal=1).nonzero(as_tuple = True)[0],torch.triu(torch.ones(alpha.shape[0],alpha.shape[0]), diagonal=1).nonzero(as_tuple = True)[1] ])),-1)"
   ]
  },
  {
   "cell_type": "code",
   "execution_count": 22,
   "metadata": {},
   "outputs": [
    {
     "ename": "IndexError",
     "evalue": "Dimension out of range (expected to be in range of [-1, 0], but got -2)",
     "output_type": "error",
     "traceback": [
      "\u001b[0;31m---------------------------------------------------------------------------\u001b[0m",
      "\u001b[0;31mIndexError\u001b[0m                                Traceback (most recent call last)",
      "\u001b[0;32m<ipython-input-22-005fa460e5a7>\u001b[0m in \u001b[0;36m<module>\u001b[0;34m\u001b[0m\n\u001b[0;32m----> 1\u001b[0;31m \u001b[0mtorch\u001b[0m\u001b[0;34m.\u001b[0m\u001b[0mtriu\u001b[0m\u001b[0;34m(\u001b[0m\u001b[0mtorch\u001b[0m\u001b[0;34m.\u001b[0m\u001b[0mones\u001b[0m\u001b[0;34m(\u001b[0m\u001b[0malpha\u001b[0m\u001b[0;34m.\u001b[0m\u001b[0mshape\u001b[0m\u001b[0;34m)\u001b[0m\u001b[0;34m,\u001b[0m \u001b[0mdiagonal\u001b[0m\u001b[0;34m=\u001b[0m\u001b[0;36m1\u001b[0m\u001b[0;34m)\u001b[0m\u001b[0;34m\u001b[0m\u001b[0;34m\u001b[0m\u001b[0m\n\u001b[0m",
      "\u001b[0;31mIndexError\u001b[0m: Dimension out of range (expected to be in range of [-1, 0], but got -2)"
     ]
    }
   ],
   "source": [
    "torch.triu(torch.ones(alpha.shape), diagonal=1)"
   ]
  },
  {
   "cell_type": "code",
   "execution_count": 25,
   "metadata": {},
   "outputs": [
    {
     "data": {
      "text/plain": [
       "5"
      ]
     },
     "execution_count": 25,
     "metadata": {},
     "output_type": "execute_result"
    }
   ],
   "source": [
    "alpha.shape[0]"
   ]
  },
  {
   "cell_type": "code",
   "execution_count": null,
   "metadata": {},
   "outputs": [],
   "source": []
  }
 ],
 "metadata": {
  "kernelspec": {
   "display_name": "Python 3",
   "language": "python",
   "name": "python3"
  },
  "language_info": {
   "codemirror_mode": {
    "name": "ipython",
    "version": 3
   },
   "file_extension": ".py",
   "mimetype": "text/x-python",
   "name": "python",
   "nbconvert_exporter": "python",
   "pygments_lexer": "ipython3",
   "version": "3.7.7"
  }
 },
 "nbformat": 4,
 "nbformat_minor": 4
}
