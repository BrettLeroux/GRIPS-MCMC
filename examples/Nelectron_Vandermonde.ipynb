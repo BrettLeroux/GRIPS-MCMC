{
 "cells": [
  {
   "cell_type": "code",
   "execution_count": 2,
   "metadata": {},
   "outputs": [],
   "source": [
    "import torch\n",
    "import numpy as np\n",
    "from qmc.tracehess import autograd_trace_hessian\n",
    "from torch import nn, optim"
   ]
  },
  {
   "cell_type": "code",
   "execution_count": 139,
   "metadata": {},
   "outputs": [],
   "source": [
    "class NelectronVander(nn.Module):\n",
    "    #ansatz given by the Vandermonde determinant of the one electron wavefunctions e^(-alpha_i*r_i)\n",
    "    #input is 1D tensor which determines the number of particles (i.e. the dimension)\n",
    "    def __init__(self, alpha):\n",
    "        super(NelectronVander, self).__init__()\n",
    "        self.alpha = nn.Parameter(alpha)\n",
    "    \n",
    "    def forward(self, x):\n",
    "        #returns the log prob. of the wavefunction\n",
    "        #input is tensor of size m x alpha.size or m x n x alpha.size\n",
    "        a = torch.exp(-self.alpha*x.unsqueeze(-1)) - torch.exp(-self.alpha*x.unsqueeze(-2))\n",
    "        return 2 * torch.sum(torch.log(torch.abs(a[...,torch.triu(torch.ones(a.shape[-1],a.shape[-1]), diagonal=1).nonzero(as_tuple = True)[0],torch.triu(torch.ones(5,5), diagonal=1).nonzero(as_tuple = True)[1] ])),-1)\n",
    "    \n",
    "    \n",
    "    def wave(self,x):\n",
    "        # Returns the value of the wavefunction\n",
    "        #input is tensor of size m x alpha.size or m x n x alpha.size\n",
    "        a = torch.exp(-self.alpha*x.unsqueeze(-1)) - torch.exp(-self.alpha*x.unsqueeze(-2))\n",
    "        return torch.prod(a[...,torch.triu(torch.ones(a.shape[-1],a.shape[-1]), diagonal=1).nonzero(as_tuple = True)[0],torch.triu(torch.ones(5,5), diagonal=1).nonzero(as_tuple = True)[1] ],-1)\n",
    "    \n",
    "    \n",
    "        "
   ]
  },
  {
   "cell_type": "code",
   "execution_count": 140,
   "metadata": {},
   "outputs": [],
   "source": [
    "class NelectronVanderWithMult(nn.Module):\n",
    "    #ansatz given by the Vandermonde determinant of the one electron wavefunctions e^(-alpha_i * r_i) \n",
    "    #multiplied by e^(-beta * (r_1 + r_2 + ... r_N))\n",
    "    #input is alpha, beta where alpha is 1D tensor which determines the number of particles and beta is scalar\n",
    "    def __init__(self, alpha, beta):\n",
    "        super(NelectronVanderWithMult, self).__init__()\n",
    "        self.alpha = nn.Parameter(alpha)\n",
    "        self.beta = nn.Parameter(beta)\n",
    "    \n",
    "    def forward(self, x):\n",
    "        #returns the log prob. of the wavefunction\n",
    "        #input is tensor of size m x alpha.size or m x n x alpha.size\n",
    "        a = torch.exp(-self.alpha*x.unsqueeze(-1)) - torch.exp(-self.alpha*x.unsqueeze(-2))\n",
    "        return 2 * ( -self.beta * torch.sum(x, -1)\n",
    "            + torch.sum(torch.log(torch.abs(a[...,torch.triu(torch.ones(a.shape[-1],a.shape[-1]), diagonal=1).nonzero(as_tuple = True)[0],torch.triu(torch.ones(5,5), diagonal=1).nonzero(as_tuple = True)[1] ])),-1) )\n",
    "    \n",
    "    \n",
    "    def wave(self,x):\n",
    "        # Returns the value of the wavefunction\n",
    "        #input is tensor of size m x alpha.size or m x n x alpha.size\n",
    "        a = torch.exp(-self.alpha*x.unsqueeze(-1)) - torch.exp(-self.alpha*x.unsqueeze(-2))\n",
    "        return torch.exp(-self.beta * torch.sum(x, -1)) * torch.prod(a[...,torch.triu(torch.ones(a.shape[-1],a.shape[-1]), diagonal=1).nonzero(as_tuple = True)[0],torch.triu(torch.ones(5,5), diagonal=1).nonzero(as_tuple = True)[1] ],-1)\n",
    "    \n",
    "    "
   ]
  },
  {
   "cell_type": "code",
   "execution_count": 141,
   "metadata": {},
   "outputs": [],
   "source": [
    "f = Vander(torch.rand(5))"
   ]
  },
  {
   "cell_type": "code",
   "execution_count": 142,
   "metadata": {},
   "outputs": [
    {
     "data": {
      "text/plain": [
       "tensor([-51.4964, -69.6246, -44.5690], grad_fn=<MulBackward0>)"
      ]
     },
     "execution_count": 142,
     "metadata": {},
     "output_type": "execute_result"
    }
   ],
   "source": [
    "f(torch.rand((3,5)))"
   ]
  },
  {
   "cell_type": "code",
   "execution_count": 143,
   "metadata": {},
   "outputs": [
    {
     "data": {
      "text/plain": [
       "tensor([[ 1.8694e-09, -2.8327e-10,  1.3979e-12, -4.4184e-14, -4.1318e-10,\n",
       "          7.2100e-10, -7.7997e-13],\n",
       "        [-2.7059e-09, -1.2367e-12, -5.7399e-11, -8.0265e-12, -2.8806e-14,\n",
       "         -6.4007e-13,  2.4216e-12],\n",
       "        [ 1.8610e-13, -6.9472e-11, -5.4461e-11, -1.7440e-10,  3.3216e-10,\n",
       "          3.2762e-10,  8.8517e-13]], grad_fn=<ProdBackward1>)"
      ]
     },
     "execution_count": 143,
     "metadata": {},
     "output_type": "execute_result"
    }
   ],
   "source": [
    "f.wave(torch.rand((3,7,5)))"
   ]
  },
  {
   "cell_type": "code",
   "execution_count": 144,
   "metadata": {},
   "outputs": [],
   "source": [
    "x = torch.rand(4,6,5)"
   ]
  },
  {
   "cell_type": "code",
   "execution_count": 145,
   "metadata": {},
   "outputs": [],
   "source": [
    "f = VanderWithMult(torch.rand(5),torch.rand(1))"
   ]
  },
  {
   "cell_type": "code",
   "execution_count": 146,
   "metadata": {},
   "outputs": [
    {
     "data": {
      "text/plain": [
       "tensor([-53.4959, -62.1351, -48.9421, -53.1415, -51.5963, -50.9587, -66.0183,\n",
       "        -51.8630, -53.8266], grad_fn=<MulBackward0>)"
      ]
     },
     "execution_count": 146,
     "metadata": {},
     "output_type": "execute_result"
    }
   ],
   "source": [
    "f(torch.rand((9,5)))"
   ]
  },
  {
   "cell_type": "code",
   "execution_count": 147,
   "metadata": {},
   "outputs": [
    {
     "data": {
      "text/plain": [
       "tensor([[-1.1833e-11, -7.2249e-15,  1.1890e-15, -5.4304e-13, -5.0313e-13,\n",
       "         -4.4071e-12,  1.7126e-11],\n",
       "        [-2.5826e-16, -9.0713e-13,  6.5776e-14,  6.9954e-11, -6.2504e-12,\n",
       "         -3.5978e-11,  1.3293e-12],\n",
       "        [-2.4254e-15, -1.4774e-12,  9.6951e-13, -9.8323e-13,  6.8342e-13,\n",
       "          8.5196e-12,  1.3433e-10]], grad_fn=<MulBackward0>)"
      ]
     },
     "execution_count": 147,
     "metadata": {},
     "output_type": "execute_result"
    }
   ],
   "source": [
    "f.wave(torch.rand((3,7,5)))"
   ]
  },
  {
   "cell_type": "code",
   "execution_count": null,
   "metadata": {},
   "outputs": [],
   "source": []
  }
 ],
 "metadata": {
  "kernelspec": {
   "display_name": "Python 3",
   "language": "python",
   "name": "python3"
  },
  "language_info": {
   "codemirror_mode": {
    "name": "ipython",
    "version": 3
   },
   "file_extension": ".py",
   "mimetype": "text/x-python",
   "name": "python",
   "nbconvert_exporter": "python",
   "pygments_lexer": "ipython3",
   "version": "3.7.7"
  }
 },
 "nbformat": 4,
 "nbformat_minor": 4
}
