{
 "cells": [
  {
   "cell_type": "code",
   "execution_count": 1,
   "metadata": {},
   "outputs": [],
   "source": [
    "import torch\n",
    "import numpy as np\n",
    "from qmc.tracehess import autograd_trace_hessian\n",
    "from torch import nn, optim"
   ]
  },
  {
   "cell_type": "code",
   "execution_count": 2,
   "metadata": {},
   "outputs": [],
   "source": [
    "class NelectronVander(nn.Module):\n",
    "    #ansatz given by the Vandermonde determinant of the one electron wavefunctions e^(-alpha_i*r_i)\n",
    "    #input is 1D tensor which determines the number of particles (i.e. the dimension)\n",
    "    def __init__(self, alpha):\n",
    "        super(NelectronVander, self).__init__()\n",
    "        self.alpha = nn.Parameter(alpha)\n",
    "    \n",
    "    def forward(self, x):\n",
    "        #returns the log prob. of the wavefunction\n",
    "        #input is tensor of size m x alpha.size or m x n x alpha.size\n",
    "        a = torch.exp(-self.alpha*x.unsqueeze(-1)) - torch.exp(-self.alpha*x.unsqueeze(-2))\n",
    "        return 2 * torch.sum(torch.log(torch.abs(a[...,torch.triu(torch.ones(a.shape[-1],a.shape[-1]), diagonal=1).nonzero(as_tuple = True)[0],torch.triu(torch.ones(5,5), diagonal=1).nonzero(as_tuple = True)[1] ])),-1)\n",
    "    \n",
    "    \n",
    "    def wave(self,x):\n",
    "        # Returns the value of the wavefunction\n",
    "        #input is tensor of size m x alpha.size or m x n x alpha.size\n",
    "        a = torch.exp(-self.alpha*x.unsqueeze(-1)) - torch.exp(-self.alpha*x.unsqueeze(-2))\n",
    "        return torch.prod(a[...,torch.triu(torch.ones(a.shape[-1],a.shape[-1]), diagonal=1).nonzero(as_tuple = True)[0],torch.triu(torch.ones(5,5), diagonal=1).nonzero(as_tuple = True)[1] ],-1)\n",
    "    \n",
    "    \n",
    "        "
   ]
  },
  {
   "cell_type": "code",
   "execution_count": 3,
   "metadata": {},
   "outputs": [],
   "source": [
    "class NelectronVanderWithMult(nn.Module):\n",
    "    #ansatz given by the Vandermonde determinant of the one electron wavefunctions e^(-alpha_i * r_i) \n",
    "    #multiplied by e^(-beta * (r_1 + r_2 + ... r_N))\n",
    "    #input is alpha, beta where alpha is 1D tensor which determines the number of particles and beta is scalar\n",
    "    def __init__(self, alpha, beta):\n",
    "        super(NelectronVanderWithMult, self).__init__()\n",
    "        self.alpha = nn.Parameter(alpha)\n",
    "        self.beta = nn.Parameter(beta)\n",
    "    \n",
    "    def forward(self, x):\n",
    "        #returns the log prob. of the wavefunction\n",
    "        #input is tensor of size m x alpha.size or m x n x alpha.size\n",
    "        a = torch.exp(-self.alpha*x.unsqueeze(-1)) - torch.exp(-self.alpha*x.unsqueeze(-2))\n",
    "        return 2 * ( -self.beta * torch.sum(x, -1)\n",
    "            + torch.sum(torch.log(torch.abs(a[...,torch.triu(torch.ones(a.shape[-1],a.shape[-1]), diagonal=1).nonzero(as_tuple = True)[0],torch.triu(torch.ones(5,5), diagonal=1).nonzero(as_tuple = True)[1] ])),-1) )\n",
    "    \n",
    "    \n",
    "    def wave(self,x):\n",
    "        # Returns the value of the wavefunction\n",
    "        #input is tensor of size m x alpha.size or m x n x alpha.size\n",
    "        a = torch.exp(-self.alpha*x.unsqueeze(-1)) - torch.exp(-self.alpha*x.unsqueeze(-2))\n",
    "        return torch.exp(-self.beta * torch.sum(x, -1)) * torch.prod(a[...,torch.triu(torch.ones(a.shape[-1],a.shape[-1]), diagonal=1).nonzero(as_tuple = True)[0],torch.triu(torch.ones(5,5), diagonal=1).nonzero(as_tuple = True)[1] ],-1)\n",
    "    \n",
    "    "
   ]
  },
  {
   "cell_type": "code",
   "execution_count": 5,
   "metadata": {},
   "outputs": [],
   "source": [
    "f = NelectronVander(torch.rand(5))"
   ]
  },
  {
   "cell_type": "code",
   "execution_count": 6,
   "metadata": {},
   "outputs": [
    {
     "data": {
      "text/plain": [
       "tensor([-58.3537, -47.6753, -50.1161], grad_fn=<MulBackward0>)"
      ]
     },
     "execution_count": 6,
     "metadata": {},
     "output_type": "execute_result"
    }
   ],
   "source": [
    "f(torch.rand((3,5)))"
   ]
  },
  {
   "cell_type": "code",
   "execution_count": 7,
   "metadata": {},
   "outputs": [
    {
     "data": {
      "text/plain": [
       "tensor([[ 7.7231e-10, -2.9062e-16,  8.7250e-13,  1.8854e-12, -2.2168e-17,\n",
       "          5.7117e-14, -5.4074e-10],\n",
       "        [ 5.8062e-10, -2.8236e-10, -5.8728e-14, -3.1776e-12, -5.4689e-11,\n",
       "         -3.7469e-12,  3.7089e-13],\n",
       "        [ 2.6654e-11,  5.0569e-12, -5.6491e-12,  1.0574e-14,  3.6131e-12,\n",
       "         -4.9153e-12,  1.1617e-11]], grad_fn=<ProdBackward1>)"
      ]
     },
     "execution_count": 7,
     "metadata": {},
     "output_type": "execute_result"
    }
   ],
   "source": [
    "f.wave(torch.rand((3,7,5)))"
   ]
  },
  {
   "cell_type": "code",
   "execution_count": 8,
   "metadata": {},
   "outputs": [],
   "source": [
    "x = torch.rand(4,6,5)"
   ]
  },
  {
   "cell_type": "code",
   "execution_count": 9,
   "metadata": {},
   "outputs": [],
   "source": [
    "f = NelectronVanderWithMult(torch.rand(5),torch.rand(1))"
   ]
  },
  {
   "cell_type": "code",
   "execution_count": 10,
   "metadata": {},
   "outputs": [
    {
     "data": {
      "text/plain": [
       "tensor([[ 1.6081e-11,  9.3768e-13, -1.3205e-10, -4.5301e-10,  1.3010e-09,\n",
       "         -2.6110e-11,  1.3874e-11],\n",
       "        [ 9.7023e-15, -4.8613e-11, -6.5874e-11, -3.5132e-11, -1.1234e-12,\n",
       "         -7.5927e-10,  2.9838e-11],\n",
       "        [-1.4216e-10,  6.1855e-11, -2.8439e-11,  7.5238e-11, -1.8356e-10,\n",
       "          3.3950e-11,  2.0195e-15]], grad_fn=<MulBackward0>)"
      ]
     },
     "execution_count": 10,
     "metadata": {},
     "output_type": "execute_result"
    }
   ],
   "source": [
    "f.wave(torch.rand((3,7,5)))"
   ]
  },
  {
   "cell_type": "code",
   "execution_count": 11,
   "metadata": {},
   "outputs": [
    {
     "data": {
      "text/plain": [
       "tensor([-51.4866, -50.4453, -45.3356, -45.0058, -59.7260, -47.8277, -45.8100,\n",
       "        -59.9616, -52.4779], grad_fn=<MulBackward0>)"
      ]
     },
     "execution_count": 11,
     "metadata": {},
     "output_type": "execute_result"
    }
   ],
   "source": [
    "f(torch.rand((9,5)))"
   ]
  },
  {
   "cell_type": "code",
   "execution_count": null,
   "metadata": {},
   "outputs": [],
   "source": []
  }
 ],
 "metadata": {
  "kernelspec": {
   "display_name": "Python 3",
   "language": "python",
   "name": "python3"
  },
  "language_info": {
   "codemirror_mode": {
    "name": "ipython",
    "version": 3
   },
   "file_extension": ".py",
   "mimetype": "text/x-python",
   "name": "python",
   "nbconvert_exporter": "python",
   "pygments_lexer": "ipython3",
   "version": "3.7.7"
  }
 },
 "nbformat": 4,
 "nbformat_minor": 4
}
