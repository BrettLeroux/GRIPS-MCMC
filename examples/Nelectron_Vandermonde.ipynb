{
 "cells": [
  {
   "cell_type": "code",
   "execution_count": 1,
   "metadata": {},
   "outputs": [],
   "source": [
    "import torch\n",
    "import numpy as np\n",
    "from qmc.tracehess import autograd_trace_hessian\n",
    "from torch import nn, optim"
   ]
  },
  {
   "cell_type": "code",
   "execution_count": 2,
   "metadata": {},
   "outputs": [],
   "source": [
    "class NelectronVandermonde(nn.Module):\n",
    "    def __init__(self, alpha):\n",
    "        super(NelectronVandermonde, self).__init__()\n",
    "        self.alpha = nn.Parameter(alpha)\n",
    "    \n",
    "    def forward(self, x):\n",
    "        #returns the log prob. of the wavefunction given by the Vandermonde\n",
    "        #determinant of the one electron wavefunctions e^(alpha*r_i)\n",
    "        a = torch.exp(self.alpha*x.unsqueeze(-1)) - torch.exp(self.alpha*x.unsqueeze(-2))\n",
    "        return 2 * torch.sum(torch.log(torch.abs(a[:,torch.triu(torch.ones(a[0].shape), diagonal = 1) == 1])),-1)\n",
    "    \n",
    "    def wave(self,x):\n",
    "        # Returns the value of the wavefunction given by the Vandermonde\n",
    "        #determinant of the one electron wavefunctions e^(alpha*r_i)\n",
    "        a = torch.exp(self.alpha*x.unsqueeze(-1)) - torch.exp(self.alpha*x.unsqueeze(-2))\n",
    "        return torch.prod(a[:,torch.triu(torch.ones(a[0].shape), diagonal = 1) == 1],-1)"
   ]
  },
  {
   "cell_type": "code",
   "execution_count": 4,
   "metadata": {},
   "outputs": [],
   "source": [
    "f = NelectronVandermonde(torch.rand(5))"
   ]
  },
  {
   "cell_type": "code",
   "execution_count": 7,
   "metadata": {},
   "outputs": [
    {
     "data": {
      "text/plain": [
       "tensor([-56.9607, -45.5588, -60.8617], grad_fn=<MulBackward0>)"
      ]
     },
     "execution_count": 7,
     "metadata": {},
     "output_type": "execute_result"
    }
   ],
   "source": [
    "f(torch.rand((3,5)))"
   ]
  },
  {
   "cell_type": "code",
   "execution_count": null,
   "metadata": {},
   "outputs": [],
   "source": []
  }
 ],
 "metadata": {
  "kernelspec": {
   "display_name": "Python 3",
   "language": "python",
   "name": "python3"
  },
  "language_info": {
   "codemirror_mode": {
    "name": "ipython",
    "version": 3
   },
   "file_extension": ".py",
   "mimetype": "text/x-python",
   "name": "python",
   "nbconvert_exporter": "python",
   "pygments_lexer": "ipython3",
   "version": "3.7.7"
  }
 },
 "nbformat": 4,
 "nbformat_minor": 4
}
