{
 "cells": [
  {
   "cell_type": "code",
   "execution_count": 200,
   "metadata": {},
   "outputs": [],
   "source": [
    "import torch\n",
    "from torch import nn, optim\n",
    "import numpy as np\n",
    "import hamiltorch\n",
    "from qmc.local_energy import auto_hamiltonian_generator_atoms\n",
    "from qmc.tracehess import autograd_trace_hessian"
   ]
  },
  {
   "cell_type": "code",
   "execution_count": 201,
   "metadata": {},
   "outputs": [],
   "source": [
    "from qmc.mcmc import metropolis_symmetric, metropolis_asymmetric,unadjusted_langevin, normal_proposal, clip_normal_proposal, NormalProposal, ClipNormalProposal\n",
    "from qmc.wavefunction import HarmonicTrialFunction, HydrogenTrialWavefunction, HeliumTrialWavefunction, NelectronVander"
   ]
  },
  {
   "cell_type": "code",
   "execution_count": 202,
   "metadata": {},
   "outputs": [],
   "source": [
    "def energy_minimize_step(trialfunc, samples, optimizer):\n",
    "    local_energies = trialfunc.local_energy(samples).detach()\n",
    "    mean_local_energy = local_energies.mean()\n",
    "    print('energy is', mean_local_energy)\n",
    "    sample_logprobs = trialfunc(samples)\n",
    "    loss = ((local_energies - mean_local_energy) * sample_logprobs).mean()\n",
    "    optimizer.zero_grad()\n",
    "    loss.backward()\n",
    "    print('grad is', trialfunc.alpha.grad)\n",
    "    optimizer.step()"
   ]
  },
  {
   "cell_type": "code",
   "execution_count": 207,
   "metadata": {},
   "outputs": [],
   "source": [
    "def vmc_iterate(tf, init_config, num_iters=100):\n",
    "    opt = optim.SGD(tf.parameters(), lr=5e-2,momentum=0.0)\n",
    "    #propdist = NormalProposal(0.3)\n",
    "    propdist = ClipNormalProposal(0.5, min_val=0.1)\n",
    "    for i in range(num_iters):\n",
    "        results=metropolis_symmetric(tf, init_config, proposal = propdist ,num_walkers=100, num_steps=5000)\n",
    "        energy_minimize_step(tf, results, opt)\n",
    "        print(tf.alpha)"
   ]
  },
  {
   "cell_type": "code",
   "execution_count": 97,
   "metadata": {},
   "outputs": [],
   "source": [
    "N = 2\n",
    "d = 3"
   ]
  },
  {
   "cell_type": "code",
   "execution_count": 143,
   "metadata": {},
   "outputs": [],
   "source": [
    "init_config = torch.rand(100, d)"
   ]
  },
  {
   "cell_type": "code",
   "execution_count": 108,
   "metadata": {},
   "outputs": [],
   "source": [
    "class NelectronVanderCusp(nn.Module):\n",
    "    #ansatz given by the Vandermonde determinant of the one electron wavefunctions e^(-alpha*r_i) multiplied by product of e^(-1/r_i) for all i\n",
    "    #input is 1-element tensor alpha and 1D tensor dim which determines the number of particles (i.e. the dimension)\n",
    "    def __init__(self, alpha, dim):\n",
    "        super(NelectronVanderCusp, self).__init__()\n",
    "        self.alpha = nn.Parameter(alpha)\n",
    "        self.dim = dim\n",
    "            \n",
    "    def forward(self, x):\n",
    "        #returns the log prob. of the wavefunction\n",
    "        #input is tensor of size m x alpha.size or m x n x alpha.size\n",
    "        a = torch.exp(-self.alpha*x.unsqueeze(-1)) - torch.exp(-self.alpha*x.unsqueeze(-2))\n",
    "        return 2 * (-torch.sum(1/x, -1) + torch.sum(torch.log(torch.abs(a[...,torch.triu(torch.ones(self.dim,self.dim), diagonal=1).nonzero(as_tuple = True)[0],torch.triu(torch.ones(self.dim,self.dim), diagonal=1).nonzero(as_tuple = True)[1] ])),-1))\n",
    "    \n",
    "    def wave(self,x):\n",
    "        # Returns the value of the wavefunction\n",
    "        #input is tensor of size m x alpha.size or m x n x alpha.size\n",
    "        a = torch.exp(-self.alpha*x.unsqueeze(-1)) - torch.exp(-self.alpha*x.unsqueeze(-2))\n",
    "        return torch.exp(-torch.sum(1/x, -1)) * torch.exp(torch.prod(a[...,torch.triu(torch.ones(self.dim,self.dim), diagonal=1).nonzero(as_tuple = True)[0],torch.triu(torch.ones(self.dim,self.dim), diagonal=1).nonzero(as_tuple = True)[1] ],-1)\n",
    "    \n",
    "    def local_energy(self, x):\n",
    "        return auto_hamiltonian_generator_atoms(self, N, x) / self.wave(x)"
   ]
  },
  {
   "cell_type": "code",
   "execution_count": 109,
   "metadata": {},
   "outputs": [],
   "source": [
    "tf = NelectronVanderCusp(.5*torch.ones(1),d)"
   ]
  },
  {
   "cell_type": "code",
   "execution_count": 110,
   "metadata": {},
   "outputs": [
    {
     "name": "stdout",
     "output_type": "stream",
     "text": [
      "energy is tensor(nan)\n",
      "grad is tensor([nan])\n",
      "Parameter containing:\n",
      "tensor([nan], requires_grad=True)\n"
     ]
    },
    {
     "ename": "RuntimeError",
     "evalue": "Expected p_in >= 0 && p_in <= 1 to be true, but got false.  (Could this error message be improved?  If so, please report an enhancement request to PyTorch.)",
     "output_type": "error",
     "traceback": [
      "\u001b[0;31m---------------------------------------------------------------------------\u001b[0m",
      "\u001b[0;31mRuntimeError\u001b[0m                              Traceback (most recent call last)",
      "\u001b[0;32m<ipython-input-110-0259878722ce>\u001b[0m in \u001b[0;36m<module>\u001b[0;34m\u001b[0m\n\u001b[0;32m----> 1\u001b[0;31m \u001b[0mvmc_iterate\u001b[0m\u001b[0;34m(\u001b[0m\u001b[0mtf\u001b[0m\u001b[0;34m,\u001b[0m \u001b[0minit_config\u001b[0m\u001b[0;34m)\u001b[0m\u001b[0;34m\u001b[0m\u001b[0;34m\u001b[0m\u001b[0m\n\u001b[0m",
      "\u001b[0;32m<ipython-input-72-36cf07c4daf9>\u001b[0m in \u001b[0;36mvmc_iterate\u001b[0;34m(tf, init_config, num_iters)\u001b[0m\n\u001b[1;32m      4\u001b[0m     \u001b[0;31m#propdist = ClipNormalProposal(0.1, min_val=0.0)\u001b[0m\u001b[0;34m\u001b[0m\u001b[0;34m\u001b[0m\u001b[0;34m\u001b[0m\u001b[0m\n\u001b[1;32m      5\u001b[0m     \u001b[0;32mfor\u001b[0m \u001b[0mi\u001b[0m \u001b[0;32min\u001b[0m \u001b[0mrange\u001b[0m\u001b[0;34m(\u001b[0m\u001b[0mnum_iters\u001b[0m\u001b[0;34m)\u001b[0m\u001b[0;34m:\u001b[0m\u001b[0;34m\u001b[0m\u001b[0;34m\u001b[0m\u001b[0m\n\u001b[0;32m----> 6\u001b[0;31m         \u001b[0mresults\u001b[0m\u001b[0;34m=\u001b[0m\u001b[0mmetropolis_symmetric\u001b[0m\u001b[0;34m(\u001b[0m\u001b[0mtf\u001b[0m\u001b[0;34m,\u001b[0m \u001b[0minit_config\u001b[0m\u001b[0;34m,\u001b[0m \u001b[0mpropdist\u001b[0m\u001b[0;34m,\u001b[0m \u001b[0mnum_walkers\u001b[0m\u001b[0;34m=\u001b[0m\u001b[0;36m100\u001b[0m\u001b[0;34m,\u001b[0m \u001b[0mnum_steps\u001b[0m\u001b[0;34m=\u001b[0m\u001b[0;36m5000\u001b[0m\u001b[0;34m)\u001b[0m\u001b[0;34m\u001b[0m\u001b[0;34m\u001b[0m\u001b[0m\n\u001b[0m\u001b[1;32m      7\u001b[0m         \u001b[0menergy_minimize_step\u001b[0m\u001b[0;34m(\u001b[0m\u001b[0mtf\u001b[0m\u001b[0;34m,\u001b[0m \u001b[0mresults\u001b[0m\u001b[0;34m,\u001b[0m \u001b[0mopt\u001b[0m\u001b[0;34m)\u001b[0m\u001b[0;34m\u001b[0m\u001b[0;34m\u001b[0m\u001b[0m\n\u001b[1;32m      8\u001b[0m         \u001b[0mprint\u001b[0m\u001b[0;34m(\u001b[0m\u001b[0mtf\u001b[0m\u001b[0;34m.\u001b[0m\u001b[0malpha\u001b[0m\u001b[0;34m)\u001b[0m\u001b[0;34m\u001b[0m\u001b[0;34m\u001b[0m\u001b[0m\n",
      "\u001b[0;32m~/GRIPS-MCMC/qmc/mcmc.py\u001b[0m in \u001b[0;36mmetropolis_symmetric\u001b[0;34m(trialfunc, init_config, proposal, num_walkers, num_steps)\u001b[0m\n\u001b[1;32m     66\u001b[0m             \u001b[0macc\u001b[0m \u001b[0;34m=\u001b[0m \u001b[0msymmetric_mh_acceptance_ratio\u001b[0m\u001b[0;34m(\u001b[0m\u001b[0mtrialfunc\u001b[0m\u001b[0;34m,\u001b[0m \u001b[0mconfig\u001b[0m\u001b[0;34m,\u001b[0m \u001b[0mnext_config\u001b[0m\u001b[0;34m)\u001b[0m\u001b[0;34m.\u001b[0m\u001b[0munsqueeze\u001b[0m\u001b[0;34m(\u001b[0m\u001b[0;34m-\u001b[0m\u001b[0;36m1\u001b[0m\u001b[0;34m)\u001b[0m\u001b[0;34m\u001b[0m\u001b[0;34m\u001b[0m\u001b[0m\n\u001b[1;32m     67\u001b[0m         \u001b[0;31m# acc shape should be (num_walkers, 1) hence need unsqueeze\u001b[0m\u001b[0;34m\u001b[0m\u001b[0;34m\u001b[0m\u001b[0;34m\u001b[0m\u001b[0m\n\u001b[0;32m---> 68\u001b[0;31m             \u001b[0maccept_or_reject\u001b[0m \u001b[0;34m=\u001b[0m \u001b[0mBernoulli\u001b[0m\u001b[0;34m(\u001b[0m\u001b[0macc\u001b[0m\u001b[0;34m)\u001b[0m\u001b[0;34m.\u001b[0m\u001b[0msample\u001b[0m\u001b[0;34m(\u001b[0m\u001b[0;34m)\u001b[0m \u001b[0;31m# accept is 1, reject is 0\u001b[0m\u001b[0;34m\u001b[0m\u001b[0;34m\u001b[0m\u001b[0m\n\u001b[0m\u001b[1;32m     69\u001b[0m             \u001b[0mconfig\u001b[0m \u001b[0;34m=\u001b[0m \u001b[0maccept_or_reject\u001b[0m\u001b[0;34m*\u001b[0m\u001b[0mnext_config\u001b[0m \u001b[0;34m+\u001b[0m \u001b[0;34m(\u001b[0m\u001b[0;36m1.0\u001b[0m \u001b[0;34m-\u001b[0m \u001b[0maccept_or_reject\u001b[0m\u001b[0;34m)\u001b[0m\u001b[0;34m*\u001b[0m\u001b[0mconfig\u001b[0m\u001b[0;34m\u001b[0m\u001b[0;34m\u001b[0m\u001b[0m\n\u001b[1;32m     70\u001b[0m             \u001b[0mall_configs\u001b[0m\u001b[0;34m.\u001b[0m\u001b[0mappend\u001b[0m\u001b[0;34m(\u001b[0m\u001b[0mconfig\u001b[0m\u001b[0;34m.\u001b[0m\u001b[0mclone\u001b[0m\u001b[0;34m(\u001b[0m\u001b[0;34m)\u001b[0m\u001b[0;34m)\u001b[0m \u001b[0;31m# can we skip clone here?\u001b[0m\u001b[0;34m\u001b[0m\u001b[0;34m\u001b[0m\u001b[0m\n",
      "\u001b[0;32m~/opt/anaconda3/envs/qmc/lib/python3.7/site-packages/torch/distributions/bernoulli.py\u001b[0m in \u001b[0;36msample\u001b[0;34m(self, sample_shape)\u001b[0m\n\u001b[1;32m     87\u001b[0m         \u001b[0mshape\u001b[0m \u001b[0;34m=\u001b[0m \u001b[0mself\u001b[0m\u001b[0;34m.\u001b[0m\u001b[0m_extended_shape\u001b[0m\u001b[0;34m(\u001b[0m\u001b[0msample_shape\u001b[0m\u001b[0;34m)\u001b[0m\u001b[0;34m\u001b[0m\u001b[0;34m\u001b[0m\u001b[0m\n\u001b[1;32m     88\u001b[0m         \u001b[0;32mwith\u001b[0m \u001b[0mtorch\u001b[0m\u001b[0;34m.\u001b[0m\u001b[0mno_grad\u001b[0m\u001b[0;34m(\u001b[0m\u001b[0;34m)\u001b[0m\u001b[0;34m:\u001b[0m\u001b[0;34m\u001b[0m\u001b[0;34m\u001b[0m\u001b[0m\n\u001b[0;32m---> 89\u001b[0;31m             \u001b[0;32mreturn\u001b[0m \u001b[0mtorch\u001b[0m\u001b[0;34m.\u001b[0m\u001b[0mbernoulli\u001b[0m\u001b[0;34m(\u001b[0m\u001b[0mself\u001b[0m\u001b[0;34m.\u001b[0m\u001b[0mprobs\u001b[0m\u001b[0;34m.\u001b[0m\u001b[0mexpand\u001b[0m\u001b[0;34m(\u001b[0m\u001b[0mshape\u001b[0m\u001b[0;34m)\u001b[0m\u001b[0;34m)\u001b[0m\u001b[0;34m\u001b[0m\u001b[0;34m\u001b[0m\u001b[0m\n\u001b[0m\u001b[1;32m     90\u001b[0m \u001b[0;34m\u001b[0m\u001b[0m\n\u001b[1;32m     91\u001b[0m     \u001b[0;32mdef\u001b[0m \u001b[0mlog_prob\u001b[0m\u001b[0;34m(\u001b[0m\u001b[0mself\u001b[0m\u001b[0;34m,\u001b[0m \u001b[0mvalue\u001b[0m\u001b[0;34m)\u001b[0m\u001b[0;34m:\u001b[0m\u001b[0;34m\u001b[0m\u001b[0;34m\u001b[0m\u001b[0m\n",
      "\u001b[0;31mRuntimeError\u001b[0m: Expected p_in >= 0 && p_in <= 1 to be true, but got false.  (Could this error message be improved?  If so, please report an enhancement request to PyTorch.)"
     ]
    }
   ],
   "source": [
    "vmc_iterate(tf, init_config)"
   ]
  },
  {
   "cell_type": "code",
   "execution_count": 282,
   "metadata": {},
   "outputs": [],
   "source": [
    "class NelectronVanderCuspWithMult(nn.Module):\n",
    "    #ansatz given by the Vandermonde determinant of the one electron wavefunctions e^(-alpha * r_i)\n",
    "    #multiplied by e^(-beta * (r_1 + r_2 + ... r_N)) and multiplied by product of e^(-1/r_i) for all i\n",
    "    #input is 1-element tensors alpha, beta and 1D tensor dim which determines the number of particles (i.e. the dimension)\n",
    "    def __init__(self, alpha, beta, dim):\n",
    "        super(NelectronVanderCuspWithMult, self).__init__()\n",
    "        self.alpha = nn.Parameter(alpha)\n",
    "        self.beta = nn.Parameter(beta)\n",
    "        self.dim = dim\n",
    "\n",
    "\n",
    "    def forward(self, x):\n",
    "        #returns the log prob. of the wavefunction\n",
    "        #input is tensor of size m x alpha.size or m x n x alpha.size\n",
    "        a = torch.exp(-self.alpha*x.unsqueeze(-1)) - torch.exp(-self.alpha*x.unsqueeze(-2))\n",
    "        return 2 * ( -self.beta * torch.sum(x, -1) - torch.sum(1/x, -1)\n",
    "            + torch.sum(torch.log(torch.abs(a[...,torch.triu(torch.ones(self.dim,self.dim), diagonal=1).nonzero(as_tuple = True)[0],torch.triu(torch.ones(self.dim,self.dim), diagonal=1).nonzero(as_tuple = True)[1] ])),-1) )\n",
    "\n",
    "\n",
    "    def wave(self,x):\n",
    "        # Returns the value of the wavefunction\n",
    "        #input is tensor of size m x alpha.size or m x n x alpha.size\n",
    "        a = torch.exp(-self.alpha*x.unsqueeze(-1)) - torch.exp(-self.alpha*x.unsqueeze(-2))\n",
    "        return torch.exp(-torch.sum(1/x, -1)) * torch.exp(-self.beta * torch.sum(x, -1)) * torch.prod(a[...,torch.triu(torch.ones(self.dim,self.dim), diagonal=1).nonzero(as_tuple = True)[0],torch.triu(torch.ones(self.dim,self.dim), diagonal=1).nonzero(as_tuple = True)[1] ],-1)\n",
    " \n",
    "\n",
    "    def local_energy(self, x):\n",
    "        return auto_hamiltonian_generator_atoms(self, N, x) / self.wave(x)\n"
   ]
  },
  {
   "cell_type": "code",
   "execution_count": 317,
   "metadata": {},
   "outputs": [],
   "source": [
    "tf = NelectronVanderCuspWithMult(torch.ones(1),torch.ones(1),d)"
   ]
  },
  {
   "cell_type": "code",
   "execution_count": 318,
   "metadata": {},
   "outputs": [],
   "source": [
    "def vmc_iterate2(tf, init_config, num_iters=100):\n",
    "    opt = optim.SGD(tf.parameters(), lr=5e-2,momentum=0.0)\n",
    "    #propdist = NormalProposal(0.3)\n",
    "    propdist = ClipNormalProposal(0.01, min_val=0.0)\n",
    "    for i in range(num_iters):\n",
    "        results=metropolis_symmetric(tf, init_config, propdist, num_walkers=100, num_steps=5000)\n",
    "        energy_minimize_step(tf, results, opt)\n",
    "        print(tf.alpha)\n",
    "        print(tf.beta)"
   ]
  },
  {
   "cell_type": "code",
   "execution_count": 319,
   "metadata": {},
   "outputs": [
    {
     "name": "stdout",
     "output_type": "stream",
     "text": [
      "energy is tensor(7.5402)\n",
      "grad is tensor([3.2232])\n",
      "Parameter containing:\n",
      "tensor([0.8388], requires_grad=True)\n",
      "Parameter containing:\n",
      "tensor([0.5966], requires_grad=True)\n",
      "energy is tensor(3.4011)\n",
      "grad is tensor([2.4994])\n",
      "Parameter containing:\n",
      "tensor([0.7139], requires_grad=True)\n",
      "Parameter containing:\n",
      "tensor([0.2320], requires_grad=True)\n",
      "energy is tensor(0.5427)\n",
      "grad is tensor([1.4922])\n",
      "Parameter containing:\n",
      "tensor([0.6393], requires_grad=True)\n",
      "Parameter containing:\n",
      "tensor([-0.0501], requires_grad=True)\n",
      "energy is tensor(-0.4667)\n",
      "grad is tensor([1.0240])\n",
      "Parameter containing:\n",
      "tensor([0.5881], requires_grad=True)\n",
      "Parameter containing:\n",
      "tensor([-0.5044], requires_grad=True)\n"
     ]
    },
    {
     "ename": "KeyboardInterrupt",
     "evalue": "",
     "output_type": "error",
     "traceback": [
      "\u001b[0;31m---------------------------------------------------------------------------\u001b[0m",
      "\u001b[0;31mKeyboardInterrupt\u001b[0m                         Traceback (most recent call last)",
      "\u001b[0;32m<ipython-input-319-0760fc5e1c85>\u001b[0m in \u001b[0;36m<module>\u001b[0;34m\u001b[0m\n\u001b[0;32m----> 1\u001b[0;31m \u001b[0mvmc_iterate2\u001b[0m\u001b[0;34m(\u001b[0m\u001b[0mtf\u001b[0m\u001b[0;34m,\u001b[0m \u001b[0minit_config\u001b[0m\u001b[0;34m)\u001b[0m\u001b[0;34m\u001b[0m\u001b[0;34m\u001b[0m\u001b[0m\n\u001b[0m",
      "\u001b[0;32m<ipython-input-318-4a7c0d1f36a0>\u001b[0m in \u001b[0;36mvmc_iterate2\u001b[0;34m(tf, init_config, num_iters)\u001b[0m\n\u001b[1;32m      5\u001b[0m     \u001b[0;32mfor\u001b[0m \u001b[0mi\u001b[0m \u001b[0;32min\u001b[0m \u001b[0mrange\u001b[0m\u001b[0;34m(\u001b[0m\u001b[0mnum_iters\u001b[0m\u001b[0;34m)\u001b[0m\u001b[0;34m:\u001b[0m\u001b[0;34m\u001b[0m\u001b[0;34m\u001b[0m\u001b[0m\n\u001b[1;32m      6\u001b[0m         \u001b[0mresults\u001b[0m\u001b[0;34m=\u001b[0m\u001b[0mmetropolis_symmetric\u001b[0m\u001b[0;34m(\u001b[0m\u001b[0mtf\u001b[0m\u001b[0;34m,\u001b[0m \u001b[0minit_config\u001b[0m\u001b[0;34m,\u001b[0m \u001b[0mpropdist\u001b[0m\u001b[0;34m,\u001b[0m \u001b[0mnum_walkers\u001b[0m\u001b[0;34m=\u001b[0m\u001b[0;36m100\u001b[0m\u001b[0;34m,\u001b[0m \u001b[0mnum_steps\u001b[0m\u001b[0;34m=\u001b[0m\u001b[0;36m5000\u001b[0m\u001b[0;34m)\u001b[0m\u001b[0;34m\u001b[0m\u001b[0;34m\u001b[0m\u001b[0m\n\u001b[0;32m----> 7\u001b[0;31m         \u001b[0menergy_minimize_step\u001b[0m\u001b[0;34m(\u001b[0m\u001b[0mtf\u001b[0m\u001b[0;34m,\u001b[0m \u001b[0mresults\u001b[0m\u001b[0;34m,\u001b[0m \u001b[0mopt\u001b[0m\u001b[0;34m)\u001b[0m\u001b[0;34m\u001b[0m\u001b[0;34m\u001b[0m\u001b[0m\n\u001b[0m\u001b[1;32m      8\u001b[0m         \u001b[0mprint\u001b[0m\u001b[0;34m(\u001b[0m\u001b[0mtf\u001b[0m\u001b[0;34m.\u001b[0m\u001b[0malpha\u001b[0m\u001b[0;34m)\u001b[0m\u001b[0;34m\u001b[0m\u001b[0;34m\u001b[0m\u001b[0m\n\u001b[1;32m      9\u001b[0m         \u001b[0mprint\u001b[0m\u001b[0;34m(\u001b[0m\u001b[0mtf\u001b[0m\u001b[0;34m.\u001b[0m\u001b[0mbeta\u001b[0m\u001b[0;34m)\u001b[0m\u001b[0;34m\u001b[0m\u001b[0;34m\u001b[0m\u001b[0m\n",
      "\u001b[0;32m<ipython-input-129-f29abf8e0a85>\u001b[0m in \u001b[0;36menergy_minimize_step\u001b[0;34m(trialfunc, samples, optimizer)\u001b[0m\n\u001b[1;32m      1\u001b[0m \u001b[0;32mdef\u001b[0m \u001b[0menergy_minimize_step\u001b[0m\u001b[0;34m(\u001b[0m\u001b[0mtrialfunc\u001b[0m\u001b[0;34m,\u001b[0m \u001b[0msamples\u001b[0m\u001b[0;34m,\u001b[0m \u001b[0moptimizer\u001b[0m\u001b[0;34m)\u001b[0m\u001b[0;34m:\u001b[0m\u001b[0;34m\u001b[0m\u001b[0;34m\u001b[0m\u001b[0m\n\u001b[0;32m----> 2\u001b[0;31m     \u001b[0mlocal_energies\u001b[0m \u001b[0;34m=\u001b[0m \u001b[0mtrialfunc\u001b[0m\u001b[0;34m.\u001b[0m\u001b[0mlocal_energy\u001b[0m\u001b[0;34m(\u001b[0m\u001b[0msamples\u001b[0m\u001b[0;34m)\u001b[0m\u001b[0;34m.\u001b[0m\u001b[0mdetach\u001b[0m\u001b[0;34m(\u001b[0m\u001b[0;34m)\u001b[0m\u001b[0;34m\u001b[0m\u001b[0;34m\u001b[0m\u001b[0m\n\u001b[0m\u001b[1;32m      3\u001b[0m     \u001b[0mmean_local_energy\u001b[0m \u001b[0;34m=\u001b[0m \u001b[0mlocal_energies\u001b[0m\u001b[0;34m.\u001b[0m\u001b[0mmean\u001b[0m\u001b[0;34m(\u001b[0m\u001b[0;34m)\u001b[0m\u001b[0;34m\u001b[0m\u001b[0;34m\u001b[0m\u001b[0m\n\u001b[1;32m      4\u001b[0m     \u001b[0mprint\u001b[0m\u001b[0;34m(\u001b[0m\u001b[0;34m'energy is'\u001b[0m\u001b[0;34m,\u001b[0m \u001b[0mmean_local_energy\u001b[0m\u001b[0;34m)\u001b[0m\u001b[0;34m\u001b[0m\u001b[0;34m\u001b[0m\u001b[0m\n\u001b[1;32m      5\u001b[0m     \u001b[0msample_logprobs\u001b[0m \u001b[0;34m=\u001b[0m \u001b[0mtrialfunc\u001b[0m\u001b[0;34m(\u001b[0m\u001b[0msamples\u001b[0m\u001b[0;34m)\u001b[0m\u001b[0;34m\u001b[0m\u001b[0;34m\u001b[0m\u001b[0m\n",
      "\u001b[0;32m<ipython-input-282-0011970e904e>\u001b[0m in \u001b[0;36mlocal_energy\u001b[0;34m(self, x)\u001b[0m\n\u001b[1;32m     26\u001b[0m \u001b[0;34m\u001b[0m\u001b[0m\n\u001b[1;32m     27\u001b[0m     \u001b[0;32mdef\u001b[0m \u001b[0mlocal_energy\u001b[0m\u001b[0;34m(\u001b[0m\u001b[0mself\u001b[0m\u001b[0;34m,\u001b[0m \u001b[0mx\u001b[0m\u001b[0;34m)\u001b[0m\u001b[0;34m:\u001b[0m\u001b[0;34m\u001b[0m\u001b[0;34m\u001b[0m\u001b[0m\n\u001b[0;32m---> 28\u001b[0;31m         \u001b[0;32mreturn\u001b[0m \u001b[0mauto_hamiltonian_generator_atoms\u001b[0m\u001b[0;34m(\u001b[0m\u001b[0mself\u001b[0m\u001b[0;34m,\u001b[0m \u001b[0mN\u001b[0m\u001b[0;34m,\u001b[0m \u001b[0mx\u001b[0m\u001b[0;34m)\u001b[0m \u001b[0;34m/\u001b[0m \u001b[0mself\u001b[0m\u001b[0;34m.\u001b[0m\u001b[0mwave\u001b[0m\u001b[0;34m(\u001b[0m\u001b[0mx\u001b[0m\u001b[0;34m)\u001b[0m\u001b[0;34m\u001b[0m\u001b[0;34m\u001b[0m\u001b[0m\n\u001b[0m",
      "\u001b[0;32m~/GRIPS-MCMC/qmc/local_energy.py\u001b[0m in \u001b[0;36mauto_hamiltonian_generator_atoms\u001b[0;34m(ansatz, N_bodies, config)\u001b[0m\n\u001b[1;32m     17\u001b[0m     \u001b[0mpotential_nucleous_electron\u001b[0m \u001b[0;34m=\u001b[0m \u001b[0;36m0\u001b[0m\u001b[0;34m\u001b[0m\u001b[0;34m\u001b[0m\u001b[0m\n\u001b[1;32m     18\u001b[0m     \u001b[0;32mfor\u001b[0m \u001b[0mi\u001b[0m \u001b[0;32min\u001b[0m \u001b[0mrange\u001b[0m\u001b[0;34m(\u001b[0m\u001b[0mN_bodies\u001b[0m\u001b[0;34m)\u001b[0m\u001b[0;34m:\u001b[0m\u001b[0;34m\u001b[0m\u001b[0;34m\u001b[0m\u001b[0m\n\u001b[0;32m---> 19\u001b[0;31m         \u001b[0mpotential_nucleous_electron\u001b[0m \u001b[0;34m=\u001b[0m \u001b[0mpotential_nucleous_electron\u001b[0m\u001b[0;34m-\u001b[0m\u001b[0;34m(\u001b[0m\u001b[0mN_bodies\u001b[0m\u001b[0;34m/\u001b[0m\u001b[0;34m(\u001b[0m\u001b[0mconfig\u001b[0m\u001b[0;34m[\u001b[0m\u001b[0;34m...\u001b[0m\u001b[0;34m,\u001b[0m\u001b[0mi\u001b[0m\u001b[0;34m]\u001b[0m\u001b[0;34m.\u001b[0m\u001b[0msqueeze\u001b[0m\u001b[0;34m(\u001b[0m\u001b[0mdim\u001b[0m\u001b[0;34m=\u001b[0m\u001b[0;34m-\u001b[0m\u001b[0;36m1\u001b[0m\u001b[0;34m)\u001b[0m\u001b[0;34m)\u001b[0m\u001b[0;34m)\u001b[0m\u001b[0;34m*\u001b[0m\u001b[0mansatz\u001b[0m\u001b[0;34m.\u001b[0m\u001b[0mwave\u001b[0m\u001b[0;34m(\u001b[0m\u001b[0mconfig\u001b[0m\u001b[0;34m)\u001b[0m\u001b[0;34m\u001b[0m\u001b[0;34m\u001b[0m\u001b[0m\n\u001b[0m\u001b[1;32m     20\u001b[0m     \u001b[0mpotential_electron_electron\u001b[0m \u001b[0;34m=\u001b[0m \u001b[0;36m0\u001b[0m\u001b[0;34m\u001b[0m\u001b[0;34m\u001b[0m\u001b[0m\n\u001b[1;32m     21\u001b[0m     \u001b[0mk\u001b[0m\u001b[0;34m=\u001b[0m\u001b[0;36m1\u001b[0m\u001b[0;34m\u001b[0m\u001b[0;34m\u001b[0m\u001b[0m\n",
      "\u001b[0;32m<ipython-input-282-0011970e904e>\u001b[0m in \u001b[0;36mwave\u001b[0;34m(self, x)\u001b[0m\n\u001b[1;32m     22\u001b[0m         \u001b[0;31m#input is tensor of size m x alpha.size or m x n x alpha.size\u001b[0m\u001b[0;34m\u001b[0m\u001b[0;34m\u001b[0m\u001b[0;34m\u001b[0m\u001b[0m\n\u001b[1;32m     23\u001b[0m         \u001b[0ma\u001b[0m \u001b[0;34m=\u001b[0m \u001b[0mtorch\u001b[0m\u001b[0;34m.\u001b[0m\u001b[0mexp\u001b[0m\u001b[0;34m(\u001b[0m\u001b[0;34m-\u001b[0m\u001b[0mself\u001b[0m\u001b[0;34m.\u001b[0m\u001b[0malpha\u001b[0m\u001b[0;34m*\u001b[0m\u001b[0mx\u001b[0m\u001b[0;34m.\u001b[0m\u001b[0munsqueeze\u001b[0m\u001b[0;34m(\u001b[0m\u001b[0;34m-\u001b[0m\u001b[0;36m1\u001b[0m\u001b[0;34m)\u001b[0m\u001b[0;34m)\u001b[0m \u001b[0;34m-\u001b[0m \u001b[0mtorch\u001b[0m\u001b[0;34m.\u001b[0m\u001b[0mexp\u001b[0m\u001b[0;34m(\u001b[0m\u001b[0;34m-\u001b[0m\u001b[0mself\u001b[0m\u001b[0;34m.\u001b[0m\u001b[0malpha\u001b[0m\u001b[0;34m*\u001b[0m\u001b[0mx\u001b[0m\u001b[0;34m.\u001b[0m\u001b[0munsqueeze\u001b[0m\u001b[0;34m(\u001b[0m\u001b[0;34m-\u001b[0m\u001b[0;36m2\u001b[0m\u001b[0;34m)\u001b[0m\u001b[0;34m)\u001b[0m\u001b[0;34m\u001b[0m\u001b[0;34m\u001b[0m\u001b[0m\n\u001b[0;32m---> 24\u001b[0;31m         \u001b[0;32mreturn\u001b[0m \u001b[0mtorch\u001b[0m\u001b[0;34m.\u001b[0m\u001b[0mexp\u001b[0m\u001b[0;34m(\u001b[0m\u001b[0;34m-\u001b[0m\u001b[0mtorch\u001b[0m\u001b[0;34m.\u001b[0m\u001b[0msum\u001b[0m\u001b[0;34m(\u001b[0m\u001b[0;36m1\u001b[0m\u001b[0;34m/\u001b[0m\u001b[0mx\u001b[0m\u001b[0;34m,\u001b[0m \u001b[0;34m-\u001b[0m\u001b[0;36m1\u001b[0m\u001b[0;34m)\u001b[0m\u001b[0;34m)\u001b[0m \u001b[0;34m*\u001b[0m \u001b[0mtorch\u001b[0m\u001b[0;34m.\u001b[0m\u001b[0mexp\u001b[0m\u001b[0;34m(\u001b[0m\u001b[0;34m-\u001b[0m\u001b[0mself\u001b[0m\u001b[0;34m.\u001b[0m\u001b[0mbeta\u001b[0m \u001b[0;34m*\u001b[0m \u001b[0mtorch\u001b[0m\u001b[0;34m.\u001b[0m\u001b[0msum\u001b[0m\u001b[0;34m(\u001b[0m\u001b[0mx\u001b[0m\u001b[0;34m,\u001b[0m \u001b[0;34m-\u001b[0m\u001b[0;36m1\u001b[0m\u001b[0;34m)\u001b[0m\u001b[0;34m)\u001b[0m \u001b[0;34m*\u001b[0m \u001b[0mtorch\u001b[0m\u001b[0;34m.\u001b[0m\u001b[0mprod\u001b[0m\u001b[0;34m(\u001b[0m\u001b[0ma\u001b[0m\u001b[0;34m[\u001b[0m\u001b[0;34m...\u001b[0m\u001b[0;34m,\u001b[0m\u001b[0mtorch\u001b[0m\u001b[0;34m.\u001b[0m\u001b[0mtriu\u001b[0m\u001b[0;34m(\u001b[0m\u001b[0mtorch\u001b[0m\u001b[0;34m.\u001b[0m\u001b[0mones\u001b[0m\u001b[0;34m(\u001b[0m\u001b[0mself\u001b[0m\u001b[0;34m.\u001b[0m\u001b[0mdim\u001b[0m\u001b[0;34m,\u001b[0m\u001b[0mself\u001b[0m\u001b[0;34m.\u001b[0m\u001b[0mdim\u001b[0m\u001b[0;34m)\u001b[0m\u001b[0;34m,\u001b[0m \u001b[0mdiagonal\u001b[0m\u001b[0;34m=\u001b[0m\u001b[0;36m1\u001b[0m\u001b[0;34m)\u001b[0m\u001b[0;34m.\u001b[0m\u001b[0mnonzero\u001b[0m\u001b[0;34m(\u001b[0m\u001b[0mas_tuple\u001b[0m \u001b[0;34m=\u001b[0m \u001b[0;32mTrue\u001b[0m\u001b[0;34m)\u001b[0m\u001b[0;34m[\u001b[0m\u001b[0;36m0\u001b[0m\u001b[0;34m]\u001b[0m\u001b[0;34m,\u001b[0m\u001b[0mtorch\u001b[0m\u001b[0;34m.\u001b[0m\u001b[0mtriu\u001b[0m\u001b[0;34m(\u001b[0m\u001b[0mtorch\u001b[0m\u001b[0;34m.\u001b[0m\u001b[0mones\u001b[0m\u001b[0;34m(\u001b[0m\u001b[0mself\u001b[0m\u001b[0;34m.\u001b[0m\u001b[0mdim\u001b[0m\u001b[0;34m,\u001b[0m\u001b[0mself\u001b[0m\u001b[0;34m.\u001b[0m\u001b[0mdim\u001b[0m\u001b[0;34m)\u001b[0m\u001b[0;34m,\u001b[0m \u001b[0mdiagonal\u001b[0m\u001b[0;34m=\u001b[0m\u001b[0;36m1\u001b[0m\u001b[0;34m)\u001b[0m\u001b[0;34m.\u001b[0m\u001b[0mnonzero\u001b[0m\u001b[0;34m(\u001b[0m\u001b[0mas_tuple\u001b[0m \u001b[0;34m=\u001b[0m \u001b[0;32mTrue\u001b[0m\u001b[0;34m)\u001b[0m\u001b[0;34m[\u001b[0m\u001b[0;36m1\u001b[0m\u001b[0;34m]\u001b[0m \u001b[0;34m]\u001b[0m\u001b[0;34m,\u001b[0m\u001b[0;34m-\u001b[0m\u001b[0;36m1\u001b[0m\u001b[0;34m)\u001b[0m\u001b[0;34m\u001b[0m\u001b[0;34m\u001b[0m\u001b[0m\n\u001b[0m\u001b[1;32m     25\u001b[0m \u001b[0;34m\u001b[0m\u001b[0m\n\u001b[1;32m     26\u001b[0m \u001b[0;34m\u001b[0m\u001b[0m\n",
      "\u001b[0;31mKeyboardInterrupt\u001b[0m: "
     ]
    }
   ],
   "source": [
    "vmc_iterate2(tf, init_config)"
   ]
  },
  {
   "cell_type": "code",
   "execution_count": 209,
   "metadata": {},
   "outputs": [],
   "source": [
    "class NelectronVander(nn.Module):\n",
    "    #ansatz given by the Vandermonde determinant of the one electron wavefunctions e^(-alpha*r_i)\n",
    "    #input is 1-element tensor alpha and 1D tensor dim which determines the number of particles (i.e. the dimension)\n",
    "    def __init__(self, alpha, dim):\n",
    "        super(NelectronVander, self).__init__()\n",
    "        self.alpha = nn.Parameter(alpha)\n",
    "        self.dim = dim\n",
    "            \n",
    "    def forward(self, x):\n",
    "        #returns the log prob. of the wavefunction\n",
    "        #input is tensor of size m x alpha.size or m x n x alpha.size\n",
    "        a = torch.exp(-self.alpha*x.unsqueeze(-1)) - torch.exp(-self.alpha*x.unsqueeze(-2))\n",
    "        return 2 * torch.sum(torch.log(torch.abs(a[...,torch.triu(torch.ones(self.dim,self.dim), diagonal=1).nonzero(as_tuple = True)[0],torch.triu(torch.ones(self.dim,self.dim), diagonal=1).nonzero(as_tuple = True)[1] ])),-1)\n",
    "        a = torch.exp(-self.alpha[0]*x.unsqueeze(-1)) - torch.exp(-self.alpha[0]*x.unsqueeze(-2))\n",
    "        V1 = torch.prod(a[...,torch.triu(torch.ones(3,3), diagonal=1).nonzero(as_tuple = True)[0],torch.triu(torch.ones(3,3), diagonal=1).nonzero(as_tuple = True)[1] ],-1)\n",
    "        #b = torch.exp(-self.alpha[1]*x.unsqueeze(-1)) - torch.exp(-self.alpha[1]*x.unsqueeze(-2))\n",
    "        #V2 = torch.prod(b[...,torch.triu(torch.ones(3,3), diagonal=1).nonzero(as_tuple = True)[0],torch.triu(torch.ones(3,3), diagonal=1).nonzero(as_tuple = True)[1] ],-1)\n",
    "        #c = torch.exp(-self.alpha[2]*x.unsqueeze(-1)) - torch.exp(-self.alpha[2]*x.unsqueeze(-2))\n",
    "        #V3 = torch.prod(c[...,torch.triu(torch.ones(3,3), diagonal=1).nonzero(as_tuple = True)[0],torch.triu(torch.ones(3,3), diagonal=1).nonzero(as_tuple = True)[1] ],-1)\n",
    "        return 2 * torch.log(torch.abs(V1))\n",
    "    \n",
    "    \n",
    "    def wave(self,x):\n",
    "        # Returns the value of the wavefunction\n",
    "        #input is tensor of size m x alpha.size or m x n x alpha.size\n",
    "        a = torch.exp(-self.alpha*x.unsqueeze(-1)) - torch.exp(-self.alpha*x.unsqueeze(-2))\n",
    "        return torch.prod(a[...,torch.triu(torch.ones(self.dim,self.dim), diagonal=1).nonzero(as_tuple = True)[0],torch.triu(torch.ones(self.dim,self.dim), diagonal=1).nonzero(as_tuple = True)[1] ],-1)\n",
    "    \n",
    "    def local_energy(self, x):\n",
    "        return auto_hamiltonian_generator_atoms(self, N, x) / self.wave(x)"
   ]
  },
  {
   "cell_type": "code",
   "execution_count": 210,
   "metadata": {},
   "outputs": [],
   "source": [
    "init_config = torch.rand(100, d)"
   ]
  },
  {
   "cell_type": "code",
   "execution_count": 211,
   "metadata": {},
   "outputs": [],
   "source": [
    "tf = NelectronVander(torch.ones(1),d)"
   ]
  },
  {
   "cell_type": "code",
   "execution_count": 212,
   "metadata": {},
   "outputs": [
    {
     "name": "stdout",
     "output_type": "stream",
     "text": [
      "energy is tensor(1.7418)\n",
      "grad is tensor([5.7412])\n",
      "Parameter containing:\n",
      "tensor([0.7129], requires_grad=True)\n",
      "energy is tensor(-1.6780)\n",
      "grad is tensor([5.0007])\n",
      "Parameter containing:\n",
      "tensor([0.4629], requires_grad=True)\n",
      "energy is tensor(-4.1708)\n",
      "grad is tensor([2.7443])\n",
      "Parameter containing:\n",
      "tensor([0.3257], requires_grad=True)\n",
      "energy is tensor(-5.3303)\n",
      "grad is tensor([-1.1903])\n",
      "Parameter containing:\n",
      "tensor([0.3852], requires_grad=True)\n",
      "energy is tensor(-4.9625)\n",
      "grad is tensor([1.2219])\n",
      "Parameter containing:\n",
      "tensor([0.3241], requires_grad=True)\n",
      "energy is tensor(-5.3375)\n",
      "grad is tensor([-0.7219])\n",
      "Parameter containing:\n",
      "tensor([0.3602], requires_grad=True)\n",
      "energy is tensor(-4.9925)\n",
      "grad is tensor([0.5941])\n",
      "Parameter containing:\n",
      "tensor([0.3305], requires_grad=True)\n",
      "energy is tensor(-5.3815)\n",
      "grad is tensor([-0.5005])\n",
      "Parameter containing:\n",
      "tensor([0.3555], requires_grad=True)\n",
      "energy is tensor(-5.1362)\n",
      "grad is tensor([0.3889])\n",
      "Parameter containing:\n",
      "tensor([0.3361], requires_grad=True)\n"
     ]
    },
    {
     "ename": "KeyboardInterrupt",
     "evalue": "",
     "output_type": "error",
     "traceback": [
      "\u001b[0;31m---------------------------------------------------------------------------\u001b[0m",
      "\u001b[0;31mKeyboardInterrupt\u001b[0m                         Traceback (most recent call last)",
      "\u001b[0;32m<ipython-input-212-0259878722ce>\u001b[0m in \u001b[0;36m<module>\u001b[0;34m\u001b[0m\n\u001b[0;32m----> 1\u001b[0;31m \u001b[0mvmc_iterate\u001b[0m\u001b[0;34m(\u001b[0m\u001b[0mtf\u001b[0m\u001b[0;34m,\u001b[0m \u001b[0minit_config\u001b[0m\u001b[0;34m)\u001b[0m\u001b[0;34m\u001b[0m\u001b[0;34m\u001b[0m\u001b[0m\n\u001b[0m",
      "\u001b[0;32m<ipython-input-207-0dac3e750a0f>\u001b[0m in \u001b[0;36mvmc_iterate\u001b[0;34m(tf, init_config, num_iters)\u001b[0m\n\u001b[1;32m      4\u001b[0m     \u001b[0mpropdist\u001b[0m \u001b[0;34m=\u001b[0m \u001b[0mClipNormalProposal\u001b[0m\u001b[0;34m(\u001b[0m\u001b[0;36m0.5\u001b[0m\u001b[0;34m,\u001b[0m \u001b[0mmin_val\u001b[0m\u001b[0;34m=\u001b[0m\u001b[0;36m0.1\u001b[0m\u001b[0;34m)\u001b[0m\u001b[0;34m\u001b[0m\u001b[0;34m\u001b[0m\u001b[0m\n\u001b[1;32m      5\u001b[0m     \u001b[0;32mfor\u001b[0m \u001b[0mi\u001b[0m \u001b[0;32min\u001b[0m \u001b[0mrange\u001b[0m\u001b[0;34m(\u001b[0m\u001b[0mnum_iters\u001b[0m\u001b[0;34m)\u001b[0m\u001b[0;34m:\u001b[0m\u001b[0;34m\u001b[0m\u001b[0;34m\u001b[0m\u001b[0m\n\u001b[0;32m----> 6\u001b[0;31m         \u001b[0mresults\u001b[0m\u001b[0;34m=\u001b[0m\u001b[0mmetropolis_symmetric\u001b[0m\u001b[0;34m(\u001b[0m\u001b[0mtf\u001b[0m\u001b[0;34m,\u001b[0m \u001b[0minit_config\u001b[0m\u001b[0;34m,\u001b[0m \u001b[0mproposal\u001b[0m \u001b[0;34m=\u001b[0m \u001b[0mpropdist\u001b[0m \u001b[0;34m,\u001b[0m\u001b[0mnum_walkers\u001b[0m\u001b[0;34m=\u001b[0m\u001b[0;36m100\u001b[0m\u001b[0;34m,\u001b[0m \u001b[0mnum_steps\u001b[0m\u001b[0;34m=\u001b[0m\u001b[0;36m5000\u001b[0m\u001b[0;34m)\u001b[0m\u001b[0;34m\u001b[0m\u001b[0;34m\u001b[0m\u001b[0m\n\u001b[0m\u001b[1;32m      7\u001b[0m         \u001b[0menergy_minimize_step\u001b[0m\u001b[0;34m(\u001b[0m\u001b[0mtf\u001b[0m\u001b[0;34m,\u001b[0m \u001b[0mresults\u001b[0m\u001b[0;34m,\u001b[0m \u001b[0mopt\u001b[0m\u001b[0;34m)\u001b[0m\u001b[0;34m\u001b[0m\u001b[0;34m\u001b[0m\u001b[0m\n\u001b[1;32m      8\u001b[0m         \u001b[0mprint\u001b[0m\u001b[0;34m(\u001b[0m\u001b[0mtf\u001b[0m\u001b[0;34m.\u001b[0m\u001b[0malpha\u001b[0m\u001b[0;34m)\u001b[0m\u001b[0;34m\u001b[0m\u001b[0;34m\u001b[0m\u001b[0m\n",
      "\u001b[0;32m~/GRIPS-MCMC/qmc/mcmc.py\u001b[0m in \u001b[0;36mmetropolis_symmetric\u001b[0;34m(trialfunc, init_config, proposal, num_walkers, num_steps)\u001b[0m\n\u001b[1;32m     64\u001b[0m         \u001b[0mnext_config\u001b[0m \u001b[0;34m=\u001b[0m \u001b[0mproposal\u001b[0m\u001b[0;34m(\u001b[0m\u001b[0mconfig\u001b[0m\u001b[0;34m)\u001b[0m\u001b[0;34m\u001b[0m\u001b[0;34m\u001b[0m\u001b[0m\n\u001b[1;32m     65\u001b[0m         \u001b[0;32mwith\u001b[0m \u001b[0mtorch\u001b[0m\u001b[0;34m.\u001b[0m\u001b[0mno_grad\u001b[0m\u001b[0;34m(\u001b[0m\u001b[0;34m)\u001b[0m\u001b[0;34m:\u001b[0m\u001b[0;34m\u001b[0m\u001b[0;34m\u001b[0m\u001b[0m\n\u001b[0;32m---> 66\u001b[0;31m             \u001b[0macc\u001b[0m \u001b[0;34m=\u001b[0m \u001b[0msymmetric_mh_acceptance_ratio\u001b[0m\u001b[0;34m(\u001b[0m\u001b[0mtrialfunc\u001b[0m\u001b[0;34m,\u001b[0m \u001b[0mconfig\u001b[0m\u001b[0;34m,\u001b[0m \u001b[0mnext_config\u001b[0m\u001b[0;34m)\u001b[0m\u001b[0;34m.\u001b[0m\u001b[0munsqueeze\u001b[0m\u001b[0;34m(\u001b[0m\u001b[0;34m-\u001b[0m\u001b[0;36m1\u001b[0m\u001b[0;34m)\u001b[0m\u001b[0;34m\u001b[0m\u001b[0;34m\u001b[0m\u001b[0m\n\u001b[0m\u001b[1;32m     67\u001b[0m         \u001b[0;31m# acc shape should be (num_walkers, 1) hence need unsqueeze\u001b[0m\u001b[0;34m\u001b[0m\u001b[0;34m\u001b[0m\u001b[0;34m\u001b[0m\u001b[0m\n\u001b[1;32m     68\u001b[0m             \u001b[0maccept_or_reject\u001b[0m \u001b[0;34m=\u001b[0m \u001b[0mBernoulli\u001b[0m\u001b[0;34m(\u001b[0m\u001b[0macc\u001b[0m\u001b[0;34m)\u001b[0m\u001b[0;34m.\u001b[0m\u001b[0msample\u001b[0m\u001b[0;34m(\u001b[0m\u001b[0;34m)\u001b[0m \u001b[0;31m# accept is 1, reject is 0\u001b[0m\u001b[0;34m\u001b[0m\u001b[0;34m\u001b[0m\u001b[0m\n",
      "\u001b[0;32m~/GRIPS-MCMC/qmc/mcmc.py\u001b[0m in \u001b[0;36msymmetric_mh_acceptance_ratio\u001b[0;34m(logprob, old_config, new_config)\u001b[0m\n\u001b[1;32m     46\u001b[0m \u001b[0;34m\u001b[0m\u001b[0m\n\u001b[1;32m     47\u001b[0m \u001b[0;32mdef\u001b[0m \u001b[0msymmetric_mh_acceptance_ratio\u001b[0m\u001b[0;34m(\u001b[0m\u001b[0mlogprob\u001b[0m\u001b[0;34m,\u001b[0m \u001b[0mold_config\u001b[0m\u001b[0;34m,\u001b[0m \u001b[0mnew_config\u001b[0m\u001b[0;34m)\u001b[0m\u001b[0;34m:\u001b[0m\u001b[0;34m\u001b[0m\u001b[0;34m\u001b[0m\u001b[0m\n\u001b[0;32m---> 48\u001b[0;31m     \u001b[0mlogacc\u001b[0m \u001b[0;34m=\u001b[0m \u001b[0mtorch\u001b[0m\u001b[0;34m.\u001b[0m\u001b[0mmin\u001b[0m\u001b[0;34m(\u001b[0m\u001b[0mtorch\u001b[0m\u001b[0;34m.\u001b[0m\u001b[0mtensor\u001b[0m\u001b[0;34m(\u001b[0m\u001b[0;36m0.0\u001b[0m\u001b[0;34m)\u001b[0m\u001b[0;34m,\u001b[0m \u001b[0mlogprob\u001b[0m\u001b[0;34m(\u001b[0m\u001b[0mnew_config\u001b[0m\u001b[0;34m)\u001b[0m \u001b[0;34m-\u001b[0m \u001b[0mlogprob\u001b[0m\u001b[0;34m(\u001b[0m\u001b[0mold_config\u001b[0m\u001b[0;34m)\u001b[0m\u001b[0;34m)\u001b[0m\u001b[0;34m\u001b[0m\u001b[0;34m\u001b[0m\u001b[0m\n\u001b[0m\u001b[1;32m     49\u001b[0m     \u001b[0;32mreturn\u001b[0m \u001b[0mtorch\u001b[0m\u001b[0;34m.\u001b[0m\u001b[0mexp\u001b[0m\u001b[0;34m(\u001b[0m\u001b[0mlogacc\u001b[0m\u001b[0;34m)\u001b[0m\u001b[0;34m\u001b[0m\u001b[0;34m\u001b[0m\u001b[0m\n\u001b[1;32m     50\u001b[0m \u001b[0;34m\u001b[0m\u001b[0m\n",
      "\u001b[0;32m~/opt/anaconda3/envs/qmc/lib/python3.7/site-packages/torch/nn/modules/module.py\u001b[0m in \u001b[0;36m__call__\u001b[0;34m(self, *input, **kwargs)\u001b[0m\n\u001b[1;32m    548\u001b[0m             \u001b[0mresult\u001b[0m \u001b[0;34m=\u001b[0m \u001b[0mself\u001b[0m\u001b[0;34m.\u001b[0m\u001b[0m_slow_forward\u001b[0m\u001b[0;34m(\u001b[0m\u001b[0;34m*\u001b[0m\u001b[0minput\u001b[0m\u001b[0;34m,\u001b[0m \u001b[0;34m**\u001b[0m\u001b[0mkwargs\u001b[0m\u001b[0;34m)\u001b[0m\u001b[0;34m\u001b[0m\u001b[0;34m\u001b[0m\u001b[0m\n\u001b[1;32m    549\u001b[0m         \u001b[0;32melse\u001b[0m\u001b[0;34m:\u001b[0m\u001b[0;34m\u001b[0m\u001b[0;34m\u001b[0m\u001b[0m\n\u001b[0;32m--> 550\u001b[0;31m             \u001b[0mresult\u001b[0m \u001b[0;34m=\u001b[0m \u001b[0mself\u001b[0m\u001b[0;34m.\u001b[0m\u001b[0mforward\u001b[0m\u001b[0;34m(\u001b[0m\u001b[0;34m*\u001b[0m\u001b[0minput\u001b[0m\u001b[0;34m,\u001b[0m \u001b[0;34m**\u001b[0m\u001b[0mkwargs\u001b[0m\u001b[0;34m)\u001b[0m\u001b[0;34m\u001b[0m\u001b[0;34m\u001b[0m\u001b[0m\n\u001b[0m\u001b[1;32m    551\u001b[0m         \u001b[0;32mfor\u001b[0m \u001b[0mhook\u001b[0m \u001b[0;32min\u001b[0m \u001b[0mself\u001b[0m\u001b[0;34m.\u001b[0m\u001b[0m_forward_hooks\u001b[0m\u001b[0;34m.\u001b[0m\u001b[0mvalues\u001b[0m\u001b[0;34m(\u001b[0m\u001b[0;34m)\u001b[0m\u001b[0;34m:\u001b[0m\u001b[0;34m\u001b[0m\u001b[0;34m\u001b[0m\u001b[0m\n\u001b[1;32m    552\u001b[0m             \u001b[0mhook_result\u001b[0m \u001b[0;34m=\u001b[0m \u001b[0mhook\u001b[0m\u001b[0;34m(\u001b[0m\u001b[0mself\u001b[0m\u001b[0;34m,\u001b[0m \u001b[0minput\u001b[0m\u001b[0;34m,\u001b[0m \u001b[0mresult\u001b[0m\u001b[0;34m)\u001b[0m\u001b[0;34m\u001b[0m\u001b[0;34m\u001b[0m\u001b[0m\n",
      "\u001b[0;32m<ipython-input-209-f44236031c62>\u001b[0m in \u001b[0;36mforward\u001b[0;34m(self, x)\u001b[0m\n\u001b[1;32m     16\u001b[0m         \u001b[0;31m#c = torch.exp(-self.alpha[2]*x.unsqueeze(-1)) - torch.exp(-self.alpha[2]*x.unsqueeze(-2))\u001b[0m\u001b[0;34m\u001b[0m\u001b[0;34m\u001b[0m\u001b[0;34m\u001b[0m\u001b[0m\n\u001b[1;32m     17\u001b[0m         \u001b[0;31m#V3 = torch.prod(c[...,torch.triu(torch.ones(3,3), diagonal=1).nonzero(as_tuple = True)[0],torch.triu(torch.ones(3,3), diagonal=1).nonzero(as_tuple = True)[1] ],-1)\u001b[0m\u001b[0;34m\u001b[0m\u001b[0;34m\u001b[0m\u001b[0;34m\u001b[0m\u001b[0m\n\u001b[0;32m---> 18\u001b[0;31m         \u001b[0;32mreturn\u001b[0m \u001b[0;36m2\u001b[0m \u001b[0;34m*\u001b[0m \u001b[0mtorch\u001b[0m\u001b[0;34m.\u001b[0m\u001b[0mlog\u001b[0m\u001b[0;34m(\u001b[0m\u001b[0mtorch\u001b[0m\u001b[0;34m.\u001b[0m\u001b[0mabs\u001b[0m\u001b[0;34m(\u001b[0m\u001b[0mV1\u001b[0m\u001b[0;34m)\u001b[0m\u001b[0;34m)\u001b[0m\u001b[0;34m\u001b[0m\u001b[0;34m\u001b[0m\u001b[0m\n\u001b[0m\u001b[1;32m     19\u001b[0m \u001b[0;34m\u001b[0m\u001b[0m\n\u001b[1;32m     20\u001b[0m \u001b[0;34m\u001b[0m\u001b[0m\n",
      "\u001b[0;31mKeyboardInterrupt\u001b[0m: "
     ]
    }
   ],
   "source": [
    "vmc_iterate(tf, init_config)"
   ]
  },
  {
   "cell_type": "code",
   "execution_count": 54,
   "metadata": {},
   "outputs": [],
   "source": [
    "propdist = NormalProposal(0.3)\n",
    "results=metropolis_symmetric(tf, init_config, propdist, num_walkers=100, num_steps=5000)"
   ]
  },
  {
   "cell_type": "code",
   "execution_count": 55,
   "metadata": {},
   "outputs": [
    {
     "data": {
      "text/plain": [
       "torch.Size([100, 5000, 3])"
      ]
     },
     "execution_count": 55,
     "metadata": {},
     "output_type": "execute_result"
    }
   ],
   "source": [
    "results.shape"
   ]
  },
  {
   "cell_type": "code",
   "execution_count": 56,
   "metadata": {},
   "outputs": [
    {
     "name": "stdout",
     "output_type": "stream",
     "text": [
      "tensor([[[ 1.7922e+00,  1.3121e+00,  1.0983e+00],\n",
      "         [ 1.7640e+00,  1.6503e+00,  7.5873e-01],\n",
      "         [ 1.8067e+00,  1.5582e+00,  7.1631e-01],\n",
      "         ...,\n",
      "         [ 1.8416e+00,  1.3834e+00, -1.3069e-04],\n",
      "         [ 1.8416e+00,  1.3834e+00, -1.3069e-04],\n",
      "         [ 1.8416e+00,  1.3834e+00, -1.3069e-04]],\n",
      "\n",
      "        [[ 1.2412e+00,  1.1315e+00,  8.3267e-01],\n",
      "         [ 1.2412e+00,  1.1315e+00,  8.3267e-01],\n",
      "         [ 1.1001e+00,  7.1243e-01,  4.7069e-01],\n",
      "         ...,\n",
      "         [ 2.5128e+00, -1.3107e-04,  2.8181e+00],\n",
      "         [ 2.5128e+00, -1.3107e-04,  2.8181e+00],\n",
      "         [ 2.5128e+00, -1.3107e-04,  2.8181e+00]],\n",
      "\n",
      "        [[ 8.2738e-01,  1.1995e+00,  4.9106e-01],\n",
      "         [ 8.2738e-01,  1.1995e+00,  4.9106e-01],\n",
      "         [ 8.2738e-01,  1.1995e+00,  4.9106e-01],\n",
      "         ...,\n",
      "         [-1.1022e-04,  4.7528e+00,  2.8158e+00],\n",
      "         [-1.1022e-04,  4.7528e+00,  2.8158e+00],\n",
      "         [-1.1022e-04,  4.7528e+00,  2.8158e+00]],\n",
      "\n",
      "        ...,\n",
      "\n",
      "        [[ 1.1861e+00,  6.7321e-01,  8.4893e-01],\n",
      "         [ 1.4902e+00,  8.3735e-01,  7.5302e-01],\n",
      "         [ 1.4860e+00,  6.2471e-01,  1.0605e+00],\n",
      "         ...,\n",
      "         [-7.8591e-05,  2.0255e+00,  1.0778e+00],\n",
      "         [-7.8591e-05,  2.0255e+00,  1.0778e+00],\n",
      "         [-7.8591e-05,  2.0255e+00,  1.0778e+00]],\n",
      "\n",
      "        [[ 1.0569e+00,  1.0469e+00,  1.0134e+00],\n",
      "         [ 1.0612e+00,  6.6748e-01,  6.7009e-01],\n",
      "         [ 8.2668e-01,  7.1028e-01,  8.4998e-01],\n",
      "         ...,\n",
      "         [ 5.6374e+00, -7.4873e-05,  2.8588e+00],\n",
      "         [ 5.6374e+00, -7.4873e-05,  2.8588e+00],\n",
      "         [ 5.6374e+00, -7.4873e-05,  2.8588e+00]],\n",
      "\n",
      "        [[ 8.7647e-01,  8.8996e-01,  1.1110e+00],\n",
      "         [ 8.7647e-01,  8.8996e-01,  1.1110e+00],\n",
      "         [ 1.0897e+00,  7.0684e-01,  1.3383e+00],\n",
      "         ...,\n",
      "         [-4.0221e-05, -7.9060e-01,  3.0276e+00],\n",
      "         [-4.0221e-05, -7.9060e-01,  3.0276e+00],\n",
      "         [-4.0221e-05, -7.9060e-01,  3.0276e+00]]])\n"
     ]
    }
   ],
   "source": [
    "print(results)"
   ]
  },
  {
   "cell_type": "code",
   "execution_count": 96,
   "metadata": {},
   "outputs": [
    {
     "data": {
      "text/plain": [
       "tensor([ 5.6374e+00, -7.4873e-05,  2.8588e+00])"
      ]
     },
     "execution_count": 96,
     "metadata": {},
     "output_type": "execute_result"
    }
   ],
   "source": [
    "results[98,4998,:]"
   ]
  },
  {
   "cell_type": "code",
   "execution_count": 99,
   "metadata": {},
   "outputs": [],
   "source": [
    "num_samples = 400\n",
    "step_size = .3\n",
    "num_steps_per_sample = 5"
   ]
  },
  {
   "cell_type": "code",
   "execution_count": 127,
   "metadata": {},
   "outputs": [],
   "source": [
    "hamiltorch.set_random_seed(123)\n",
    "params_init = torch.rand(3)"
   ]
  },
  {
   "cell_type": "code",
   "execution_count": 128,
   "metadata": {},
   "outputs": [
    {
     "name": "stdout",
     "output_type": "stream",
     "text": [
      "Sampling (Sampler.HMC; Integrator.IMPLICIT)\n",
      "Time spent  | Time remain.| Progress             | Samples | Samples/sec\n",
      "Invalid log_prob: inf, params: tensor([-114.2675,  121.1208,  -13.9534], requires_grad=True)\n",
      "Invalid log_prob: inf, params: tensor([-109.5949,  120.6959,  -16.4486], requires_grad=True)\n",
      "0d:00:00:02 | 0d:00:00:00 | #################### | 400/400 | 136.50       \n",
      "Acceptance Rate 0.00\n"
     ]
    }
   ],
   "source": [
    "params_hmc = hamiltorch.sample(log_prob_func=tf, params_init=params_init,  num_samples=num_samples, step_size=step_size, num_steps_per_sample=num_steps_per_sample)"
   ]
  },
  {
   "cell_type": "code",
   "execution_count": 129,
   "metadata": {},
   "outputs": [
    {
     "name": "stdout",
     "output_type": "stream",
     "text": [
      "[tensor([0.2961, 0.5166, 0.2517]), tensor([0.2961, 0.5166, 0.2517]), tensor([0.2961, 0.5166, 0.2517]), tensor([0.2961, 0.5166, 0.2517]), tensor([0.2961, 0.5166, 0.2517]), tensor([0.2961, 0.5166, 0.2517]), tensor([0.2961, 0.5166, 0.2517]), tensor([0.2961, 0.5166, 0.2517]), tensor([0.2961, 0.5166, 0.2517]), tensor([0.2961, 0.5166, 0.2517]), tensor([0.2961, 0.5166, 0.2517]), tensor([0.2961, 0.5166, 0.2517]), tensor([0.2961, 0.5166, 0.2517]), tensor([0.2961, 0.5166, 0.2517]), tensor([0.2961, 0.5166, 0.2517]), tensor([0.2961, 0.5166, 0.2517]), tensor([0.2961, 0.5166, 0.2517]), tensor([0.2961, 0.5166, 0.2517]), tensor([0.2961, 0.5166, 0.2517]), tensor([0.2961, 0.5166, 0.2517]), tensor([0.2961, 0.5166, 0.2517]), tensor([0.2961, 0.5166, 0.2517]), tensor([0.2961, 0.5166, 0.2517]), tensor([0.2961, 0.5166, 0.2517]), tensor([0.2961, 0.5166, 0.2517]), tensor([0.2961, 0.5166, 0.2517]), tensor([0.2961, 0.5166, 0.2517]), tensor([0.2961, 0.5166, 0.2517]), tensor([0.2961, 0.5166, 0.2517]), tensor([0.2961, 0.5166, 0.2517]), tensor([0.2961, 0.5166, 0.2517]), tensor([0.2961, 0.5166, 0.2517]), tensor([0.2961, 0.5166, 0.2517]), tensor([0.2961, 0.5166, 0.2517]), tensor([0.2961, 0.5166, 0.2517]), tensor([0.2961, 0.5166, 0.2517]), tensor([0.2961, 0.5166, 0.2517]), tensor([0.2961, 0.5166, 0.2517]), tensor([0.2961, 0.5166, 0.2517]), tensor([0.2961, 0.5166, 0.2517]), tensor([0.2961, 0.5166, 0.2517]), tensor([0.2961, 0.5166, 0.2517]), tensor([0.2961, 0.5166, 0.2517]), tensor([0.2961, 0.5166, 0.2517]), tensor([0.2961, 0.5166, 0.2517]), tensor([0.2961, 0.5166, 0.2517]), tensor([0.2961, 0.5166, 0.2517]), tensor([0.2961, 0.5166, 0.2517]), tensor([0.2961, 0.5166, 0.2517]), tensor([0.2961, 0.5166, 0.2517]), tensor([0.2961, 0.5166, 0.2517]), tensor([0.2961, 0.5166, 0.2517]), tensor([0.2961, 0.5166, 0.2517]), tensor([0.2961, 0.5166, 0.2517]), tensor([0.2961, 0.5166, 0.2517]), tensor([0.2961, 0.5166, 0.2517]), tensor([0.2961, 0.5166, 0.2517]), tensor([0.2961, 0.5166, 0.2517]), tensor([0.2961, 0.5166, 0.2517]), tensor([0.2961, 0.5166, 0.2517]), tensor([0.2961, 0.5166, 0.2517]), tensor([0.2961, 0.5166, 0.2517]), tensor([0.2961, 0.5166, 0.2517]), tensor([0.2961, 0.5166, 0.2517]), tensor([0.2961, 0.5166, 0.2517]), tensor([0.2961, 0.5166, 0.2517]), tensor([0.2961, 0.5166, 0.2517]), tensor([0.2961, 0.5166, 0.2517]), tensor([0.2961, 0.5166, 0.2517]), tensor([0.2961, 0.5166, 0.2517]), tensor([0.2961, 0.5166, 0.2517]), tensor([0.2961, 0.5166, 0.2517]), tensor([0.2961, 0.5166, 0.2517]), tensor([0.2961, 0.5166, 0.2517]), tensor([0.2961, 0.5166, 0.2517]), tensor([0.2961, 0.5166, 0.2517]), tensor([0.2961, 0.5166, 0.2517]), tensor([0.2961, 0.5166, 0.2517]), tensor([0.2961, 0.5166, 0.2517]), tensor([0.2961, 0.5166, 0.2517]), tensor([0.2961, 0.5166, 0.2517]), tensor([0.2961, 0.5166, 0.2517]), tensor([0.2961, 0.5166, 0.2517]), tensor([0.2961, 0.5166, 0.2517]), tensor([0.2961, 0.5166, 0.2517]), tensor([0.2961, 0.5166, 0.2517]), tensor([0.2961, 0.5166, 0.2517]), tensor([0.2961, 0.5166, 0.2517]), tensor([0.2961, 0.5166, 0.2517]), tensor([0.2961, 0.5166, 0.2517]), tensor([0.2961, 0.5166, 0.2517]), tensor([0.2961, 0.5166, 0.2517]), tensor([0.2961, 0.5166, 0.2517]), tensor([0.2961, 0.5166, 0.2517]), tensor([0.2961, 0.5166, 0.2517]), tensor([0.2961, 0.5166, 0.2517]), tensor([0.2961, 0.5166, 0.2517]), tensor([0.2961, 0.5166, 0.2517]), tensor([0.2961, 0.5166, 0.2517]), tensor([0.2961, 0.5166, 0.2517]), tensor([0.2961, 0.5166, 0.2517]), tensor([0.2961, 0.5166, 0.2517]), tensor([0.2961, 0.5166, 0.2517]), tensor([0.2961, 0.5166, 0.2517]), tensor([0.2961, 0.5166, 0.2517]), tensor([0.2961, 0.5166, 0.2517]), tensor([0.2961, 0.5166, 0.2517]), tensor([0.2961, 0.5166, 0.2517]), tensor([0.2961, 0.5166, 0.2517]), tensor([0.2961, 0.5166, 0.2517]), tensor([0.2961, 0.5166, 0.2517]), tensor([0.2961, 0.5166, 0.2517]), tensor([0.2961, 0.5166, 0.2517]), tensor([0.2961, 0.5166, 0.2517]), tensor([0.2961, 0.5166, 0.2517]), tensor([0.2961, 0.5166, 0.2517]), tensor([0.2961, 0.5166, 0.2517]), tensor([0.2961, 0.5166, 0.2517]), tensor([0.2961, 0.5166, 0.2517]), tensor([0.2961, 0.5166, 0.2517]), tensor([0.2961, 0.5166, 0.2517]), tensor([0.2961, 0.5166, 0.2517]), tensor([0.2961, 0.5166, 0.2517]), tensor([0.2961, 0.5166, 0.2517]), tensor([0.2961, 0.5166, 0.2517]), tensor([0.2961, 0.5166, 0.2517]), tensor([0.2961, 0.5166, 0.2517]), tensor([0.2961, 0.5166, 0.2517]), tensor([0.2961, 0.5166, 0.2517]), tensor([0.2961, 0.5166, 0.2517]), tensor([0.2961, 0.5166, 0.2517]), tensor([0.2961, 0.5166, 0.2517]), tensor([0.2961, 0.5166, 0.2517]), tensor([0.2961, 0.5166, 0.2517]), tensor([0.2961, 0.5166, 0.2517]), tensor([0.2961, 0.5166, 0.2517]), tensor([0.2961, 0.5166, 0.2517]), tensor([0.2961, 0.5166, 0.2517]), tensor([0.2961, 0.5166, 0.2517]), tensor([0.2961, 0.5166, 0.2517]), tensor([0.2961, 0.5166, 0.2517]), tensor([0.2961, 0.5166, 0.2517]), tensor([0.2961, 0.5166, 0.2517]), tensor([0.2961, 0.5166, 0.2517]), tensor([0.2961, 0.5166, 0.2517]), tensor([0.2961, 0.5166, 0.2517]), tensor([0.2961, 0.5166, 0.2517]), tensor([0.2961, 0.5166, 0.2517]), tensor([0.2961, 0.5166, 0.2517]), tensor([0.2961, 0.5166, 0.2517]), tensor([0.2961, 0.5166, 0.2517]), tensor([0.2961, 0.5166, 0.2517]), tensor([0.2961, 0.5166, 0.2517]), tensor([0.2961, 0.5166, 0.2517]), tensor([0.2961, 0.5166, 0.2517]), tensor([0.2961, 0.5166, 0.2517]), tensor([0.2961, 0.5166, 0.2517]), tensor([0.2961, 0.5166, 0.2517]), tensor([0.2961, 0.5166, 0.2517]), tensor([0.2961, 0.5166, 0.2517]), tensor([0.2961, 0.5166, 0.2517]), tensor([0.2961, 0.5166, 0.2517]), tensor([0.2961, 0.5166, 0.2517]), tensor([0.2961, 0.5166, 0.2517]), tensor([0.2961, 0.5166, 0.2517]), tensor([0.2961, 0.5166, 0.2517]), tensor([0.2961, 0.5166, 0.2517]), tensor([0.2961, 0.5166, 0.2517]), tensor([0.2961, 0.5166, 0.2517]), tensor([0.2961, 0.5166, 0.2517]), tensor([0.2961, 0.5166, 0.2517]), tensor([0.2961, 0.5166, 0.2517]), tensor([0.2961, 0.5166, 0.2517]), tensor([0.2961, 0.5166, 0.2517]), tensor([0.2961, 0.5166, 0.2517]), tensor([0.2961, 0.5166, 0.2517]), tensor([0.2961, 0.5166, 0.2517]), tensor([0.2961, 0.5166, 0.2517]), tensor([0.2961, 0.5166, 0.2517]), tensor([0.2961, 0.5166, 0.2517]), tensor([0.2961, 0.5166, 0.2517]), tensor([0.2961, 0.5166, 0.2517]), tensor([0.2961, 0.5166, 0.2517]), tensor([0.2961, 0.5166, 0.2517]), tensor([0.2961, 0.5166, 0.2517]), tensor([0.2961, 0.5166, 0.2517]), tensor([0.2961, 0.5166, 0.2517]), tensor([0.2961, 0.5166, 0.2517]), tensor([0.2961, 0.5166, 0.2517]), tensor([0.2961, 0.5166, 0.2517]), tensor([0.2961, 0.5166, 0.2517]), tensor([0.2961, 0.5166, 0.2517]), tensor([0.2961, 0.5166, 0.2517]), tensor([0.2961, 0.5166, 0.2517]), tensor([0.2961, 0.5166, 0.2517]), tensor([0.2961, 0.5166, 0.2517]), tensor([0.2961, 0.5166, 0.2517]), tensor([0.2961, 0.5166, 0.2517]), tensor([0.2961, 0.5166, 0.2517]), tensor([0.2961, 0.5166, 0.2517]), tensor([0.2961, 0.5166, 0.2517]), tensor([0.2961, 0.5166, 0.2517]), tensor([0.2961, 0.5166, 0.2517]), tensor([0.2961, 0.5166, 0.2517]), tensor([0.2961, 0.5166, 0.2517]), tensor([0.2961, 0.5166, 0.2517]), tensor([0.2961, 0.5166, 0.2517]), tensor([0.2961, 0.5166, 0.2517]), tensor([0.2961, 0.5166, 0.2517]), tensor([0.2961, 0.5166, 0.2517]), tensor([0.2961, 0.5166, 0.2517]), tensor([0.2961, 0.5166, 0.2517]), tensor([0.2961, 0.5166, 0.2517]), tensor([0.2961, 0.5166, 0.2517]), tensor([0.2961, 0.5166, 0.2517]), tensor([0.2961, 0.5166, 0.2517]), tensor([0.2961, 0.5166, 0.2517]), tensor([0.2961, 0.5166, 0.2517]), tensor([0.2961, 0.5166, 0.2517]), tensor([0.2961, 0.5166, 0.2517]), tensor([0.2961, 0.5166, 0.2517]), tensor([0.2961, 0.5166, 0.2517]), tensor([0.2961, 0.5166, 0.2517]), tensor([0.2961, 0.5166, 0.2517]), tensor([0.2961, 0.5166, 0.2517]), tensor([0.2961, 0.5166, 0.2517]), tensor([0.2961, 0.5166, 0.2517]), tensor([0.2961, 0.5166, 0.2517]), tensor([0.2961, 0.5166, 0.2517]), tensor([0.2961, 0.5166, 0.2517]), tensor([0.2961, 0.5166, 0.2517]), tensor([0.2961, 0.5166, 0.2517]), tensor([0.2961, 0.5166, 0.2517]), tensor([0.2961, 0.5166, 0.2517]), tensor([0.2961, 0.5166, 0.2517]), tensor([0.2961, 0.5166, 0.2517]), tensor([0.2961, 0.5166, 0.2517]), tensor([0.2961, 0.5166, 0.2517]), tensor([0.2961, 0.5166, 0.2517]), tensor([0.2961, 0.5166, 0.2517]), tensor([0.2961, 0.5166, 0.2517]), tensor([0.2961, 0.5166, 0.2517]), tensor([0.2961, 0.5166, 0.2517]), tensor([0.2961, 0.5166, 0.2517]), tensor([0.2961, 0.5166, 0.2517]), tensor([0.2961, 0.5166, 0.2517]), tensor([0.2961, 0.5166, 0.2517]), tensor([0.2961, 0.5166, 0.2517]), tensor([0.2961, 0.5166, 0.2517]), tensor([0.2961, 0.5166, 0.2517]), tensor([0.2961, 0.5166, 0.2517]), tensor([0.2961, 0.5166, 0.2517]), tensor([0.2961, 0.5166, 0.2517]), tensor([0.2961, 0.5166, 0.2517]), tensor([0.2961, 0.5166, 0.2517]), tensor([0.2961, 0.5166, 0.2517]), tensor([0.2961, 0.5166, 0.2517]), tensor([0.2961, 0.5166, 0.2517]), tensor([0.2961, 0.5166, 0.2517]), tensor([0.2961, 0.5166, 0.2517]), tensor([0.2961, 0.5166, 0.2517]), tensor([0.2961, 0.5166, 0.2517]), tensor([0.2961, 0.5166, 0.2517]), tensor([0.2961, 0.5166, 0.2517]), tensor([0.2961, 0.5166, 0.2517]), tensor([0.2961, 0.5166, 0.2517]), tensor([0.2961, 0.5166, 0.2517]), tensor([0.2961, 0.5166, 0.2517]), tensor([0.2961, 0.5166, 0.2517]), tensor([0.2961, 0.5166, 0.2517]), tensor([0.2961, 0.5166, 0.2517]), tensor([0.2961, 0.5166, 0.2517]), tensor([0.2961, 0.5166, 0.2517]), tensor([0.2961, 0.5166, 0.2517]), tensor([0.2961, 0.5166, 0.2517]), tensor([0.2961, 0.5166, 0.2517]), tensor([0.2961, 0.5166, 0.2517]), tensor([0.2961, 0.5166, 0.2517]), tensor([0.2961, 0.5166, 0.2517]), tensor([0.2961, 0.5166, 0.2517]), tensor([0.2961, 0.5166, 0.2517]), tensor([0.2961, 0.5166, 0.2517]), tensor([0.2961, 0.5166, 0.2517]), tensor([0.2961, 0.5166, 0.2517]), tensor([0.2961, 0.5166, 0.2517]), tensor([0.2961, 0.5166, 0.2517]), tensor([0.2961, 0.5166, 0.2517]), tensor([0.2961, 0.5166, 0.2517]), tensor([0.2961, 0.5166, 0.2517]), tensor([0.2961, 0.5166, 0.2517]), tensor([0.2961, 0.5166, 0.2517]), tensor([0.2961, 0.5166, 0.2517]), tensor([0.2961, 0.5166, 0.2517]), tensor([0.2961, 0.5166, 0.2517]), tensor([0.2961, 0.5166, 0.2517]), tensor([0.2961, 0.5166, 0.2517]), tensor([0.2961, 0.5166, 0.2517]), tensor([0.2961, 0.5166, 0.2517]), tensor([0.2961, 0.5166, 0.2517]), tensor([0.2961, 0.5166, 0.2517]), tensor([0.2961, 0.5166, 0.2517]), tensor([0.2961, 0.5166, 0.2517]), tensor([0.2961, 0.5166, 0.2517]), tensor([0.2961, 0.5166, 0.2517]), tensor([0.2961, 0.5166, 0.2517]), tensor([0.2961, 0.5166, 0.2517]), tensor([0.2961, 0.5166, 0.2517]), tensor([0.2961, 0.5166, 0.2517]), tensor([0.2961, 0.5166, 0.2517]), tensor([0.2961, 0.5166, 0.2517]), tensor([0.2961, 0.5166, 0.2517]), tensor([0.2961, 0.5166, 0.2517]), tensor([0.2961, 0.5166, 0.2517]), tensor([0.2961, 0.5166, 0.2517]), tensor([0.2961, 0.5166, 0.2517]), tensor([0.2961, 0.5166, 0.2517]), tensor([0.2961, 0.5166, 0.2517]), tensor([0.2961, 0.5166, 0.2517]), tensor([0.2961, 0.5166, 0.2517]), tensor([0.2961, 0.5166, 0.2517]), tensor([0.2961, 0.5166, 0.2517]), tensor([0.2961, 0.5166, 0.2517]), tensor([0.2961, 0.5166, 0.2517]), tensor([0.2961, 0.5166, 0.2517]), tensor([0.2961, 0.5166, 0.2517]), tensor([0.2961, 0.5166, 0.2517]), tensor([0.2961, 0.5166, 0.2517]), tensor([0.2961, 0.5166, 0.2517]), tensor([0.2961, 0.5166, 0.2517]), tensor([0.2961, 0.5166, 0.2517]), tensor([0.2961, 0.5166, 0.2517]), tensor([0.2961, 0.5166, 0.2517]), tensor([0.2961, 0.5166, 0.2517]), tensor([0.2961, 0.5166, 0.2517]), tensor([0.2961, 0.5166, 0.2517]), tensor([0.2961, 0.5166, 0.2517]), tensor([0.2961, 0.5166, 0.2517]), tensor([0.2961, 0.5166, 0.2517]), tensor([0.2961, 0.5166, 0.2517]), tensor([0.2961, 0.5166, 0.2517]), tensor([0.2961, 0.5166, 0.2517]), tensor([0.2961, 0.5166, 0.2517]), tensor([0.2961, 0.5166, 0.2517]), tensor([0.2961, 0.5166, 0.2517]), tensor([0.2961, 0.5166, 0.2517]), tensor([0.2961, 0.5166, 0.2517]), tensor([0.2961, 0.5166, 0.2517]), tensor([0.2961, 0.5166, 0.2517]), tensor([0.2961, 0.5166, 0.2517]), tensor([0.2961, 0.5166, 0.2517]), tensor([0.2961, 0.5166, 0.2517]), tensor([0.2961, 0.5166, 0.2517]), tensor([0.2961, 0.5166, 0.2517]), tensor([0.2961, 0.5166, 0.2517]), tensor([0.2961, 0.5166, 0.2517]), tensor([0.2961, 0.5166, 0.2517]), tensor([0.2961, 0.5166, 0.2517]), tensor([0.2961, 0.5166, 0.2517]), tensor([0.2961, 0.5166, 0.2517]), tensor([0.2961, 0.5166, 0.2517]), tensor([0.2961, 0.5166, 0.2517]), tensor([0.2961, 0.5166, 0.2517]), tensor([0.2961, 0.5166, 0.2517]), tensor([0.2961, 0.5166, 0.2517]), tensor([0.2961, 0.5166, 0.2517]), tensor([0.2961, 0.5166, 0.2517]), tensor([0.2961, 0.5166, 0.2517]), tensor([0.2961, 0.5166, 0.2517]), tensor([0.2961, 0.5166, 0.2517]), tensor([0.2961, 0.5166, 0.2517]), tensor([0.2961, 0.5166, 0.2517]), tensor([0.2961, 0.5166, 0.2517]), tensor([0.2961, 0.5166, 0.2517]), tensor([0.2961, 0.5166, 0.2517]), tensor([0.2961, 0.5166, 0.2517]), tensor([0.2961, 0.5166, 0.2517]), tensor([0.2961, 0.5166, 0.2517]), tensor([0.2961, 0.5166, 0.2517]), tensor([0.2961, 0.5166, 0.2517]), tensor([0.2961, 0.5166, 0.2517]), tensor([0.2961, 0.5166, 0.2517]), tensor([0.2961, 0.5166, 0.2517]), tensor([0.2961, 0.5166, 0.2517]), tensor([0.2961, 0.5166, 0.2517]), tensor([0.2961, 0.5166, 0.2517]), tensor([0.2961, 0.5166, 0.2517]), tensor([0.2961, 0.5166, 0.2517]), tensor([0.2961, 0.5166, 0.2517]), tensor([0.2961, 0.5166, 0.2517]), tensor([0.2961, 0.5166, 0.2517]), tensor([0.2961, 0.5166, 0.2517]), tensor([0.2961, 0.5166, 0.2517]), tensor([0.2961, 0.5166, 0.2517]), tensor([0.2961, 0.5166, 0.2517]), tensor([0.2961, 0.5166, 0.2517]), tensor([0.2961, 0.5166, 0.2517]), tensor([0.2961, 0.5166, 0.2517]), tensor([0.2961, 0.5166, 0.2517]), tensor([0.2961, 0.5166, 0.2517]), tensor([0.2961, 0.5166, 0.2517]), tensor([0.2961, 0.5166, 0.2517]), tensor([0.2961, 0.5166, 0.2517]), tensor([0.2961, 0.5166, 0.2517]), tensor([0.2961, 0.5166, 0.2517]), tensor([0.2961, 0.5166, 0.2517]), tensor([0.2961, 0.5166, 0.2517]), tensor([0.2961, 0.5166, 0.2517]), tensor([0.2961, 0.5166, 0.2517]), tensor([0.2961, 0.5166, 0.2517]), tensor([0.2961, 0.5166, 0.2517]), tensor([0.2961, 0.5166, 0.2517]), tensor([0.2961, 0.5166, 0.2517]), tensor([0.2961, 0.5166, 0.2517]), tensor([0.2961, 0.5166, 0.2517]), tensor([0.2961, 0.5166, 0.2517]), tensor([0.2961, 0.5166, 0.2517]), tensor([0.2961, 0.5166, 0.2517]), tensor([0.2961, 0.5166, 0.2517]), tensor([0.2961, 0.5166, 0.2517]), tensor([0.2961, 0.5166, 0.2517]), tensor([0.2961, 0.5166, 0.2517]), tensor([0.2961, 0.5166, 0.2517]), tensor([0.2961, 0.5166, 0.2517]), tensor([0.2961, 0.5166, 0.2517]), tensor([0.2961, 0.5166, 0.2517]), tensor([0.2961, 0.5166, 0.2517]), tensor([0.2961, 0.5166, 0.2517]), tensor([0.2961, 0.5166, 0.2517]), tensor([0.2961, 0.5166, 0.2517]), tensor([0.2961, 0.5166, 0.2517]), tensor([0.2961, 0.5166, 0.2517]), tensor([0.2961, 0.5166, 0.2517]), tensor([0.2961, 0.5166, 0.2517]), tensor([0.2961, 0.5166, 0.2517]), tensor([0.2961, 0.5166, 0.2517]), tensor([0.2961, 0.5166, 0.2517]), tensor([0.2961, 0.5166, 0.2517]), tensor([0.2961, 0.5166, 0.2517]), tensor([0.2961, 0.5166, 0.2517]), tensor([0.2961, 0.5166, 0.2517]), tensor([0.2961, 0.5166, 0.2517]), tensor([0.2961, 0.5166, 0.2517]), tensor([0.2961, 0.5166, 0.2517]), tensor([0.2961, 0.5166, 0.2517]), tensor([0.2961, 0.5166, 0.2517]), tensor([0.2961, 0.5166, 0.2517]), tensor([0.2961, 0.5166, 0.2517]), tensor([0.2961, 0.5166, 0.2517]), tensor([0.2961, 0.5166, 0.2517]), tensor([0.2961, 0.5166, 0.2517]), tensor([0.2961, 0.5166, 0.2517]), tensor([0.2961, 0.5166, 0.2517]), tensor([0.2961, 0.5166, 0.2517]), tensor([0.2961, 0.5166, 0.2517]), tensor([0.2961, 0.5166, 0.2517]), tensor([0.2961, 0.5166, 0.2517]), tensor([0.2961, 0.5166, 0.2517]), tensor([0.2961, 0.5166, 0.2517]), tensor([0.2961, 0.5166, 0.2517]), tensor([0.2961, 0.5166, 0.2517]), tensor([0.2961, 0.5166, 0.2517]), tensor([0.2961, 0.5166, 0.2517]), tensor([0.2961, 0.5166, 0.2517]), tensor([0.2961, 0.5166, 0.2517]), tensor([0.2961, 0.5166, 0.2517]), tensor([0.2961, 0.5166, 0.2517]), tensor([0.2961, 0.5166, 0.2517]), tensor([0.2961, 0.5166, 0.2517]), tensor([0.2961, 0.5166, 0.2517]), tensor([0.2961, 0.5166, 0.2517]), tensor([0.2961, 0.5166, 0.2517]), tensor([0.2961, 0.5166, 0.2517]), tensor([0.2961, 0.5166, 0.2517]), tensor([0.2961, 0.5166, 0.2517]), tensor([0.2961, 0.5166, 0.2517]), tensor([0.2961, 0.5166, 0.2517]), tensor([0.2961, 0.5166, 0.2517]), tensor([0.2961, 0.5166, 0.2517]), tensor([0.2961, 0.5166, 0.2517]), tensor([0.2961, 0.5166, 0.2517]), tensor([0.2961, 0.5166, 0.2517]), tensor([0.2961, 0.5166, 0.2517]), tensor([0.2961, 0.5166, 0.2517]), tensor([0.2961, 0.5166, 0.2517]), tensor([0.2961, 0.5166, 0.2517]), tensor([0.2961, 0.5166, 0.2517]), tensor([0.2961, 0.5166, 0.2517]), tensor([0.2961, 0.5166, 0.2517]), tensor([0.2961, 0.5166, 0.2517]), tensor([0.2961, 0.5166, 0.2517]), tensor([0.2961, 0.5166, 0.2517]), tensor([0.2961, 0.5166, 0.2517]), tensor([0.2961, 0.5166, 0.2517]), tensor([0.2961, 0.5166, 0.2517]), tensor([0.2961, 0.5166, 0.2517]), tensor([0.2961, 0.5166, 0.2517]), tensor([0.2961, 0.5166, 0.2517]), tensor([0.2961, 0.5166, 0.2517]), tensor([0.2961, 0.5166, 0.2517]), tensor([0.2961, 0.5166, 0.2517]), tensor([0.2961, 0.5166, 0.2517]), tensor([0.2961, 0.5166, 0.2517]), tensor([0.2961, 0.5166, 0.2517]), tensor([0.2961, 0.5166, 0.2517]), tensor([0.2961, 0.5166, 0.2517]), tensor([0.2961, 0.5166, 0.2517]), tensor([0.2961, 0.5166, 0.2517]), tensor([0.2961, 0.5166, 0.2517]), tensor([0.2961, 0.5166, 0.2517]), tensor([0.2961, 0.5166, 0.2517]), tensor([0.2961, 0.5166, 0.2517]), tensor([0.2961, 0.5166, 0.2517]), tensor([0.2961, 0.5166, 0.2517]), tensor([0.2961, 0.5166, 0.2517]), tensor([0.2961, 0.5166, 0.2517]), tensor([0.2961, 0.5166, 0.2517]), tensor([0.2961, 0.5166, 0.2517]), tensor([0.2961, 0.5166, 0.2517]), tensor([0.2961, 0.5166, 0.2517]), tensor([0.2961, 0.5166, 0.2517]), tensor([0.2961, 0.5166, 0.2517]), tensor([0.2961, 0.5166, 0.2517]), tensor([0.2961, 0.5166, 0.2517]), tensor([0.2961, 0.5166, 0.2517]), tensor([0.2961, 0.5166, 0.2517]), tensor([0.2961, 0.5166, 0.2517]), tensor([0.2961, 0.5166, 0.2517]), tensor([0.2961, 0.5166, 0.2517]), tensor([0.2961, 0.5166, 0.2517]), tensor([0.2961, 0.5166, 0.2517]), tensor([0.2961, 0.5166, 0.2517]), tensor([0.2961, 0.5166, 0.2517]), tensor([0.2961, 0.5166, 0.2517]), tensor([0.2961, 0.5166, 0.2517]), tensor([0.2961, 0.5166, 0.2517]), tensor([0.2961, 0.5166, 0.2517]), tensor([0.2961, 0.5166, 0.2517]), tensor([0.2961, 0.5166, 0.2517]), tensor([0.2961, 0.5166, 0.2517]), tensor([0.2961, 0.5166, 0.2517]), tensor([0.2961, 0.5166, 0.2517]), tensor([0.2961, 0.5166, 0.2517]), tensor([0.2961, 0.5166, 0.2517]), tensor([0.2961, 0.5166, 0.2517]), tensor([0.2961, 0.5166, 0.2517]), tensor([0.2961, 0.5166, 0.2517]), tensor([0.2961, 0.5166, 0.2517]), tensor([0.2961, 0.5166, 0.2517]), tensor([0.2961, 0.5166, 0.2517]), tensor([0.2961, 0.5166, 0.2517]), tensor([0.2961, 0.5166, 0.2517]), tensor([0.2961, 0.5166, 0.2517]), tensor([0.2961, 0.5166, 0.2517]), tensor([0.2961, 0.5166, 0.2517]), tensor([0.2961, 0.5166, 0.2517]), tensor([0.2961, 0.5166, 0.2517]), tensor([0.2961, 0.5166, 0.2517]), tensor([0.2961, 0.5166, 0.2517]), tensor([0.2961, 0.5166, 0.2517]), tensor([0.2961, 0.5166, 0.2517]), tensor([0.2961, 0.5166, 0.2517]), tensor([0.2961, 0.5166, 0.2517]), tensor([0.2961, 0.5166, 0.2517]), tensor([0.2961, 0.5166, 0.2517]), tensor([0.2961, 0.5166, 0.2517]), tensor([0.2961, 0.5166, 0.2517]), tensor([0.2961, 0.5166, 0.2517]), tensor([0.2961, 0.5166, 0.2517]), tensor([0.2961, 0.5166, 0.2517]), tensor([0.2961, 0.5166, 0.2517]), tensor([0.2961, 0.5166, 0.2517]), tensor([0.2961, 0.5166, 0.2517]), tensor([0.2961, 0.5166, 0.2517]), tensor([0.2961, 0.5166, 0.2517]), tensor([0.2961, 0.5166, 0.2517]), tensor([0.2961, 0.5166, 0.2517]), tensor([0.2961, 0.5166, 0.2517]), tensor([0.2961, 0.5166, 0.2517]), tensor([0.2961, 0.5166, 0.2517]), tensor([0.2961, 0.5166, 0.2517]), tensor([0.2961, 0.5166, 0.2517]), tensor([0.2961, 0.5166, 0.2517]), tensor([0.2961, 0.5166, 0.2517]), tensor([0.2961, 0.5166, 0.2517]), tensor([0.2961, 0.5166, 0.2517]), tensor([0.2961, 0.5166, 0.2517]), tensor([0.2961, 0.5166, 0.2517]), tensor([0.2961, 0.5166, 0.2517]), tensor([0.2961, 0.5166, 0.2517]), tensor([0.2961, 0.5166, 0.2517]), tensor([0.2961, 0.5166, 0.2517]), tensor([0.2961, 0.5166, 0.2517]), tensor([0.2961, 0.5166, 0.2517]), tensor([0.2961, 0.5166, 0.2517]), tensor([0.2961, 0.5166, 0.2517]), tensor([0.2961, 0.5166, 0.2517]), tensor([0.2961, 0.5166, 0.2517]), tensor([0.2961, 0.5166, 0.2517]), tensor([0.2961, 0.5166, 0.2517]), tensor([0.2961, 0.5166, 0.2517]), tensor([0.2961, 0.5166, 0.2517]), tensor([0.2961, 0.5166, 0.2517]), tensor([0.2961, 0.5166, 0.2517]), tensor([0.2961, 0.5166, 0.2517]), tensor([0.2961, 0.5166, 0.2517]), tensor([0.2961, 0.5166, 0.2517]), tensor([0.2961, 0.5166, 0.2517]), tensor([0.2961, 0.5166, 0.2517]), tensor([0.2961, 0.5166, 0.2517]), tensor([0.2961, 0.5166, 0.2517]), tensor([0.2961, 0.5166, 0.2517]), tensor([0.2961, 0.5166, 0.2517]), tensor([0.2961, 0.5166, 0.2517]), tensor([0.2961, 0.5166, 0.2517]), tensor([0.2961, 0.5166, 0.2517]), tensor([0.2961, 0.5166, 0.2517]), tensor([0.2961, 0.5166, 0.2517]), tensor([0.2961, 0.5166, 0.2517]), tensor([0.2961, 0.5166, 0.2517]), tensor([0.2961, 0.5166, 0.2517]), tensor([0.2961, 0.5166, 0.2517]), tensor([0.2961, 0.5166, 0.2517]), tensor([0.2961, 0.5166, 0.2517]), tensor([0.2961, 0.5166, 0.2517]), tensor([0.2961, 0.5166, 0.2517]), tensor([0.2961, 0.5166, 0.2517]), tensor([0.2961, 0.5166, 0.2517]), tensor([0.2961, 0.5166, 0.2517]), tensor([0.2961, 0.5166, 0.2517]), tensor([0.2961, 0.5166, 0.2517]), tensor([0.2961, 0.5166, 0.2517]), tensor([0.2961, 0.5166, 0.2517]), tensor([0.2961, 0.5166, 0.2517]), tensor([0.2961, 0.5166, 0.2517]), tensor([0.2961, 0.5166, 0.2517]), tensor([0.2961, 0.5166, 0.2517]), tensor([0.2961, 0.5166, 0.2517]), tensor([0.2961, 0.5166, 0.2517]), tensor([0.2961, 0.5166, 0.2517]), tensor([0.2961, 0.5166, 0.2517]), tensor([0.2961, 0.5166, 0.2517]), tensor([0.2961, 0.5166, 0.2517]), tensor([0.2961, 0.5166, 0.2517]), tensor([0.2961, 0.5166, 0.2517]), tensor([0.2961, 0.5166, 0.2517]), tensor([0.2961, 0.5166, 0.2517]), tensor([0.2961, 0.5166, 0.2517]), tensor([0.2961, 0.5166, 0.2517]), tensor([0.2961, 0.5166, 0.2517]), tensor([0.2961, 0.5166, 0.2517]), tensor([0.2961, 0.5166, 0.2517]), tensor([0.2961, 0.5166, 0.2517]), tensor([0.2961, 0.5166, 0.2517]), tensor([0.2961, 0.5166, 0.2517]), tensor([0.2961, 0.5166, 0.2517]), tensor([0.2961, 0.5166, 0.2517]), tensor([0.2961, 0.5166, 0.2517]), tensor([0.2961, 0.5166, 0.2517]), tensor([0.2961, 0.5166, 0.2517]), tensor([0.2961, 0.5166, 0.2517]), tensor([0.2961, 0.5166, 0.2517]), tensor([0.2961, 0.5166, 0.2517]), tensor([0.2961, 0.5166, 0.2517]), tensor([0.2961, 0.5166, 0.2517]), tensor([0.2961, 0.5166, 0.2517]), tensor([0.2961, 0.5166, 0.2517]), tensor([0.2961, 0.5166, 0.2517]), tensor([0.2961, 0.5166, 0.2517]), tensor([0.2961, 0.5166, 0.2517]), tensor([0.2961, 0.5166, 0.2517]), tensor([0.2961, 0.5166, 0.2517]), tensor([0.2961, 0.5166, 0.2517]), tensor([0.2961, 0.5166, 0.2517]), tensor([0.2961, 0.5166, 0.2517]), tensor([0.2961, 0.5166, 0.2517]), tensor([0.2961, 0.5166, 0.2517]), tensor([0.2961, 0.5166, 0.2517]), tensor([0.2961, 0.5166, 0.2517]), tensor([0.2961, 0.5166, 0.2517]), tensor([0.2961, 0.5166, 0.2517]), tensor([0.2961, 0.5166, 0.2517]), tensor([0.2961, 0.5166, 0.2517]), tensor([0.2961, 0.5166, 0.2517]), tensor([0.2961, 0.5166, 0.2517]), tensor([0.2961, 0.5166, 0.2517]), tensor([0.2961, 0.5166, 0.2517]), tensor([0.2961, 0.5166, 0.2517]), tensor([0.2961, 0.5166, 0.2517]), tensor([0.2961, 0.5166, 0.2517]), tensor([0.2961, 0.5166, 0.2517]), tensor([0.2961, 0.5166, 0.2517]), tensor([0.2961, 0.5166, 0.2517]), tensor([0.2961, 0.5166, 0.2517]), tensor([0.2961, 0.5166, 0.2517]), tensor([0.2961, 0.5166, 0.2517]), tensor([0.2961, 0.5166, 0.2517]), tensor([0.2961, 0.5166, 0.2517]), tensor([0.2961, 0.5166, 0.2517]), tensor([0.2961, 0.5166, 0.2517]), tensor([0.2961, 0.5166, 0.2517]), tensor([0.2961, 0.5166, 0.2517]), tensor([0.2961, 0.5166, 0.2517]), tensor([0.2961, 0.5166, 0.2517]), tensor([0.2961, 0.5166, 0.2517]), tensor([0.2961, 0.5166, 0.2517]), tensor([0.2961, 0.5166, 0.2517]), tensor([0.2961, 0.5166, 0.2517]), tensor([0.2961, 0.5166, 0.2517]), tensor([0.2961, 0.5166, 0.2517]), tensor([0.2961, 0.5166, 0.2517]), tensor([0.2961, 0.5166, 0.2517]), tensor([0.2961, 0.5166, 0.2517]), tensor([0.2961, 0.5166, 0.2517]), tensor([0.2961, 0.5166, 0.2517]), tensor([0.2961, 0.5166, 0.2517]), tensor([0.2961, 0.5166, 0.2517]), tensor([0.2961, 0.5166, 0.2517]), tensor([0.2961, 0.5166, 0.2517]), tensor([0.2961, 0.5166, 0.2517]), tensor([0.2961, 0.5166, 0.2517]), tensor([0.2961, 0.5166, 0.2517]), tensor([0.2961, 0.5166, 0.2517]), tensor([0.2961, 0.5166, 0.2517]), tensor([0.2961, 0.5166, 0.2517]), tensor([0.2961, 0.5166, 0.2517]), tensor([0.2961, 0.5166, 0.2517]), tensor([0.2961, 0.5166, 0.2517]), tensor([0.2961, 0.5166, 0.2517]), tensor([0.2961, 0.5166, 0.2517]), tensor([0.2961, 0.5166, 0.2517]), tensor([0.2961, 0.5166, 0.2517]), tensor([0.2961, 0.5166, 0.2517]), tensor([0.2961, 0.5166, 0.2517]), tensor([0.2961, 0.5166, 0.2517]), tensor([0.2961, 0.5166, 0.2517]), tensor([0.2961, 0.5166, 0.2517]), tensor([0.2961, 0.5166, 0.2517]), tensor([0.2961, 0.5166, 0.2517]), tensor([0.2961, 0.5166, 0.2517]), tensor([0.2961, 0.5166, 0.2517]), tensor([0.2961, 0.5166, 0.2517]), tensor([0.2961, 0.5166, 0.2517]), tensor([0.2961, 0.5166, 0.2517]), tensor([0.2961, 0.5166, 0.2517]), tensor([0.2961, 0.5166, 0.2517]), tensor([0.2961, 0.5166, 0.2517]), tensor([0.2961, 0.5166, 0.2517]), tensor([0.2961, 0.5166, 0.2517]), tensor([0.2961, 0.5166, 0.2517]), tensor([0.2961, 0.5166, 0.2517]), tensor([0.2961, 0.5166, 0.2517]), tensor([0.2961, 0.5166, 0.2517]), tensor([0.2961, 0.5166, 0.2517]), tensor([0.2961, 0.5166, 0.2517]), tensor([0.2961, 0.5166, 0.2517]), tensor([0.2961, 0.5166, 0.2517]), tensor([0.2961, 0.5166, 0.2517]), tensor([0.2961, 0.5166, 0.2517]), tensor([0.2961, 0.5166, 0.2517]), tensor([0.2961, 0.5166, 0.2517]), tensor([0.2961, 0.5166, 0.2517]), tensor([0.2961, 0.5166, 0.2517]), tensor([0.2961, 0.5166, 0.2517]), tensor([0.2961, 0.5166, 0.2517]), tensor([0.2961, 0.5166, 0.2517]), tensor([0.2961, 0.5166, 0.2517]), tensor([0.2961, 0.5166, 0.2517]), tensor([0.2961, 0.5166, 0.2517]), tensor([0.2961, 0.5166, 0.2517]), tensor([0.2961, 0.5166, 0.2517]), tensor([0.2961, 0.5166, 0.2517]), tensor([0.2961, 0.5166, 0.2517]), tensor([0.2961, 0.5166, 0.2517]), tensor([0.2961, 0.5166, 0.2517]), tensor([0.2961, 0.5166, 0.2517]), tensor([0.2961, 0.5166, 0.2517]), tensor([0.2961, 0.5166, 0.2517]), tensor([0.2961, 0.5166, 0.2517]), tensor([0.2961, 0.5166, 0.2517]), tensor([0.2961, 0.5166, 0.2517]), tensor([0.2961, 0.5166, 0.2517]), tensor([0.2961, 0.5166, 0.2517]), tensor([0.2961, 0.5166, 0.2517]), tensor([0.2961, 0.5166, 0.2517]), tensor([0.2961, 0.5166, 0.2517]), tensor([0.2961, 0.5166, 0.2517]), tensor([0.2961, 0.5166, 0.2517]), tensor([0.2961, 0.5166, 0.2517]), tensor([0.2961, 0.5166, 0.2517]), tensor([0.2961, 0.5166, 0.2517]), tensor([0.2961, 0.5166, 0.2517]), tensor([0.2961, 0.5166, 0.2517]), tensor([0.2961, 0.5166, 0.2517]), tensor([0.2961, 0.5166, 0.2517]), tensor([0.2961, 0.5166, 0.2517]), tensor([0.2961, 0.5166, 0.2517]), tensor([0.2961, 0.5166, 0.2517]), tensor([0.2961, 0.5166, 0.2517]), tensor([0.2961, 0.5166, 0.2517]), tensor([0.2961, 0.5166, 0.2517]), tensor([0.2961, 0.5166, 0.2517]), tensor([0.2961, 0.5166, 0.2517]), tensor([0.2961, 0.5166, 0.2517]), tensor([0.2961, 0.5166, 0.2517]), tensor([0.2961, 0.5166, 0.2517]), tensor([0.2961, 0.5166, 0.2517]), tensor([0.2961, 0.5166, 0.2517]), tensor([0.2961, 0.5166, 0.2517]), tensor([0.2961, 0.5166, 0.2517]), tensor([0.2961, 0.5166, 0.2517]), tensor([0.2961, 0.5166, 0.2517]), tensor([0.2961, 0.5166, 0.2517]), tensor([0.2961, 0.5166, 0.2517]), tensor([0.2961, 0.5166, 0.2517]), tensor([0.2961, 0.5166, 0.2517]), tensor([0.2961, 0.5166, 0.2517]), tensor([0.2961, 0.5166, 0.2517]), tensor([0.2961, 0.5166, 0.2517]), tensor([0.2961, 0.5166, 0.2517]), tensor([0.2961, 0.5166, 0.2517]), tensor([0.2961, 0.5166, 0.2517]), tensor([0.2961, 0.5166, 0.2517]), tensor([0.2961, 0.5166, 0.2517]), tensor([0.2961, 0.5166, 0.2517]), tensor([0.2961, 0.5166, 0.2517]), tensor([0.2961, 0.5166, 0.2517]), tensor([0.2961, 0.5166, 0.2517]), tensor([0.2961, 0.5166, 0.2517]), tensor([0.2961, 0.5166, 0.2517]), tensor([0.2961, 0.5166, 0.2517]), tensor([0.2961, 0.5166, 0.2517]), tensor([0.2961, 0.5166, 0.2517]), tensor([0.2961, 0.5166, 0.2517]), tensor([0.2961, 0.5166, 0.2517]), tensor([0.2961, 0.5166, 0.2517]), tensor([0.2961, 0.5166, 0.2517]), tensor([0.2961, 0.5166, 0.2517]), tensor([0.2961, 0.5166, 0.2517]), tensor([0.2961, 0.5166, 0.2517]), tensor([0.2961, 0.5166, 0.2517]), tensor([0.2961, 0.5166, 0.2517]), tensor([0.2961, 0.5166, 0.2517]), tensor([0.2961, 0.5166, 0.2517]), tensor([0.2961, 0.5166, 0.2517]), tensor([0.2961, 0.5166, 0.2517]), tensor([0.2961, 0.5166, 0.2517]), tensor([0.2961, 0.5166, 0.2517]), tensor([0.2961, 0.5166, 0.2517]), tensor([0.2961, 0.5166, 0.2517]), tensor([0.2961, 0.5166, 0.2517]), tensor([0.2961, 0.5166, 0.2517]), tensor([0.2961, 0.5166, 0.2517]), tensor([0.2961, 0.5166, 0.2517]), tensor([0.2961, 0.5166, 0.2517]), tensor([0.2961, 0.5166, 0.2517]), tensor([0.2961, 0.5166, 0.2517]), tensor([0.2961, 0.5166, 0.2517]), tensor([0.2961, 0.5166, 0.2517]), tensor([0.2961, 0.5166, 0.2517]), tensor([0.2961, 0.5166, 0.2517]), tensor([0.2961, 0.5166, 0.2517]), tensor([0.2961, 0.5166, 0.2517]), tensor([0.2961, 0.5166, 0.2517]), tensor([0.2961, 0.5166, 0.2517]), tensor([0.2961, 0.5166, 0.2517]), tensor([0.2961, 0.5166, 0.2517]), tensor([0.2961, 0.5166, 0.2517]), tensor([0.2961, 0.5166, 0.2517]), tensor([0.2961, 0.5166, 0.2517]), tensor([0.2961, 0.5166, 0.2517]), tensor([0.2961, 0.5166, 0.2517]), tensor([0.2961, 0.5166, 0.2517]), tensor([0.2961, 0.5166, 0.2517]), tensor([0.2961, 0.5166, 0.2517]), tensor([0.2961, 0.5166, 0.2517]), tensor([0.2961, 0.5166, 0.2517]), tensor([0.2961, 0.5166, 0.2517]), tensor([0.2961, 0.5166, 0.2517]), tensor([0.2961, 0.5166, 0.2517]), tensor([0.2961, 0.5166, 0.2517]), tensor([0.2961, 0.5166, 0.2517]), tensor([0.2961, 0.5166, 0.2517]), tensor([0.2961, 0.5166, 0.2517]), tensor([0.2961, 0.5166, 0.2517]), tensor([0.2961, 0.5166, 0.2517]), tensor([0.2961, 0.5166, 0.2517]), tensor([0.2961, 0.5166, 0.2517]), tensor([0.2961, 0.5166, 0.2517]), tensor([0.2961, 0.5166, 0.2517]), tensor([0.2961, 0.5166, 0.2517]), tensor([0.2961, 0.5166, 0.2517]), tensor([0.2961, 0.5166, 0.2517]), tensor([0.2961, 0.5166, 0.2517]), tensor([0.2961, 0.5166, 0.2517]), tensor([0.2961, 0.5166, 0.2517]), tensor([0.2961, 0.5166, 0.2517]), tensor([0.2961, 0.5166, 0.2517]), tensor([0.2961, 0.5166, 0.2517]), tensor([0.2961, 0.5166, 0.2517]), tensor([0.2961, 0.5166, 0.2517]), tensor([0.2961, 0.5166, 0.2517]), tensor([0.2961, 0.5166, 0.2517]), tensor([0.2961, 0.5166, 0.2517]), tensor([0.2961, 0.5166, 0.2517]), tensor([0.2961, 0.5166, 0.2517]), tensor([0.2961, 0.5166, 0.2517]), tensor([0.2961, 0.5166, 0.2517]), tensor([0.2961, 0.5166, 0.2517]), tensor([0.2961, 0.5166, 0.2517]), tensor([0.2961, 0.5166, 0.2517]), tensor([0.2961, 0.5166, 0.2517]), tensor([0.2961, 0.5166, 0.2517]), tensor([0.2961, 0.5166, 0.2517]), tensor([0.2961, 0.5166, 0.2517]), tensor([0.2961, 0.5166, 0.2517]), tensor([0.2961, 0.5166, 0.2517]), tensor([0.2961, 0.5166, 0.2517]), tensor([0.2961, 0.5166, 0.2517]), tensor([0.2961, 0.5166, 0.2517]), tensor([0.2961, 0.5166, 0.2517]), tensor([0.2961, 0.5166, 0.2517]), tensor([0.2961, 0.5166, 0.2517]), tensor([0.2961, 0.5166, 0.2517]), tensor([0.2961, 0.5166, 0.2517]), tensor([0.2961, 0.5166, 0.2517]), tensor([0.2961, 0.5166, 0.2517]), tensor([0.2961, 0.5166, 0.2517]), tensor([0.2961, 0.5166, 0.2517]), tensor([0.2961, 0.5166, 0.2517]), tensor([0.2961, 0.5166, 0.2517]), tensor([0.2961, 0.5166, 0.2517]), tensor([0.2961, 0.5166, 0.2517]), tensor([0.2961, 0.5166, 0.2517]), tensor([0.2961, 0.5166, 0.2517]), tensor([0.2961, 0.5166, 0.2517]), tensor([0.2961, 0.5166, 0.2517]), tensor([0.2961, 0.5166, 0.2517]), tensor([0.2961, 0.5166, 0.2517]), tensor([0.2961, 0.5166, 0.2517]), tensor([0.2961, 0.5166, 0.2517]), tensor([0.2961, 0.5166, 0.2517]), tensor([0.2961, 0.5166, 0.2517]), tensor([0.2961, 0.5166, 0.2517]), tensor([0.2961, 0.5166, 0.2517]), tensor([0.2961, 0.5166, 0.2517]), tensor([0.2961, 0.5166, 0.2517]), tensor([0.2961, 0.5166, 0.2517]), tensor([0.2961, 0.5166, 0.2517]), tensor([0.2961, 0.5166, 0.2517]), tensor([0.2961, 0.5166, 0.2517]), tensor([0.2961, 0.5166, 0.2517]), tensor([0.2961, 0.5166, 0.2517]), tensor([0.2961, 0.5166, 0.2517]), tensor([0.2961, 0.5166, 0.2517]), tensor([0.2961, 0.5166, 0.2517]), tensor([0.2961, 0.5166, 0.2517]), tensor([0.2961, 0.5166, 0.2517]), tensor([0.2961, 0.5166, 0.2517]), tensor([0.2961, 0.5166, 0.2517]), tensor([0.2961, 0.5166, 0.2517]), tensor([0.2961, 0.5166, 0.2517]), tensor([0.2961, 0.5166, 0.2517]), tensor([0.2961, 0.5166, 0.2517]), tensor([0.2961, 0.5166, 0.2517]), tensor([0.2961, 0.5166, 0.2517]), tensor([0.2961, 0.5166, 0.2517]), tensor([0.2961, 0.5166, 0.2517]), tensor([0.2961, 0.5166, 0.2517]), tensor([0.2961, 0.5166, 0.2517]), tensor([0.2961, 0.5166, 0.2517]), tensor([0.2961, 0.5166, 0.2517]), tensor([0.2961, 0.5166, 0.2517]), tensor([0.2961, 0.5166, 0.2517]), tensor([0.2961, 0.5166, 0.2517]), tensor([0.2961, 0.5166, 0.2517]), tensor([0.2961, 0.5166, 0.2517]), tensor([0.2961, 0.5166, 0.2517]), tensor([0.2961, 0.5166, 0.2517]), tensor([0.2961, 0.5166, 0.2517]), tensor([0.2961, 0.5166, 0.2517]), tensor([0.2961, 0.5166, 0.2517]), tensor([0.2961, 0.5166, 0.2517]), tensor([0.2961, 0.5166, 0.2517]), tensor([0.2961, 0.5166, 0.2517]), tensor([0.2961, 0.5166, 0.2517]), tensor([0.2961, 0.5166, 0.2517]), tensor([0.2961, 0.5166, 0.2517]), tensor([0.2961, 0.5166, 0.2517]), tensor([0.2961, 0.5166, 0.2517]), tensor([0.2961, 0.5166, 0.2517]), tensor([0.2961, 0.5166, 0.2517]), tensor([0.2961, 0.5166, 0.2517]), tensor([0.2961, 0.5166, 0.2517]), tensor([0.2961, 0.5166, 0.2517]), tensor([0.2961, 0.5166, 0.2517]), tensor([0.2961, 0.5166, 0.2517]), tensor([0.2961, 0.5166, 0.2517]), tensor([0.2961, 0.5166, 0.2517]), tensor([0.2961, 0.5166, 0.2517]), tensor([0.2961, 0.5166, 0.2517]), tensor([0.2961, 0.5166, 0.2517]), tensor([0.2961, 0.5166, 0.2517]), tensor([0.2961, 0.5166, 0.2517]), tensor([0.2961, 0.5166, 0.2517]), tensor([0.2961, 0.5166, 0.2517]), tensor([0.2961, 0.5166, 0.2517]), tensor([0.2961, 0.5166, 0.2517]), tensor([0.2961, 0.5166, 0.2517]), tensor([0.2961, 0.5166, 0.2517]), tensor([0.2961, 0.5166, 0.2517]), tensor([0.2961, 0.5166, 0.2517]), tensor([0.2961, 0.5166, 0.2517]), tensor([0.2961, 0.5166, 0.2517]), tensor([0.2961, 0.5166, 0.2517]), tensor([0.2961, 0.5166, 0.2517]), tensor([0.2961, 0.5166, 0.2517]), tensor([0.2961, 0.5166, 0.2517]), tensor([0.2961, 0.5166, 0.2517]), tensor([0.2961, 0.5166, 0.2517]), tensor([0.2961, 0.5166, 0.2517]), tensor([0.2961, 0.5166, 0.2517]), tensor([0.2961, 0.5166, 0.2517]), tensor([0.2961, 0.5166, 0.2517]), tensor([0.2961, 0.5166, 0.2517]), tensor([0.2961, 0.5166, 0.2517]), tensor([0.2961, 0.5166, 0.2517]), tensor([0.2961, 0.5166, 0.2517]), tensor([0.2961, 0.5166, 0.2517]), tensor([0.2961, 0.5166, 0.2517]), tensor([0.2961, 0.5166, 0.2517]), tensor([0.2961, 0.5166, 0.2517]), tensor([0.2961, 0.5166, 0.2517]), tensor([0.2961, 0.5166, 0.2517]), tensor([0.2961, 0.5166, 0.2517]), tensor([0.2961, 0.5166, 0.2517]), tensor([0.2961, 0.5166, 0.2517]), tensor([0.2961, 0.5166, 0.2517]), tensor([0.2961, 0.5166, 0.2517]), tensor([0.2961, 0.5166, 0.2517]), tensor([0.2961, 0.5166, 0.2517]), tensor([0.2961, 0.5166, 0.2517]), tensor([0.2961, 0.5166, 0.2517]), tensor([0.2961, 0.5166, 0.2517]), tensor([0.2961, 0.5166, 0.2517]), tensor([0.2961, 0.5166, 0.2517]), tensor([0.2961, 0.5166, 0.2517]), tensor([0.2961, 0.5166, 0.2517]), tensor([0.2961, 0.5166, 0.2517]), tensor([0.2961, 0.5166, 0.2517]), tensor([0.2961, 0.5166, 0.2517]), tensor([0.2961, 0.5166, 0.2517]), tensor([0.2961, 0.5166, 0.2517]), tensor([0.2961, 0.5166, 0.2517]), tensor([0.2961, 0.5166, 0.2517]), tensor([0.2961, 0.5166, 0.2517]), tensor([0.2961, 0.5166, 0.2517]), tensor([0.2961, 0.5166, 0.2517]), tensor([0.2961, 0.5166, 0.2517]), tensor([0.2961, 0.5166, 0.2517]), tensor([0.2961, 0.5166, 0.2517]), tensor([0.2961, 0.5166, 0.2517]), tensor([0.2961, 0.5166, 0.2517]), tensor([0.2961, 0.5166, 0.2517]), tensor([0.2961, 0.5166, 0.2517]), tensor([0.2961, 0.5166, 0.2517]), tensor([0.2961, 0.5166, 0.2517]), tensor([0.2961, 0.5166, 0.2517]), tensor([0.2961, 0.5166, 0.2517]), tensor([0.2961, 0.5166, 0.2517]), tensor([0.2961, 0.5166, 0.2517]), tensor([0.2961, 0.5166, 0.2517]), tensor([0.2961, 0.5166, 0.2517]), tensor([0.2961, 0.5166, 0.2517]), tensor([0.2961, 0.5166, 0.2517]), tensor([0.2961, 0.5166, 0.2517]), tensor([0.2961, 0.5166, 0.2517]), tensor([0.2961, 0.5166, 0.2517]), tensor([0.2961, 0.5166, 0.2517]), tensor([0.2961, 0.5166, 0.2517]), tensor([0.2961, 0.5166, 0.2517]), tensor([0.2961, 0.5166, 0.2517]), tensor([0.2961, 0.5166, 0.2517]), tensor([0.2961, 0.5166, 0.2517]), tensor([0.2961, 0.5166, 0.2517]), tensor([0.2961, 0.5166, 0.2517]), tensor([0.2961, 0.5166, 0.2517]), tensor([0.2961, 0.5166, 0.2517]), tensor([0.2961, 0.5166, 0.2517]), tensor([0.2961, 0.5166, 0.2517]), tensor([0.2961, 0.5166, 0.2517]), tensor([0.2961, 0.5166, 0.2517]), tensor([0.2961, 0.5166, 0.2517]), tensor([0.2961, 0.5166, 0.2517]), tensor([0.2961, 0.5166, 0.2517]), tensor([0.2961, 0.5166, 0.2517]), tensor([0.2961, 0.5166, 0.2517]), tensor([0.2961, 0.5166, 0.2517]), tensor([0.2961, 0.5166, 0.2517]), tensor([0.2961, 0.5166, 0.2517]), tensor([0.2961, 0.5166, 0.2517]), tensor([0.2961, 0.5166, 0.2517]), tensor([0.2961, 0.5166, 0.2517]), tensor([0.2961, 0.5166, 0.2517]), tensor([0.2961, 0.5166, 0.2517]), tensor([0.2961, 0.5166, 0.2517]), tensor([0.2961, 0.5166, 0.2517]), tensor([0.2961, 0.5166, 0.2517]), tensor([0.2961, 0.5166, 0.2517]), tensor([0.2961, 0.5166, 0.2517]), tensor([0.2961, 0.5166, 0.2517]), tensor([0.2961, 0.5166, 0.2517]), tensor([0.2961, 0.5166, 0.2517]), tensor([0.2961, 0.5166, 0.2517]), tensor([0.2961, 0.5166, 0.2517]), tensor([0.2961, 0.5166, 0.2517]), tensor([0.2961, 0.5166, 0.2517]), tensor([0.2961, 0.5166, 0.2517]), tensor([0.2961, 0.5166, 0.2517]), tensor([0.2961, 0.5166, 0.2517]), tensor([0.2961, 0.5166, 0.2517]), tensor([0.2961, 0.5166, 0.2517]), tensor([0.2961, 0.5166, 0.2517]), tensor([0.2961, 0.5166, 0.2517]), tensor([0.2961, 0.5166, 0.2517]), tensor([0.2961, 0.5166, 0.2517]), tensor([0.2961, 0.5166, 0.2517]), tensor([0.2961, 0.5166, 0.2517]), tensor([0.2961, 0.5166, 0.2517]), tensor([0.2961, 0.5166, 0.2517]), tensor([0.2961, 0.5166, 0.2517]), tensor([0.2961, 0.5166, 0.2517]), tensor([0.2961, 0.5166, 0.2517]), tensor([0.2961, 0.5166, 0.2517]), tensor([0.2961, 0.5166, 0.2517]), tensor([0.2961, 0.5166, 0.2517]), tensor([0.2961, 0.5166, 0.2517]), tensor([0.2961, 0.5166, 0.2517]), tensor([0.2961, 0.5166, 0.2517]), tensor([0.2961, 0.5166, 0.2517]), tensor([0.2961, 0.5166, 0.2517]), tensor([0.2961, 0.5166, 0.2517]), tensor([0.2961, 0.5166, 0.2517]), tensor([0.2961, 0.5166, 0.2517]), tensor([0.2961, 0.5166, 0.2517]), tensor([0.2961, 0.5166, 0.2517]), tensor([0.2961, 0.5166, 0.2517]), tensor([0.2961, 0.5166, 0.2517]), tensor([0.2961, 0.5166, 0.2517]), tensor([0.2961, 0.5166, 0.2517]), tensor([0.2961, 0.5166, 0.2517]), tensor([0.2961, 0.5166, 0.2517]), tensor([0.2961, 0.5166, 0.2517]), tensor([0.2961, 0.5166, 0.2517]), tensor([0.2961, 0.5166, 0.2517]), tensor([0.2961, 0.5166, 0.2517]), tensor([0.2961, 0.5166, 0.2517]), tensor([0.2961, 0.5166, 0.2517]), tensor([0.2961, 0.5166, 0.2517]), tensor([0.2961, 0.5166, 0.2517]), tensor([0.2961, 0.5166, 0.2517]), tensor([0.2961, 0.5166, 0.2517]), tensor([0.2961, 0.5166, 0.2517]), tensor([0.2961, 0.5166, 0.2517]), tensor([0.2961, 0.5166, 0.2517]), tensor([0.2961, 0.5166, 0.2517]), tensor([0.2961, 0.5166, 0.2517]), tensor([0.2961, 0.5166, 0.2517]), tensor([0.2961, 0.5166, 0.2517]), tensor([0.2961, 0.5166, 0.2517]), tensor([0.2961, 0.5166, 0.2517]), tensor([0.2961, 0.5166, 0.2517]), tensor([0.2961, 0.5166, 0.2517]), tensor([0.2961, 0.5166, 0.2517]), tensor([0.2961, 0.5166, 0.2517]), tensor([0.2961, 0.5166, 0.2517]), tensor([0.2961, 0.5166, 0.2517]), tensor([0.2961, 0.5166, 0.2517]), tensor([0.2961, 0.5166, 0.2517]), tensor([0.2961, 0.5166, 0.2517]), tensor([0.2961, 0.5166, 0.2517]), tensor([0.2961, 0.5166, 0.2517]), tensor([0.2961, 0.5166, 0.2517]), tensor([0.2961, 0.5166, 0.2517]), tensor([0.2961, 0.5166, 0.2517]), tensor([0.2961, 0.5166, 0.2517]), tensor([0.2961, 0.5166, 0.2517]), tensor([0.2961, 0.5166, 0.2517]), tensor([0.2961, 0.5166, 0.2517]), tensor([0.2961, 0.5166, 0.2517]), tensor([0.2961, 0.5166, 0.2517]), tensor([0.2961, 0.5166, 0.2517]), tensor([0.2961, 0.5166, 0.2517]), tensor([0.2961, 0.5166, 0.2517]), tensor([0.2961, 0.5166, 0.2517]), tensor([0.2961, 0.5166, 0.2517]), tensor([0.2961, 0.5166, 0.2517]), tensor([0.2961, 0.5166, 0.2517]), tensor([0.2961, 0.5166, 0.2517]), tensor([0.2961, 0.5166, 0.2517]), tensor([0.2961, 0.5166, 0.2517]), tensor([0.2961, 0.5166, 0.2517]), tensor([0.2961, 0.5166, 0.2517]), tensor([0.2961, 0.5166, 0.2517]), tensor([0.2961, 0.5166, 0.2517]), tensor([0.2961, 0.5166, 0.2517]), tensor([0.2961, 0.5166, 0.2517]), tensor([0.2961, 0.5166, 0.2517]), tensor([0.2961, 0.5166, 0.2517]), tensor([0.2961, 0.5166, 0.2517]), tensor([0.2961, 0.5166, 0.2517]), tensor([0.2961, 0.5166, 0.2517]), tensor([0.2961, 0.5166, 0.2517]), tensor([0.2961, 0.5166, 0.2517]), tensor([0.2961, 0.5166, 0.2517]), tensor([0.2961, 0.5166, 0.2517]), tensor([0.2961, 0.5166, 0.2517]), tensor([0.2961, 0.5166, 0.2517]), tensor([0.2961, 0.5166, 0.2517]), tensor([0.2961, 0.5166, 0.2517]), tensor([0.2961, 0.5166, 0.2517]), tensor([0.2961, 0.5166, 0.2517]), tensor([0.2961, 0.5166, 0.2517]), tensor([0.2961, 0.5166, 0.2517]), tensor([0.2961, 0.5166, 0.2517]), tensor([0.2961, 0.5166, 0.2517]), tensor([0.2961, 0.5166, 0.2517]), tensor([0.2961, 0.5166, 0.2517]), tensor([0.2961, 0.5166, 0.2517]), tensor([0.2961, 0.5166, 0.2517]), tensor([0.2961, 0.5166, 0.2517]), tensor([0.2961, 0.5166, 0.2517]), tensor([0.2961, 0.5166, 0.2517]), tensor([0.2961, 0.5166, 0.2517]), tensor([0.2961, 0.5166, 0.2517]), tensor([0.2961, 0.5166, 0.2517]), tensor([0.2961, 0.5166, 0.2517]), tensor([0.2961, 0.5166, 0.2517]), tensor([0.2961, 0.5166, 0.2517]), tensor([0.2961, 0.5166, 0.2517]), tensor([0.2961, 0.5166, 0.2517]), tensor([0.2961, 0.5166, 0.2517]), tensor([0.2961, 0.5166, 0.2517]), tensor([0.2961, 0.5166, 0.2517]), tensor([0.2961, 0.5166, 0.2517]), tensor([0.2961, 0.5166, 0.2517]), tensor([0.2961, 0.5166, 0.2517]), tensor([0.2961, 0.5166, 0.2517]), tensor([0.2961, 0.5166, 0.2517]), tensor([0.2961, 0.5166, 0.2517]), tensor([0.2961, 0.5166, 0.2517]), tensor([0.2961, 0.5166, 0.2517]), tensor([0.2961, 0.5166, 0.2517]), tensor([0.2961, 0.5166, 0.2517]), tensor([0.2961, 0.5166, 0.2517]), tensor([0.2961, 0.5166, 0.2517]), tensor([0.2961, 0.5166, 0.2517]), tensor([0.2961, 0.5166, 0.2517]), tensor([0.2961, 0.5166, 0.2517]), tensor([0.2961, 0.5166, 0.2517]), tensor([0.2961, 0.5166, 0.2517]), tensor([0.2961, 0.5166, 0.2517]), tensor([0.2961, 0.5166, 0.2517]), tensor([0.2961, 0.5166, 0.2517]), tensor([0.2961, 0.5166, 0.2517]), tensor([0.2961, 0.5166, 0.2517]), tensor([0.2961, 0.5166, 0.2517]), tensor([0.2961, 0.5166, 0.2517]), tensor([0.2961, 0.5166, 0.2517]), tensor([0.2961, 0.5166, 0.2517]), tensor([0.2961, 0.5166, 0.2517]), tensor([0.2961, 0.5166, 0.2517]), tensor([0.2961, 0.5166, 0.2517]), tensor([0.2961, 0.5166, 0.2517]), tensor([0.2961, 0.5166, 0.2517]), tensor([0.2961, 0.5166, 0.2517]), tensor([0.2961, 0.5166, 0.2517]), tensor([0.2961, 0.5166, 0.2517]), tensor([0.2961, 0.5166, 0.2517]), tensor([0.2961, 0.5166, 0.2517]), tensor([0.2961, 0.5166, 0.2517]), tensor([0.2961, 0.5166, 0.2517]), tensor([0.2961, 0.5166, 0.2517]), tensor([0.2961, 0.5166, 0.2517]), tensor([0.2961, 0.5166, 0.2517]), tensor([0.2961, 0.5166, 0.2517]), tensor([0.2961, 0.5166, 0.2517]), tensor([0.2961, 0.5166, 0.2517]), tensor([0.2961, 0.5166, 0.2517]), tensor([0.2961, 0.5166, 0.2517]), tensor([0.2961, 0.5166, 0.2517]), tensor([0.2961, 0.5166, 0.2517]), tensor([0.2961, 0.5166, 0.2517]), tensor([0.2961, 0.5166, 0.2517]), tensor([0.2961, 0.5166, 0.2517]), tensor([0.2961, 0.5166, 0.2517]), tensor([0.2961, 0.5166, 0.2517]), tensor([0.2961, 0.5166, 0.2517]), tensor([0.2961, 0.5166, 0.2517]), tensor([0.2961, 0.5166, 0.2517]), tensor([0.2961, 0.5166, 0.2517]), tensor([0.2961, 0.5166, 0.2517]), tensor([0.2961, 0.5166, 0.2517]), tensor([0.2961, 0.5166, 0.2517]), tensor([0.2961, 0.5166, 0.2517]), tensor([0.2961, 0.5166, 0.2517]), tensor([0.2961, 0.5166, 0.2517]), tensor([0.2961, 0.5166, 0.2517]), tensor([0.2961, 0.5166, 0.2517]), tensor([0.2961, 0.5166, 0.2517]), tensor([0.2961, 0.5166, 0.2517]), tensor([0.2961, 0.5166, 0.2517]), tensor([0.2961, 0.5166, 0.2517]), tensor([0.2961, 0.5166, 0.2517]), tensor([0.2961, 0.5166, 0.2517]), tensor([0.2961, 0.5166, 0.2517]), tensor([0.2961, 0.5166, 0.2517]), tensor([0.2961, 0.5166, 0.2517]), tensor([0.2961, 0.5166, 0.2517]), tensor([0.2961, 0.5166, 0.2517]), tensor([0.2961, 0.5166, 0.2517]), tensor([0.2961, 0.5166, 0.2517]), tensor([0.2961, 0.5166, 0.2517]), tensor([0.2961, 0.5166, 0.2517]), tensor([0.2961, 0.5166, 0.2517]), tensor([0.2961, 0.5166, 0.2517]), tensor([0.2961, 0.5166, 0.2517]), tensor([0.2961, 0.5166, 0.2517]), tensor([0.2961, 0.5166, 0.2517]), tensor([0.2961, 0.5166, 0.2517]), tensor([0.2961, 0.5166, 0.2517]), tensor([0.2961, 0.5166, 0.2517]), tensor([0.2961, 0.5166, 0.2517]), tensor([0.2961, 0.5166, 0.2517]), tensor([0.2961, 0.5166, 0.2517]), tensor([0.2961, 0.5166, 0.2517]), tensor([0.2961, 0.5166, 0.2517]), tensor([0.2961, 0.5166, 0.2517]), tensor([0.2961, 0.5166, 0.2517]), tensor([0.2961, 0.5166, 0.2517]), tensor([0.2961, 0.5166, 0.2517]), tensor([0.2961, 0.5166, 0.2517]), tensor([0.2961, 0.5166, 0.2517]), tensor([0.2961, 0.5166, 0.2517]), tensor([0.2961, 0.5166, 0.2517]), tensor([0.2961, 0.5166, 0.2517]), tensor([0.2961, 0.5166, 0.2517]), tensor([0.2961, 0.5166, 0.2517]), tensor([0.2961, 0.5166, 0.2517]), tensor([0.2961, 0.5166, 0.2517]), tensor([0.2961, 0.5166, 0.2517]), tensor([0.2961, 0.5166, 0.2517]), tensor([0.2961, 0.5166, 0.2517]), tensor([0.2961, 0.5166, 0.2517]), tensor([0.2961, 0.5166, 0.2517]), tensor([0.2961, 0.5166, 0.2517]), tensor([0.2961, 0.5166, 0.2517]), tensor([0.2961, 0.5166, 0.2517]), tensor([0.2961, 0.5166, 0.2517]), tensor([0.2961, 0.5166, 0.2517]), tensor([0.2961, 0.5166, 0.2517]), tensor([0.2961, 0.5166, 0.2517]), tensor([0.2961, 0.5166, 0.2517]), tensor([0.2961, 0.5166, 0.2517]), tensor([0.2961, 0.5166, 0.2517]), tensor([0.2961, 0.5166, 0.2517]), tensor([0.2961, 0.5166, 0.2517]), tensor([0.2961, 0.5166, 0.2517]), tensor([0.2961, 0.5166, 0.2517]), tensor([0.2961, 0.5166, 0.2517]), tensor([0.2961, 0.5166, 0.2517]), tensor([0.2961, 0.5166, 0.2517]), tensor([0.2961, 0.5166, 0.2517]), tensor([0.2961, 0.5166, 0.2517]), tensor([0.2961, 0.5166, 0.2517]), tensor([0.2961, 0.5166, 0.2517]), tensor([0.2961, 0.5166, 0.2517]), tensor([0.2961, 0.5166, 0.2517]), tensor([0.2961, 0.5166, 0.2517]), tensor([0.2961, 0.5166, 0.2517]), tensor([0.2961, 0.5166, 0.2517]), tensor([0.2961, 0.5166, 0.2517]), tensor([0.2961, 0.5166, 0.2517]), tensor([0.2961, 0.5166, 0.2517]), tensor([0.2961, 0.5166, 0.2517]), tensor([0.2961, 0.5166, 0.2517]), tensor([0.2961, 0.5166, 0.2517]), tensor([0.2961, 0.5166, 0.2517]), tensor([0.2961, 0.5166, 0.2517]), tensor([0.2961, 0.5166, 0.2517]), tensor([0.2961, 0.5166, 0.2517]), tensor([0.2961, 0.5166, 0.2517]), tensor([0.2961, 0.5166, 0.2517]), tensor([0.2961, 0.5166, 0.2517]), tensor([0.2961, 0.5166, 0.2517]), tensor([0.2961, 0.5166, 0.2517]), tensor([0.2961, 0.5166, 0.2517]), tensor([0.2961, 0.5166, 0.2517]), tensor([0.2961, 0.5166, 0.2517]), tensor([0.2961, 0.5166, 0.2517]), tensor([0.2961, 0.5166, 0.2517]), tensor([0.2961, 0.5166, 0.2517]), tensor([0.2961, 0.5166, 0.2517]), tensor([0.2961, 0.5166, 0.2517]), tensor([0.2961, 0.5166, 0.2517]), tensor([0.2961, 0.5166, 0.2517]), tensor([0.2961, 0.5166, 0.2517]), tensor([0.2961, 0.5166, 0.2517]), tensor([0.2961, 0.5166, 0.2517]), tensor([0.2961, 0.5166, 0.2517]), tensor([0.2961, 0.5166, 0.2517]), tensor([0.2961, 0.5166, 0.2517]), tensor([0.2961, 0.5166, 0.2517]), tensor([0.2961, 0.5166, 0.2517]), tensor([0.2961, 0.5166, 0.2517]), tensor([0.2961, 0.5166, 0.2517]), tensor([0.2961, 0.5166, 0.2517]), tensor([0.2961, 0.5166, 0.2517]), tensor([0.2961, 0.5166, 0.2517]), tensor([0.2961, 0.5166, 0.2517]), tensor([0.2961, 0.5166, 0.2517]), tensor([0.2961, 0.5166, 0.2517]), tensor([0.2961, 0.5166, 0.2517]), tensor([0.2961, 0.5166, 0.2517]), tensor([0.2961, 0.5166, 0.2517]), tensor([0.2961, 0.5166, 0.2517]), tensor([0.2961, 0.5166, 0.2517]), tensor([0.2961, 0.5166, 0.2517]), tensor([0.2961, 0.5166, 0.2517]), tensor([0.2961, 0.5166, 0.2517]), tensor([0.2961, 0.5166, 0.2517]), tensor([0.2961, 0.5166, 0.2517]), tensor([0.2961, 0.5166, 0.2517]), tensor([0.2961, 0.5166, 0.2517]), tensor([0.2961, 0.5166, 0.2517]), tensor([0.2961, 0.5166, 0.2517]), tensor([0.2961, 0.5166, 0.2517]), tensor([0.2961, 0.5166, 0.2517]), tensor([0.2961, 0.5166, 0.2517]), tensor([0.2961, 0.5166, 0.2517]), tensor([0.2961, 0.5166, 0.2517]), tensor([0.2961, 0.5166, 0.2517]), tensor([0.2961, 0.5166, 0.2517]), tensor([0.2961, 0.5166, 0.2517]), tensor([0.2961, 0.5166, 0.2517]), tensor([0.2961, 0.5166, 0.2517]), tensor([0.2961, 0.5166, 0.2517]), tensor([0.2961, 0.5166, 0.2517]), tensor([0.2961, 0.5166, 0.2517]), tensor([0.2961, 0.5166, 0.2517]), tensor([0.2961, 0.5166, 0.2517]), tensor([0.2961, 0.5166, 0.2517]), tensor([0.2961, 0.5166, 0.2517]), tensor([0.2961, 0.5166, 0.2517]), tensor([0.2961, 0.5166, 0.2517]), tensor([0.2961, 0.5166, 0.2517]), tensor([0.2961, 0.5166, 0.2517]), tensor([0.2961, 0.5166, 0.2517]), tensor([0.2961, 0.5166, 0.2517]), tensor([0.2961, 0.5166, 0.2517]), tensor([0.2961, 0.5166, 0.2517]), tensor([0.2961, 0.5166, 0.2517]), tensor([0.2961, 0.5166, 0.2517]), tensor([0.2961, 0.5166, 0.2517]), tensor([0.2961, 0.5166, 0.2517]), tensor([0.2961, 0.5166, 0.2517]), tensor([0.2961, 0.5166, 0.2517]), tensor([0.2961, 0.5166, 0.2517]), tensor([0.2961, 0.5166, 0.2517]), tensor([0.2961, 0.5166, 0.2517]), tensor([0.2961, 0.5166, 0.2517]), tensor([0.2961, 0.5166, 0.2517]), tensor([0.2961, 0.5166, 0.2517]), tensor([0.2961, 0.5166, 0.2517]), tensor([0.2961, 0.5166, 0.2517]), tensor([0.2961, 0.5166, 0.2517]), tensor([0.2961, 0.5166, 0.2517]), tensor([0.2961, 0.5166, 0.2517]), tensor([0.2961, 0.5166, 0.2517]), tensor([0.2961, 0.5166, 0.2517]), tensor([0.2961, 0.5166, 0.2517]), tensor([0.2961, 0.5166, 0.2517]), tensor([0.2961, 0.5166, 0.2517]), tensor([0.2961, 0.5166, 0.2517]), tensor([0.2961, 0.5166, 0.2517]), tensor([0.2961, 0.5166, 0.2517]), tensor([0.2961, 0.5166, 0.2517]), tensor([0.2961, 0.5166, 0.2517]), tensor([0.2961, 0.5166, 0.2517]), tensor([0.2961, 0.5166, 0.2517]), tensor([0.2961, 0.5166, 0.2517]), tensor([0.2961, 0.5166, 0.2517]), tensor([0.2961, 0.5166, 0.2517]), tensor([0.2961, 0.5166, 0.2517]), tensor([0.2961, 0.5166, 0.2517]), tensor([0.2961, 0.5166, 0.2517]), tensor([0.2961, 0.5166, 0.2517]), tensor([0.2961, 0.5166, 0.2517]), tensor([0.2961, 0.5166, 0.2517]), tensor([0.2961, 0.5166, 0.2517]), tensor([0.2961, 0.5166, 0.2517]), tensor([0.2961, 0.5166, 0.2517]), tensor([0.2961, 0.5166, 0.2517]), tensor([0.2961, 0.5166, 0.2517]), tensor([0.2961, 0.5166, 0.2517]), tensor([0.2961, 0.5166, 0.2517]), tensor([0.2961, 0.5166, 0.2517]), tensor([0.2961, 0.5166, 0.2517]), tensor([0.2961, 0.5166, 0.2517]), tensor([0.2961, 0.5166, 0.2517]), tensor([0.2961, 0.5166, 0.2517]), tensor([0.2961, 0.5166, 0.2517]), tensor([0.2961, 0.5166, 0.2517]), tensor([0.2961, 0.5166, 0.2517]), tensor([0.2961, 0.5166, 0.2517]), tensor([0.2961, 0.5166, 0.2517]), tensor([0.2961, 0.5166, 0.2517]), tensor([0.2961, 0.5166, 0.2517]), tensor([0.2961, 0.5166, 0.2517]), tensor([0.2961, 0.5166, 0.2517]), tensor([0.2961, 0.5166, 0.2517]), tensor([0.2961, 0.5166, 0.2517]), tensor([0.2961, 0.5166, 0.2517]), tensor([0.2961, 0.5166, 0.2517]), tensor([0.2961, 0.5166, 0.2517]), tensor([0.2961, 0.5166, 0.2517]), tensor([0.2961, 0.5166, 0.2517]), tensor([0.2961, 0.5166, 0.2517]), tensor([0.2961, 0.5166, 0.2517]), tensor([0.2961, 0.5166, 0.2517]), tensor([0.2961, 0.5166, 0.2517]), tensor([0.2961, 0.5166, 0.2517]), tensor([0.2961, 0.5166, 0.2517]), tensor([0.2961, 0.5166, 0.2517]), tensor([0.2961, 0.5166, 0.2517]), tensor([0.2961, 0.5166, 0.2517]), tensor([0.2961, 0.5166, 0.2517]), tensor([0.2961, 0.5166, 0.2517]), tensor([0.2961, 0.5166, 0.2517]), tensor([0.2961, 0.5166, 0.2517]), tensor([0.2961, 0.5166, 0.2517]), tensor([0.2961, 0.5166, 0.2517]), tensor([0.2961, 0.5166, 0.2517]), tensor([0.2961, 0.5166, 0.2517]), tensor([0.2961, 0.5166, 0.2517]), tensor([0.2961, 0.5166, 0.2517]), tensor([0.2961, 0.5166, 0.2517]), tensor([0.2961, 0.5166, 0.2517]), tensor([0.2961, 0.5166, 0.2517]), tensor([0.2961, 0.5166, 0.2517]), tensor([0.2961, 0.5166, 0.2517]), tensor([0.2961, 0.5166, 0.2517]), tensor([0.2961, 0.5166, 0.2517]), tensor([0.2961, 0.5166, 0.2517]), tensor([0.2961, 0.5166, 0.2517]), tensor([0.2961, 0.5166, 0.2517]), tensor([0.2961, 0.5166, 0.2517]), tensor([0.2961, 0.5166, 0.2517]), tensor([0.2961, 0.5166, 0.2517]), tensor([0.2961, 0.5166, 0.2517]), tensor([0.2961, 0.5166, 0.2517]), tensor([0.2961, 0.5166, 0.2517]), tensor([0.2961, 0.5166, 0.2517]), tensor([0.2961, 0.5166, 0.2517]), tensor([0.2961, 0.5166, 0.2517]), tensor([0.2961, 0.5166, 0.2517]), tensor([0.2961, 0.5166, 0.2517]), tensor([0.2961, 0.5166, 0.2517]), tensor([0.2961, 0.5166, 0.2517]), tensor([0.2961, 0.5166, 0.2517]), tensor([0.2961, 0.5166, 0.2517]), tensor([0.2961, 0.5166, 0.2517]), tensor([0.2961, 0.5166, 0.2517]), tensor([0.2961, 0.5166, 0.2517]), tensor([0.2961, 0.5166, 0.2517]), tensor([0.2961, 0.5166, 0.2517]), tensor([0.2961, 0.5166, 0.2517]), tensor([0.2961, 0.5166, 0.2517]), tensor([0.2961, 0.5166, 0.2517]), tensor([0.2961, 0.5166, 0.2517]), tensor([0.2961, 0.5166, 0.2517]), tensor([0.2961, 0.5166, 0.2517]), tensor([0.2961, 0.5166, 0.2517]), tensor([0.2961, 0.5166, 0.2517]), tensor([0.2961, 0.5166, 0.2517]), tensor([0.2961, 0.5166, 0.2517]), tensor([0.2961, 0.5166, 0.2517]), tensor([0.2961, 0.5166, 0.2517]), tensor([0.2961, 0.5166, 0.2517]), tensor([0.2961, 0.5166, 0.2517]), tensor([0.2961, 0.5166, 0.2517]), tensor([0.2961, 0.5166, 0.2517]), tensor([0.2961, 0.5166, 0.2517]), tensor([0.2961, 0.5166, 0.2517]), tensor([0.2961, 0.5166, 0.2517]), tensor([0.2961, 0.5166, 0.2517]), tensor([0.2961, 0.5166, 0.2517]), tensor([0.2961, 0.5166, 0.2517]), tensor([0.2961, 0.5166, 0.2517]), tensor([0.2961, 0.5166, 0.2517]), tensor([0.2961, 0.5166, 0.2517]), tensor([0.2961, 0.5166, 0.2517]), tensor([0.2961, 0.5166, 0.2517]), tensor([0.2961, 0.5166, 0.2517]), tensor([0.2961, 0.5166, 0.2517]), tensor([0.2961, 0.5166, 0.2517]), tensor([0.2961, 0.5166, 0.2517]), tensor([0.2961, 0.5166, 0.2517]), tensor([0.2961, 0.5166, 0.2517]), tensor([0.2961, 0.5166, 0.2517]), tensor([0.2961, 0.5166, 0.2517]), tensor([0.2961, 0.5166, 0.2517]), tensor([0.2961, 0.5166, 0.2517]), tensor([0.2961, 0.5166, 0.2517]), tensor([0.2961, 0.5166, 0.2517]), tensor([0.2961, 0.5166, 0.2517]), tensor([0.2961, 0.5166, 0.2517]), tensor([0.2961, 0.5166, 0.2517]), tensor([0.2961, 0.5166, 0.2517]), tensor([0.2961, 0.5166, 0.2517]), tensor([0.2961, 0.5166, 0.2517]), tensor([0.2961, 0.5166, 0.2517]), tensor([0.2961, 0.5166, 0.2517]), tensor([0.2961, 0.5166, 0.2517]), tensor([0.2961, 0.5166, 0.2517]), tensor([0.2961, 0.5166, 0.2517]), tensor([0.2961, 0.5166, 0.2517]), tensor([0.2961, 0.5166, 0.2517]), tensor([0.2961, 0.5166, 0.2517]), tensor([0.2961, 0.5166, 0.2517]), tensor([0.2961, 0.5166, 0.2517]), tensor([0.2961, 0.5166, 0.2517]), tensor([0.2961, 0.5166, 0.2517]), tensor([0.2961, 0.5166, 0.2517]), tensor([0.2961, 0.5166, 0.2517]), tensor([0.2961, 0.5166, 0.2517]), tensor([0.2961, 0.5166, 0.2517]), tensor([0.2961, 0.5166, 0.2517]), tensor([0.2961, 0.5166, 0.2517]), tensor([0.2961, 0.5166, 0.2517]), tensor([0.2961, 0.5166, 0.2517]), tensor([0.2961, 0.5166, 0.2517]), tensor([0.2961, 0.5166, 0.2517]), tensor([0.2961, 0.5166, 0.2517]), tensor([0.2961, 0.5166, 0.2517]), tensor([0.2961, 0.5166, 0.2517]), tensor([0.2961, 0.5166, 0.2517]), tensor([0.2961, 0.5166, 0.2517]), tensor([0.2961, 0.5166, 0.2517]), tensor([0.2961, 0.5166, 0.2517]), tensor([0.2961, 0.5166, 0.2517]), tensor([0.2961, 0.5166, 0.2517]), tensor([0.2961, 0.5166, 0.2517]), tensor([0.2961, 0.5166, 0.2517]), tensor([0.2961, 0.5166, 0.2517]), tensor([0.2961, 0.5166, 0.2517]), tensor([0.2961, 0.5166, 0.2517]), tensor([0.2961, 0.5166, 0.2517]), tensor([0.2961, 0.5166, 0.2517]), tensor([0.2961, 0.5166, 0.2517]), tensor([0.2961, 0.5166, 0.2517]), tensor([0.2961, 0.5166, 0.2517]), tensor([0.2961, 0.5166, 0.2517]), tensor([0.2961, 0.5166, 0.2517]), tensor([0.2961, 0.5166, 0.2517]), tensor([0.2961, 0.5166, 0.2517]), tensor([0.2961, 0.5166, 0.2517]), tensor([0.2961, 0.5166, 0.2517]), tensor([0.2961, 0.5166, 0.2517]), tensor([0.2961, 0.5166, 0.2517]), tensor([0.2961, 0.5166, 0.2517]), tensor([0.2961, 0.5166, 0.2517]), tensor([0.2961, 0.5166, 0.2517]), tensor([0.2961, 0.5166, 0.2517]), tensor([0.2961, 0.5166, 0.2517]), tensor([0.2961, 0.5166, 0.2517]), tensor([0.2961, 0.5166, 0.2517]), tensor([0.2961, 0.5166, 0.2517]), tensor([0.2961, 0.5166, 0.2517]), tensor([0.2961, 0.5166, 0.2517]), tensor([0.2961, 0.5166, 0.2517]), tensor([0.2961, 0.5166, 0.2517]), tensor([0.2961, 0.5166, 0.2517]), tensor([0.2961, 0.5166, 0.2517]), tensor([0.2961, 0.5166, 0.2517]), tensor([0.2961, 0.5166, 0.2517]), tensor([0.2961, 0.5166, 0.2517]), tensor([0.2961, 0.5166, 0.2517]), tensor([0.2961, 0.5166, 0.2517]), tensor([0.2961, 0.5166, 0.2517]), tensor([0.2961, 0.5166, 0.2517]), tensor([0.2961, 0.5166, 0.2517]), tensor([0.2961, 0.5166, 0.2517]), tensor([0.2961, 0.5166, 0.2517]), tensor([0.2961, 0.5166, 0.2517]), tensor([0.2961, 0.5166, 0.2517]), tensor([0.2961, 0.5166, 0.2517]), tensor([0.2961, 0.5166, 0.2517]), tensor([0.2961, 0.5166, 0.2517]), tensor([0.2961, 0.5166, 0.2517]), tensor([0.2961, 0.5166, 0.2517]), tensor([0.2961, 0.5166, 0.2517]), tensor([0.2961, 0.5166, 0.2517]), tensor([0.2961, 0.5166, 0.2517]), tensor([0.2961, 0.5166, 0.2517]), tensor([0.2961, 0.5166, 0.2517]), tensor([0.2961, 0.5166, 0.2517]), tensor([0.2961, 0.5166, 0.2517]), tensor([0.2961, 0.5166, 0.2517]), tensor([0.2961, 0.5166, 0.2517]), tensor([0.2961, 0.5166, 0.2517]), tensor([0.2961, 0.5166, 0.2517]), tensor([0.2961, 0.5166, 0.2517]), tensor([0.2961, 0.5166, 0.2517]), tensor([0.2961, 0.5166, 0.2517]), tensor([0.2961, 0.5166, 0.2517]), tensor([0.2961, 0.5166, 0.2517]), tensor([0.2961, 0.5166, 0.2517]), tensor([0.2961, 0.5166, 0.2517]), tensor([0.2961, 0.5166, 0.2517]), tensor([0.2961, 0.5166, 0.2517]), tensor([0.2961, 0.5166, 0.2517]), tensor([0.2961, 0.5166, 0.2517]), tensor([0.2961, 0.5166, 0.2517]), tensor([0.2961, 0.5166, 0.2517]), tensor([0.2961, 0.5166, 0.2517]), tensor([0.2961, 0.5166, 0.2517]), tensor([0.2961, 0.5166, 0.2517]), tensor([0.2961, 0.5166, 0.2517]), tensor([0.2961, 0.5166, 0.2517]), tensor([0.2961, 0.5166, 0.2517]), tensor([0.2961, 0.5166, 0.2517]), tensor([0.2961, 0.5166, 0.2517]), tensor([0.2961, 0.5166, 0.2517]), tensor([0.2961, 0.5166, 0.2517]), tensor([0.2961, 0.5166, 0.2517]), tensor([0.2961, 0.5166, 0.2517]), tensor([0.2961, 0.5166, 0.2517]), tensor([0.2961, 0.5166, 0.2517]), tensor([0.2961, 0.5166, 0.2517]), tensor([0.2961, 0.5166, 0.2517]), tensor([0.2961, 0.5166, 0.2517]), tensor([0.2961, 0.5166, 0.2517]), tensor([0.2961, 0.5166, 0.2517]), tensor([0.2961, 0.5166, 0.2517]), tensor([0.2961, 0.5166, 0.2517]), tensor([0.2961, 0.5166, 0.2517]), tensor([0.2961, 0.5166, 0.2517]), tensor([0.2961, 0.5166, 0.2517]), tensor([0.2961, 0.5166, 0.2517]), tensor([0.2961, 0.5166, 0.2517]), tensor([0.2961, 0.5166, 0.2517]), tensor([0.2961, 0.5166, 0.2517]), tensor([0.2961, 0.5166, 0.2517]), tensor([0.2961, 0.5166, 0.2517]), tensor([0.2961, 0.5166, 0.2517]), tensor([0.2961, 0.5166, 0.2517]), tensor([0.2961, 0.5166, 0.2517]), tensor([0.2961, 0.5166, 0.2517]), tensor([0.2961, 0.5166, 0.2517]), tensor([0.2961, 0.5166, 0.2517]), tensor([0.2961, 0.5166, 0.2517]), tensor([0.2961, 0.5166, 0.2517]), tensor([0.2961, 0.5166, 0.2517]), tensor([0.2961, 0.5166, 0.2517]), tensor([0.2961, 0.5166, 0.2517]), tensor([0.2961, 0.5166, 0.2517]), tensor([0.2961, 0.5166, 0.2517]), tensor([0.2961, 0.5166, 0.2517]), tensor([0.2961, 0.5166, 0.2517]), tensor([0.2961, 0.5166, 0.2517]), tensor([0.2961, 0.5166, 0.2517]), tensor([0.2961, 0.5166, 0.2517]), tensor([0.2961, 0.5166, 0.2517]), tensor([0.2961, 0.5166, 0.2517]), tensor([0.2961, 0.5166, 0.2517]), tensor([0.2961, 0.5166, 0.2517]), tensor([0.2961, 0.5166, 0.2517]), tensor([0.2961, 0.5166, 0.2517]), tensor([0.2961, 0.5166, 0.2517]), tensor([0.2961, 0.5166, 0.2517]), tensor([0.2961, 0.5166, 0.2517]), tensor([0.2961, 0.5166, 0.2517]), tensor([0.2961, 0.5166, 0.2517]), tensor([0.2961, 0.5166, 0.2517]), tensor([0.2961, 0.5166, 0.2517]), tensor([0.2961, 0.5166, 0.2517]), tensor([0.2961, 0.5166, 0.2517]), tensor([0.2961, 0.5166, 0.2517]), tensor([0.2961, 0.5166, 0.2517]), tensor([0.2961, 0.5166, 0.2517]), tensor([0.2961, 0.5166, 0.2517]), tensor([0.2961, 0.5166, 0.2517]), tensor([0.2961, 0.5166, 0.2517]), tensor([0.2961, 0.5166, 0.2517]), tensor([0.2961, 0.5166, 0.2517]), tensor([0.2961, 0.5166, 0.2517]), tensor([0.2961, 0.5166, 0.2517]), tensor([0.2961, 0.5166, 0.2517]), tensor([0.2961, 0.5166, 0.2517]), tensor([0.2961, 0.5166, 0.2517]), tensor([0.2961, 0.5166, 0.2517]), tensor([0.2961, 0.5166, 0.2517]), tensor([0.2961, 0.5166, 0.2517]), tensor([0.2961, 0.5166, 0.2517]), tensor([0.2961, 0.5166, 0.2517]), tensor([0.2961, 0.5166, 0.2517]), tensor([0.2961, 0.5166, 0.2517]), tensor([0.2961, 0.5166, 0.2517]), tensor([0.2961, 0.5166, 0.2517]), tensor([0.2961, 0.5166, 0.2517]), tensor([0.2961, 0.5166, 0.2517]), tensor([0.2961, 0.5166, 0.2517]), tensor([0.2961, 0.5166, 0.2517]), tensor([0.2961, 0.5166, 0.2517]), tensor([0.2961, 0.5166, 0.2517]), tensor([0.2961, 0.5166, 0.2517]), tensor([0.2961, 0.5166, 0.2517]), tensor([0.2961, 0.5166, 0.2517]), tensor([0.2961, 0.5166, 0.2517]), tensor([0.2961, 0.5166, 0.2517]), tensor([0.2961, 0.5166, 0.2517]), tensor([0.2961, 0.5166, 0.2517]), tensor([0.2961, 0.5166, 0.2517]), tensor([0.2961, 0.5166, 0.2517]), tensor([0.2961, 0.5166, 0.2517]), tensor([0.2961, 0.5166, 0.2517]), tensor([0.2961, 0.5166, 0.2517]), tensor([0.2961, 0.5166, 0.2517]), tensor([0.2961, 0.5166, 0.2517]), tensor([0.2961, 0.5166, 0.2517]), tensor([0.2961, 0.5166, 0.2517]), tensor([0.2961, 0.5166, 0.2517]), tensor([0.2961, 0.5166, 0.2517]), tensor([0.2961, 0.5166, 0.2517]), tensor([0.2961, 0.5166, 0.2517]), tensor([0.2961, 0.5166, 0.2517]), tensor([0.2961, 0.5166, 0.2517]), tensor([0.2961, 0.5166, 0.2517]), tensor([0.2961, 0.5166, 0.2517]), tensor([0.2961, 0.5166, 0.2517]), tensor([0.2961, 0.5166, 0.2517]), tensor([0.2961, 0.5166, 0.2517]), tensor([0.2961, 0.5166, 0.2517]), tensor([0.2961, 0.5166, 0.2517]), tensor([0.2961, 0.5166, 0.2517]), tensor([0.2961, 0.5166, 0.2517]), tensor([0.2961, 0.5166, 0.2517]), tensor([0.2961, 0.5166, 0.2517]), tensor([0.2961, 0.5166, 0.2517]), tensor([0.2961, 0.5166, 0.2517]), tensor([0.2961, 0.5166, 0.2517]), tensor([0.2961, 0.5166, 0.2517]), tensor([0.2961, 0.5166, 0.2517]), tensor([0.2961, 0.5166, 0.2517]), tensor([0.2961, 0.5166, 0.2517]), tensor([0.2961, 0.5166, 0.2517]), tensor([0.2961, 0.5166, 0.2517]), tensor([0.2961, 0.5166, 0.2517]), tensor([0.2961, 0.5166, 0.2517]), tensor([0.2961, 0.5166, 0.2517]), tensor([0.2961, 0.5166, 0.2517]), tensor([0.2961, 0.5166, 0.2517]), tensor([0.2961, 0.5166, 0.2517]), tensor([0.2961, 0.5166, 0.2517]), tensor([0.2961, 0.5166, 0.2517]), tensor([0.2961, 0.5166, 0.2517]), tensor([0.2961, 0.5166, 0.2517]), tensor([0.2961, 0.5166, 0.2517]), tensor([0.2961, 0.5166, 0.2517]), tensor([0.2961, 0.5166, 0.2517]), tensor([0.2961, 0.5166, 0.2517]), tensor([0.2961, 0.5166, 0.2517]), tensor([0.2961, 0.5166, 0.2517]), tensor([0.2961, 0.5166, 0.2517]), tensor([0.2961, 0.5166, 0.2517]), tensor([0.2961, 0.5166, 0.2517]), tensor([0.2961, 0.5166, 0.2517]), tensor([0.2961, 0.5166, 0.2517]), tensor([0.2961, 0.5166, 0.2517]), tensor([0.2961, 0.5166, 0.2517]), tensor([0.2961, 0.5166, 0.2517]), tensor([0.2961, 0.5166, 0.2517]), tensor([0.2961, 0.5166, 0.2517]), tensor([0.2961, 0.5166, 0.2517]), tensor([0.2961, 0.5166, 0.2517]), tensor([0.2961, 0.5166, 0.2517]), tensor([0.2961, 0.5166, 0.2517]), tensor([0.2961, 0.5166, 0.2517]), tensor([0.2961, 0.5166, 0.2517]), tensor([0.2961, 0.5166, 0.2517]), tensor([0.2961, 0.5166, 0.2517]), tensor([0.2961, 0.5166, 0.2517]), tensor([0.2961, 0.5166, 0.2517]), tensor([0.2961, 0.5166, 0.2517]), tensor([0.2961, 0.5166, 0.2517]), tensor([0.2961, 0.5166, 0.2517]), tensor([0.2961, 0.5166, 0.2517]), tensor([0.2961, 0.5166, 0.2517]), tensor([0.2961, 0.5166, 0.2517]), tensor([0.2961, 0.5166, 0.2517]), tensor([0.2961, 0.5166, 0.2517]), tensor([0.2961, 0.5166, 0.2517]), tensor([0.2961, 0.5166, 0.2517]), tensor([0.2961, 0.5166, 0.2517]), tensor([0.2961, 0.5166, 0.2517]), tensor([0.2961, 0.5166, 0.2517]), tensor([0.2961, 0.5166, 0.2517]), tensor([0.2961, 0.5166, 0.2517]), tensor([0.2961, 0.5166, 0.2517]), tensor([0.2961, 0.5166, 0.2517]), tensor([0.2961, 0.5166, 0.2517]), tensor([0.2961, 0.5166, 0.2517]), tensor([0.2961, 0.5166, 0.2517]), tensor([0.2961, 0.5166, 0.2517]), tensor([0.2961, 0.5166, 0.2517]), tensor([0.2961, 0.5166, 0.2517]), tensor([0.2961, 0.5166, 0.2517]), tensor([0.2961, 0.5166, 0.2517]), tensor([0.2961, 0.5166, 0.2517]), tensor([0.2961, 0.5166, 0.2517]), tensor([0.2961, 0.5166, 0.2517]), tensor([0.2961, 0.5166, 0.2517]), tensor([0.2961, 0.5166, 0.2517]), tensor([0.2961, 0.5166, 0.2517]), tensor([0.2961, 0.5166, 0.2517]), tensor([0.2961, 0.5166, 0.2517]), tensor([0.2961, 0.5166, 0.2517]), tensor([0.2961, 0.5166, 0.2517]), tensor([0.2961, 0.5166, 0.2517]), tensor([0.2961, 0.5166, 0.2517]), tensor([0.2961, 0.5166, 0.2517]), tensor([0.2961, 0.5166, 0.2517]), tensor([0.2961, 0.5166, 0.2517]), tensor([0.2961, 0.5166, 0.2517]), tensor([0.2961, 0.5166, 0.2517]), tensor([0.2961, 0.5166, 0.2517]), tensor([0.2961, 0.5166, 0.2517]), tensor([0.2961, 0.5166, 0.2517]), tensor([0.2961, 0.5166, 0.2517]), tensor([0.2961, 0.5166, 0.2517]), tensor([0.2961, 0.5166, 0.2517]), tensor([0.2961, 0.5166, 0.2517]), tensor([0.2961, 0.5166, 0.2517]), tensor([0.2961, 0.5166, 0.2517]), tensor([0.2961, 0.5166, 0.2517]), tensor([0.2961, 0.5166, 0.2517]), tensor([0.2961, 0.5166, 0.2517]), tensor([0.2961, 0.5166, 0.2517]), tensor([0.2961, 0.5166, 0.2517]), tensor([0.2961, 0.5166, 0.2517]), tensor([0.2961, 0.5166, 0.2517]), tensor([0.2961, 0.5166, 0.2517]), tensor([0.2961, 0.5166, 0.2517]), tensor([0.2961, 0.5166, 0.2517]), tensor([0.2961, 0.5166, 0.2517]), tensor([0.2961, 0.5166, 0.2517]), tensor([0.2961, 0.5166, 0.2517]), tensor([0.2961, 0.5166, 0.2517]), tensor([0.2961, 0.5166, 0.2517]), tensor([0.2961, 0.5166, 0.2517]), tensor([0.2961, 0.5166, 0.2517]), tensor([0.2961, 0.5166, 0.2517]), tensor([0.2961, 0.5166, 0.2517]), tensor([0.2961, 0.5166, 0.2517]), tensor([0.2961, 0.5166, 0.2517]), tensor([0.2961, 0.5166, 0.2517]), tensor([0.2961, 0.5166, 0.2517]), tensor([0.2961, 0.5166, 0.2517]), tensor([0.2961, 0.5166, 0.2517]), tensor([0.2961, 0.5166, 0.2517]), tensor([0.2961, 0.5166, 0.2517]), tensor([0.2961, 0.5166, 0.2517]), tensor([0.2961, 0.5166, 0.2517]), tensor([0.2961, 0.5166, 0.2517]), tensor([0.2961, 0.5166, 0.2517]), tensor([0.2961, 0.5166, 0.2517]), tensor([0.2961, 0.5166, 0.2517]), tensor([0.2961, 0.5166, 0.2517]), tensor([0.2961, 0.5166, 0.2517]), tensor([0.2961, 0.5166, 0.2517]), tensor([0.2961, 0.5166, 0.2517]), tensor([0.2961, 0.5166, 0.2517]), tensor([0.2961, 0.5166, 0.2517]), tensor([0.2961, 0.5166, 0.2517]), tensor([0.2961, 0.5166, 0.2517]), tensor([0.2961, 0.5166, 0.2517]), tensor([0.2961, 0.5166, 0.2517]), tensor([0.2961, 0.5166, 0.2517])]\n"
     ]
    }
   ],
   "source": [
    "print(params_hmc)"
   ]
  },
  {
   "cell_type": "code",
   "execution_count": null,
   "metadata": {},
   "outputs": [],
   "source": []
  }
 ],
 "metadata": {
  "kernelspec": {
   "display_name": "Python 3",
   "language": "python",
   "name": "python3"
  },
  "language_info": {
   "codemirror_mode": {
    "name": "ipython",
    "version": 3
   },
   "file_extension": ".py",
   "mimetype": "text/x-python",
   "name": "python",
   "nbconvert_exporter": "python",
   "pygments_lexer": "ipython3",
   "version": "3.7.7"
  }
 },
 "nbformat": 4,
 "nbformat_minor": 4
}
