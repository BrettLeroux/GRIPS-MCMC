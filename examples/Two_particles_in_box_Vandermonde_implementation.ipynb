{
 "cells": [
  {
   "cell_type": "code",
   "execution_count": 1,
   "metadata": {},
   "outputs": [
    {
     "ename": "ImportError",
     "evalue": "cannot import name 'TwoparticlesInBoxVandermonde' from 'qmc.wavefunction' (/mnt/c/Users/alber/Documents/GRIPS/curry/GRIPS-MCMC/qmc/wavefunction.py)",
     "output_type": "error",
     "traceback": [
      "\u001b[0;31m---------------------------------------------------------\u001b[0m",
      "\u001b[0;31mImportError\u001b[0m             Traceback (most recent call last)",
      "\u001b[0;32m<ipython-input-1-ec7ab9d79fc3>\u001b[0m in \u001b[0;36m<module>\u001b[0;34m\u001b[0m\n\u001b[1;32m      3\u001b[0m \u001b[0;32mimport\u001b[0m \u001b[0mmatplotlib\u001b[0m\u001b[0;34m.\u001b[0m\u001b[0mpyplot\u001b[0m \u001b[0;32mas\u001b[0m \u001b[0mplt\u001b[0m\u001b[0;34m\u001b[0m\u001b[0;34m\u001b[0m\u001b[0m\n\u001b[1;32m      4\u001b[0m \u001b[0;32mfrom\u001b[0m \u001b[0mqmc\u001b[0m\u001b[0;34m.\u001b[0m\u001b[0mmcmc\u001b[0m \u001b[0;32mimport\u001b[0m \u001b[0mmetropolis_symmetric\u001b[0m\u001b[0;34m,\u001b[0m \u001b[0mClipNormalProposal\u001b[0m\u001b[0;34m\u001b[0m\u001b[0;34m\u001b[0m\u001b[0m\n\u001b[0;32m----> 5\u001b[0;31m \u001b[0;32mfrom\u001b[0m \u001b[0mqmc\u001b[0m\u001b[0;34m.\u001b[0m\u001b[0mwavefunction\u001b[0m \u001b[0;32mimport\u001b[0m \u001b[0mTwoparticlesInBoxVandermonde\u001b[0m \u001b[0;32mas\u001b[0m \u001b[0mtwvan\u001b[0m\u001b[0;34m\u001b[0m\u001b[0;34m\u001b[0m\u001b[0m\n\u001b[0m\u001b[1;32m      6\u001b[0m \u001b[0;34m\u001b[0m\u001b[0m\n\u001b[1;32m      7\u001b[0m \u001b[0;34m\u001b[0m\u001b[0m\n",
      "\u001b[0;31mImportError\u001b[0m: cannot import name 'TwoparticlesInBoxVandermonde' from 'qmc.wavefunction' (/mnt/c/Users/alber/Documents/GRIPS/curry/GRIPS-MCMC/qmc/wavefunction.py)"
     ]
    }
   ],
   "source": [
    "# %%\n",
    "import torch\n",
    "import matplotlib.pyplot as plt\n",
    "from qmc.mcmc import metropolis_symmetric, ClipNormalProposal\n",
    "from qmc.wavefunction import TwoparticlesInBoxVandermonde as twvan\n",
    "\n",
    "\n",
    "Tdat = [0.86, 0.9, 1, 2]\n",
    "a = torch.tensor(Tdat)\n",
    "# a = torch.ones(2)\n",
    "\n",
    "tf = twoinone(a)\n",
    "\n",
    "#\n",
    "n_walkers=10\n",
    "\n",
    "#init_config = torch.ones(n_walkers,2)*0.5\n",
    "#results = metropolis_symmetric(tf, init_config, ClipNormalProposal(sigma=0.001, min_val=0.1, max_val=0.45), num_walkers=n_walkers, num_steps=10000)\n",
    "\n",
    "\n",
    "init_config = 0.1*torch.ones(n_walkers,2)\n",
    "results = metropolis_symmetric(tf, init_config, ClipNormalProposal(sigma=0.01, min_val=-1, max_val=1), num_walkers=n_walkers, num_steps=10000)\n",
    "\n",
    "#init_config = torch.rand(n_walkers,2)\n",
    "#results = metropolis_symmetric(tf, init_config, ClipNormalProposal(sigma=0.05, num_walkers=n_walkers, num_steps=10000)\n",
    "\n",
    "\n",
    "# %%\n",
    "#results_numpy  = results.view(-1,3).numpy()\n",
    "# %%\n",
    "\n",
    "# %%\n",
    "#plt.scatter(results_numpy[:,0],results_numpy[:,1], s=1)\n",
    "#plt.savefig(\"box.png\")samples[:, 1000:, :]\n",
    "\n",
    "print(results)\n",
    "\n",
    "print('configurations producing nan local energies are', results[torch.isnan(tf.local_energy(results))])\n",
    "\n",
    "print(torch.mean(tf.local_energy(results)))\n",
    "\n",
    "\n",
    "      \n"
   ]
  },
  {
   "cell_type": "code",
   "execution_count": null,
   "metadata": {},
   "outputs": [],
   "source": []
  }
 ],
 "metadata": {
  "kernelspec": {
   "display_name": "Python 3",
   "language": "python",
   "name": "python3"
  },
  "language_info": {
   "codemirror_mode": {
    "name": "ipython",
    "version": 3
   },
   "file_extension": ".py",
   "mimetype": "text/x-python",
   "name": "python",
   "nbconvert_exporter": "python",
   "pygments_lexer": "ipython3",
   "version": "3.8.2"
  }
 },
 "nbformat": 4,
 "nbformat_minor": 4
}
